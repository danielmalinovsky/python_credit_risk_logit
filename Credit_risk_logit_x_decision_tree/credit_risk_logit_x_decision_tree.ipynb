{
 "cells": [
  {
   "cell_type": "markdown",
   "metadata": {
    "id": "1flqOK_JCjSo"
   },
   "source": [
    "# Predicting Default likelihood of bank clients\n",
    "Hello!\n",
    "This is code made by Dan and Jan on Default prediction using Logistic Regression and Random Forrest. We made sure to prrof read and double check this code to run on difference device from our own.\n",
    "However! If you run into any issues, please do not hesitate to contact us on our school emails:\n",
    "- Dan: mald07@vse.cz\n",
    "- Jan: hybj00@vse.cz\n",
    "\n",
    "Happy reviewing :) \n",
    "\n",
    "### **Code overview**\n",
    "This report is broken to four sections\n",
    "\n",
    "\n",
    "1.   Testing Age as single variable predicting likelihood of clients default\n",
    "2.   Testing All variable for significance to model clients default likelyhood\n",
    "3.   Composing model out of significant variables\n",
    "4.   Random forrest model\n",
    "\n",
    "\n",
    "\n"
   ]
  },
  {
   "cell_type": "markdown",
   "metadata": {
    "id": "JOt4-IRHDVM_"
   },
   "source": [
    "**1. Testing Age as single variable predicting likelihood of clients default**\n",
    "- intuitively we suppose that age will be major driver of the clients default likelihood\n",
    "- however age as mere quantitative variable can be misleading\n",
    "- we focus on default ratio per given age group\n",
    "- age groups with default ratio higher than 50% are the flagged as risky age group\n",
    "- risky age group flag serves as factor variable (dummy variable) rather than mere quantitative variable\n"
   ]
  },
  {
   "cell_type": "markdown",
   "metadata": {
    "id": "S3j28jxbELV3"
   },
   "source": [
    "**2. Testing All variable for significance in clients default likelihood model**\n",
    "- in second module we attempt to identify significant variables\n",
    "- model includiing all variable is done and additional significance testing is used to identify redundant variables"
   ]
  },
  {
   "cell_type": "markdown",
   "metadata": {
    "id": "4zVHkf2EEtRU"
   },
   "source": [
    "**3. Composing model out of significant variables**\n",
    "- once relevant variable are identified a model constructed\n",
    "- model is compared to previous models (all variables model and single variable model)\n"
   ]
  },
  {
   "cell_type": "markdown",
   "metadata": {
    "id": "5TPVBj6SFP3e"
   },
   "source": [
    "**4. Random Forrest model**\n",
    "- Finally random forrest model is composed and analysed\n",
    "- Logistic Regression and Random forrest models are compared"
   ]
  },
  {
   "cell_type": "markdown",
   "metadata": {
    "id": "Ka6yCJViY68p"
   },
   "source": [
    "# **0. Loading, Checking and Cleaning data**"
   ]
  },
  {
   "cell_type": "code",
   "execution_count": 36,
   "metadata": {
    "colab": {
     "base_uri": "https://localhost:8080/"
    },
    "executionInfo": {
     "elapsed": 754,
     "status": "ok",
     "timestamp": 1649602374388,
     "user": {
      "displayName": "Daniel Malinovský",
      "userId": "02049496699663143405"
     },
     "user_tz": -120
    },
    "id": "a1AR4Ddi9irZ",
    "outputId": "4da53a8a-cb64-451f-9250-874d46634c0c"
   },
   "outputs": [
    {
     "name": "stdout",
     "output_type": "stream",
     "text": [
      "     Loan term  Loan Amount  Year of application  Year of birth    City  \\\n",
      "0           36       2384.0                 2012           1979  Prague   \n",
      "1           12       3499.0                 2015           1986    Brno   \n",
      "2            9        918.0                 2014           1984  Prague   \n",
      "3            9       1501.0                 2010           1976    Brno   \n",
      "4           12       1555.0                 2017           1962    Brno   \n",
      "..         ...          ...                  ...            ...     ...   \n",
      "995         12       3059.0                 2019           1958  Prague   \n",
      "996         30       7596.0                 2020           1957  Prague   \n",
      "997         30       4811.0                 2019           1995  Prague   \n",
      "998          9       1199.0                 2010           2043    Brno   \n",
      "999         36       2862.0                 2010           1980  Prague   \n",
      "\n",
      "     Gender   Education  DEFAULT  \n",
      "0    Female     Primary        1  \n",
      "1    Female     Primary        0  \n",
      "2    Female     Primary        1  \n",
      "3    Female     Primary        0  \n",
      "4    Female   Secondary        0  \n",
      "..      ...         ...      ...  \n",
      "995  Female  University        0  \n",
      "996  Female  University        1  \n",
      "997  Female     Primary        1  \n",
      "998    Male   Secondary        1  \n",
      "999  Female  University        0  \n",
      "\n",
      "[1000 rows x 8 columns]\n"
     ]
    }
   ],
   "source": [
    "from pandas.io.parsers.readers import read_csv\n",
    "import pandas as pd\n",
    "data_raw = pd.read_csv('data.csv', sep = ';')\n",
    "print(data_raw)"
   ]
  },
  {
   "cell_type": "code",
   "execution_count": 37,
   "metadata": {
    "colab": {
     "base_uri": "https://localhost:8080/",
     "height": 206
    },
    "executionInfo": {
     "elapsed": 5,
     "status": "ok",
     "timestamp": 1649602376816,
     "user": {
      "displayName": "Daniel Malinovský",
      "userId": "02049496699663143405"
     },
     "user_tz": -120
    },
    "id": "tUwSO5p8_2BX",
    "outputId": "62bd7d63-61a1-4fe3-d3db-81514354066b"
   },
   "outputs": [
    {
     "data": {
      "text/html": [
       "<div>\n",
       "<style scoped>\n",
       "    .dataframe tbody tr th:only-of-type {\n",
       "        vertical-align: middle;\n",
       "    }\n",
       "\n",
       "    .dataframe tbody tr th {\n",
       "        vertical-align: top;\n",
       "    }\n",
       "\n",
       "    .dataframe thead th {\n",
       "        text-align: right;\n",
       "    }\n",
       "</style>\n",
       "<table border=\"1\" class=\"dataframe\">\n",
       "  <thead>\n",
       "    <tr style=\"text-align: right;\">\n",
       "      <th></th>\n",
       "      <th>Loan term</th>\n",
       "      <th>Loan Amount</th>\n",
       "      <th>Year of application</th>\n",
       "      <th>Year of birth</th>\n",
       "      <th>City</th>\n",
       "      <th>Gender</th>\n",
       "      <th>Education</th>\n",
       "      <th>DEFAULT</th>\n",
       "    </tr>\n",
       "  </thead>\n",
       "  <tbody>\n",
       "    <tr>\n",
       "      <th>0</th>\n",
       "      <td>36</td>\n",
       "      <td>2384.0</td>\n",
       "      <td>2012</td>\n",
       "      <td>1979</td>\n",
       "      <td>Prague</td>\n",
       "      <td>Female</td>\n",
       "      <td>Primary</td>\n",
       "      <td>1</td>\n",
       "    </tr>\n",
       "    <tr>\n",
       "      <th>1</th>\n",
       "      <td>12</td>\n",
       "      <td>3499.0</td>\n",
       "      <td>2015</td>\n",
       "      <td>1986</td>\n",
       "      <td>Brno</td>\n",
       "      <td>Female</td>\n",
       "      <td>Primary</td>\n",
       "      <td>0</td>\n",
       "    </tr>\n",
       "    <tr>\n",
       "      <th>2</th>\n",
       "      <td>9</td>\n",
       "      <td>918.0</td>\n",
       "      <td>2014</td>\n",
       "      <td>1984</td>\n",
       "      <td>Prague</td>\n",
       "      <td>Female</td>\n",
       "      <td>Primary</td>\n",
       "      <td>1</td>\n",
       "    </tr>\n",
       "    <tr>\n",
       "      <th>3</th>\n",
       "      <td>9</td>\n",
       "      <td>1501.0</td>\n",
       "      <td>2010</td>\n",
       "      <td>1976</td>\n",
       "      <td>Brno</td>\n",
       "      <td>Female</td>\n",
       "      <td>Primary</td>\n",
       "      <td>0</td>\n",
       "    </tr>\n",
       "    <tr>\n",
       "      <th>4</th>\n",
       "      <td>12</td>\n",
       "      <td>1555.0</td>\n",
       "      <td>2017</td>\n",
       "      <td>1962</td>\n",
       "      <td>Brno</td>\n",
       "      <td>Female</td>\n",
       "      <td>Secondary</td>\n",
       "      <td>0</td>\n",
       "    </tr>\n",
       "  </tbody>\n",
       "</table>\n",
       "</div>"
      ],
      "text/plain": [
       "   Loan term  Loan Amount  Year of application  Year of birth    City  Gender  \\\n",
       "0         36       2384.0                 2012           1979  Prague  Female   \n",
       "1         12       3499.0                 2015           1986    Brno  Female   \n",
       "2          9        918.0                 2014           1984  Prague  Female   \n",
       "3          9       1501.0                 2010           1976    Brno  Female   \n",
       "4         12       1555.0                 2017           1962    Brno  Female   \n",
       "\n",
       "   Education  DEFAULT  \n",
       "0    Primary        1  \n",
       "1    Primary        0  \n",
       "2    Primary        1  \n",
       "3    Primary        0  \n",
       "4  Secondary        0  "
      ]
     },
     "execution_count": 37,
     "metadata": {},
     "output_type": "execute_result"
    }
   ],
   "source": [
    "import numpy as np\n",
    "\n",
    "data_raw.head()"
   ]
  },
  {
   "cell_type": "markdown",
   "metadata": {
    "id": "IFt79V0bZOW2"
   },
   "source": [
    "**NA analysis**"
   ]
  },
  {
   "cell_type": "code",
   "execution_count": 38,
   "metadata": {
    "colab": {
     "base_uri": "https://localhost:8080/"
    },
    "executionInfo": {
     "elapsed": 6,
     "status": "ok",
     "timestamp": 1649602379482,
     "user": {
      "displayName": "Daniel Malinovský",
      "userId": "02049496699663143405"
     },
     "user_tz": -120
    },
    "id": "XdJVjrHaEclC",
    "outputId": "eb1d272b-74e7-4002-884e-cd0ef893284f"
   },
   "outputs": [
    {
     "data": {
      "text/plain": [
       "Loan term               0\n",
       "Loan Amount             4\n",
       "Year of application     0\n",
       "Year of birth           0\n",
       "City                   52\n",
       "Gender                  0\n",
       "Education               0\n",
       "DEFAULT                 0\n",
       "dtype: int64"
      ]
     },
     "execution_count": 38,
     "metadata": {},
     "output_type": "execute_result"
    }
   ],
   "source": [
    "data_raw.isna().sum()"
   ]
  },
  {
   "cell_type": "code",
   "execution_count": 39,
   "metadata": {
    "colab": {
     "base_uri": "https://localhost:8080/",
     "height": 1000
    },
    "executionInfo": {
     "elapsed": 7,
     "status": "ok",
     "timestamp": 1649602382609,
     "user": {
      "displayName": "Daniel Malinovský",
      "userId": "02049496699663143405"
     },
     "user_tz": -120
    },
    "id": "KttN9KBLEXtW",
    "outputId": "1c7b55c8-a394-48a4-9d76-227e1fed0833"
   },
   "outputs": [
    {
     "data": {
      "text/html": [
       "<div>\n",
       "<style scoped>\n",
       "    .dataframe tbody tr th:only-of-type {\n",
       "        vertical-align: middle;\n",
       "    }\n",
       "\n",
       "    .dataframe tbody tr th {\n",
       "        vertical-align: top;\n",
       "    }\n",
       "\n",
       "    .dataframe thead th {\n",
       "        text-align: right;\n",
       "    }\n",
       "</style>\n",
       "<table border=\"1\" class=\"dataframe\">\n",
       "  <thead>\n",
       "    <tr style=\"text-align: right;\">\n",
       "      <th></th>\n",
       "      <th>Loan term</th>\n",
       "      <th>Loan Amount</th>\n",
       "      <th>Year of application</th>\n",
       "      <th>Year of birth</th>\n",
       "      <th>City</th>\n",
       "      <th>Gender</th>\n",
       "      <th>Education</th>\n",
       "      <th>DEFAULT</th>\n",
       "    </tr>\n",
       "  </thead>\n",
       "  <tbody>\n",
       "    <tr>\n",
       "      <th>7</th>\n",
       "      <td>24</td>\n",
       "      <td>5943.0</td>\n",
       "      <td>2020</td>\n",
       "      <td>1976</td>\n",
       "      <td>NaN</td>\n",
       "      <td>Male</td>\n",
       "      <td>Primary</td>\n",
       "      <td>0</td>\n",
       "    </tr>\n",
       "    <tr>\n",
       "      <th>11</th>\n",
       "      <td>42</td>\n",
       "      <td>NaN</td>\n",
       "      <td>2018</td>\n",
       "      <td>1988</td>\n",
       "      <td>Brno</td>\n",
       "      <td>Female</td>\n",
       "      <td>Primary</td>\n",
       "      <td>1</td>\n",
       "    </tr>\n",
       "    <tr>\n",
       "      <th>19</th>\n",
       "      <td>48</td>\n",
       "      <td>NaN</td>\n",
       "      <td>2010</td>\n",
       "      <td>1960</td>\n",
       "      <td>Brno</td>\n",
       "      <td>Female</td>\n",
       "      <td>Secondary</td>\n",
       "      <td>0</td>\n",
       "    </tr>\n",
       "    <tr>\n",
       "      <th>32</th>\n",
       "      <td>6</td>\n",
       "      <td>NaN</td>\n",
       "      <td>2016</td>\n",
       "      <td>1984</td>\n",
       "      <td>Prague</td>\n",
       "      <td>Female</td>\n",
       "      <td>Primary</td>\n",
       "      <td>1</td>\n",
       "    </tr>\n",
       "    <tr>\n",
       "      <th>35</th>\n",
       "      <td>30</td>\n",
       "      <td>1908.0</td>\n",
       "      <td>2020</td>\n",
       "      <td>1954</td>\n",
       "      <td>NaN</td>\n",
       "      <td>Male</td>\n",
       "      <td>Primary</td>\n",
       "      <td>1</td>\n",
       "    </tr>\n",
       "    <tr>\n",
       "      <th>51</th>\n",
       "      <td>24</td>\n",
       "      <td>3349.0</td>\n",
       "      <td>2019</td>\n",
       "      <td>1989</td>\n",
       "      <td>NaN</td>\n",
       "      <td>Female</td>\n",
       "      <td>Primary</td>\n",
       "      <td>0</td>\n",
       "    </tr>\n",
       "    <tr>\n",
       "      <th>58</th>\n",
       "      <td>36</td>\n",
       "      <td>9572.0</td>\n",
       "      <td>2016</td>\n",
       "      <td>1988</td>\n",
       "      <td>NaN</td>\n",
       "      <td>Female</td>\n",
       "      <td>Primary</td>\n",
       "      <td>0</td>\n",
       "    </tr>\n",
       "    <tr>\n",
       "      <th>59</th>\n",
       "      <td>9</td>\n",
       "      <td>1366.0</td>\n",
       "      <td>2015</td>\n",
       "      <td>1993</td>\n",
       "      <td>NaN</td>\n",
       "      <td>Female</td>\n",
       "      <td>Secondary</td>\n",
       "      <td>0</td>\n",
       "    </tr>\n",
       "    <tr>\n",
       "      <th>60</th>\n",
       "      <td>9</td>\n",
       "      <td>NaN</td>\n",
       "      <td>2010</td>\n",
       "      <td>1976</td>\n",
       "      <td>Prague</td>\n",
       "      <td>Female</td>\n",
       "      <td>Secondary</td>\n",
       "      <td>0</td>\n",
       "    </tr>\n",
       "    <tr>\n",
       "      <th>75</th>\n",
       "      <td>24</td>\n",
       "      <td>1333.0</td>\n",
       "      <td>2012</td>\n",
       "      <td>1969</td>\n",
       "      <td>NaN</td>\n",
       "      <td>Female</td>\n",
       "      <td>Secondary</td>\n",
       "      <td>1</td>\n",
       "    </tr>\n",
       "    <tr>\n",
       "      <th>134</th>\n",
       "      <td>12</td>\n",
       "      <td>2331.0</td>\n",
       "      <td>2020</td>\n",
       "      <td>1971</td>\n",
       "      <td>NaN</td>\n",
       "      <td>Female</td>\n",
       "      <td>Primary</td>\n",
       "      <td>1</td>\n",
       "    </tr>\n",
       "    <tr>\n",
       "      <th>140</th>\n",
       "      <td>24</td>\n",
       "      <td>2679.0</td>\n",
       "      <td>2019</td>\n",
       "      <td>1990</td>\n",
       "      <td>NaN</td>\n",
       "      <td>Female</td>\n",
       "      <td>University</td>\n",
       "      <td>0</td>\n",
       "    </tr>\n",
       "    <tr>\n",
       "      <th>154</th>\n",
       "      <td>15</td>\n",
       "      <td>1520.0</td>\n",
       "      <td>2016</td>\n",
       "      <td>1953</td>\n",
       "      <td>NaN</td>\n",
       "      <td>Female</td>\n",
       "      <td>Secondary</td>\n",
       "      <td>0</td>\n",
       "    </tr>\n",
       "    <tr>\n",
       "      <th>173</th>\n",
       "      <td>12</td>\n",
       "      <td>1542.0</td>\n",
       "      <td>2018</td>\n",
       "      <td>1982</td>\n",
       "      <td>NaN</td>\n",
       "      <td>Female</td>\n",
       "      <td>University</td>\n",
       "      <td>0</td>\n",
       "    </tr>\n",
       "    <tr>\n",
       "      <th>175</th>\n",
       "      <td>12</td>\n",
       "      <td>1498.0</td>\n",
       "      <td>2014</td>\n",
       "      <td>1991</td>\n",
       "      <td>NaN</td>\n",
       "      <td>Male</td>\n",
       "      <td>University</td>\n",
       "      <td>0</td>\n",
       "    </tr>\n",
       "    <tr>\n",
       "      <th>189</th>\n",
       "      <td>33</td>\n",
       "      <td>7253.0</td>\n",
       "      <td>2014</td>\n",
       "      <td>1979</td>\n",
       "      <td>NaN</td>\n",
       "      <td>Male</td>\n",
       "      <td>Primary</td>\n",
       "      <td>1</td>\n",
       "    </tr>\n",
       "    <tr>\n",
       "      <th>227</th>\n",
       "      <td>6</td>\n",
       "      <td>1743.0</td>\n",
       "      <td>2020</td>\n",
       "      <td>1986</td>\n",
       "      <td>NaN</td>\n",
       "      <td>Male</td>\n",
       "      <td>Secondary</td>\n",
       "      <td>0</td>\n",
       "    </tr>\n",
       "    <tr>\n",
       "      <th>240</th>\n",
       "      <td>24</td>\n",
       "      <td>1927.0</td>\n",
       "      <td>2010</td>\n",
       "      <td>1977</td>\n",
       "      <td>NaN</td>\n",
       "      <td>Male</td>\n",
       "      <td>University</td>\n",
       "      <td>0</td>\n",
       "    </tr>\n",
       "    <tr>\n",
       "      <th>244</th>\n",
       "      <td>12</td>\n",
       "      <td>1413.0</td>\n",
       "      <td>2010</td>\n",
       "      <td>1955</td>\n",
       "      <td>NaN</td>\n",
       "      <td>Female</td>\n",
       "      <td>Primary</td>\n",
       "      <td>1</td>\n",
       "    </tr>\n",
       "    <tr>\n",
       "      <th>269</th>\n",
       "      <td>12</td>\n",
       "      <td>1503.0</td>\n",
       "      <td>2016</td>\n",
       "      <td>1975</td>\n",
       "      <td>NaN</td>\n",
       "      <td>Male</td>\n",
       "      <td>University</td>\n",
       "      <td>0</td>\n",
       "    </tr>\n",
       "    <tr>\n",
       "      <th>278</th>\n",
       "      <td>24</td>\n",
       "      <td>2375.0</td>\n",
       "      <td>2012</td>\n",
       "      <td>1968</td>\n",
       "      <td>NaN</td>\n",
       "      <td>Male</td>\n",
       "      <td>Secondary</td>\n",
       "      <td>0</td>\n",
       "    </tr>\n",
       "    <tr>\n",
       "      <th>281</th>\n",
       "      <td>24</td>\n",
       "      <td>5804.0</td>\n",
       "      <td>2012</td>\n",
       "      <td>1985</td>\n",
       "      <td>NaN</td>\n",
       "      <td>Female</td>\n",
       "      <td>Primary</td>\n",
       "      <td>1</td>\n",
       "    </tr>\n",
       "    <tr>\n",
       "      <th>283</th>\n",
       "      <td>12</td>\n",
       "      <td>717.0</td>\n",
       "      <td>2013</td>\n",
       "      <td>1961</td>\n",
       "      <td>NaN</td>\n",
       "      <td>Male</td>\n",
       "      <td>Secondary</td>\n",
       "      <td>0</td>\n",
       "    </tr>\n",
       "    <tr>\n",
       "      <th>354</th>\n",
       "      <td>12</td>\n",
       "      <td>2859.0</td>\n",
       "      <td>2016</td>\n",
       "      <td>1978</td>\n",
       "      <td>NaN</td>\n",
       "      <td>Male</td>\n",
       "      <td>Secondary</td>\n",
       "      <td>0</td>\n",
       "    </tr>\n",
       "    <tr>\n",
       "      <th>356</th>\n",
       "      <td>12</td>\n",
       "      <td>2578.0</td>\n",
       "      <td>2016</td>\n",
       "      <td>1961</td>\n",
       "      <td>NaN</td>\n",
       "      <td>Male</td>\n",
       "      <td>Secondary</td>\n",
       "      <td>1</td>\n",
       "    </tr>\n",
       "    <tr>\n",
       "      <th>364</th>\n",
       "      <td>12</td>\n",
       "      <td>754.0</td>\n",
       "      <td>2013</td>\n",
       "      <td>1975</td>\n",
       "      <td>NaN</td>\n",
       "      <td>Female</td>\n",
       "      <td>Secondary</td>\n",
       "      <td>0</td>\n",
       "    </tr>\n",
       "    <tr>\n",
       "      <th>372</th>\n",
       "      <td>8</td>\n",
       "      <td>760.0</td>\n",
       "      <td>2012</td>\n",
       "      <td>1968</td>\n",
       "      <td>NaN</td>\n",
       "      <td>Female</td>\n",
       "      <td>Secondary</td>\n",
       "      <td>0</td>\n",
       "    </tr>\n",
       "    <tr>\n",
       "      <th>394</th>\n",
       "      <td>15</td>\n",
       "      <td>2511.0</td>\n",
       "      <td>2017</td>\n",
       "      <td>1994</td>\n",
       "      <td>NaN</td>\n",
       "      <td>Male</td>\n",
       "      <td>University</td>\n",
       "      <td>0</td>\n",
       "    </tr>\n",
       "    <tr>\n",
       "      <th>430</th>\n",
       "      <td>24</td>\n",
       "      <td>2996.0</td>\n",
       "      <td>2012</td>\n",
       "      <td>1992</td>\n",
       "      <td>NaN</td>\n",
       "      <td>Female</td>\n",
       "      <td>Primary</td>\n",
       "      <td>1</td>\n",
       "    </tr>\n",
       "    <tr>\n",
       "      <th>435</th>\n",
       "      <td>36</td>\n",
       "      <td>2820.0</td>\n",
       "      <td>2011</td>\n",
       "      <td>1984</td>\n",
       "      <td>NaN</td>\n",
       "      <td>Female</td>\n",
       "      <td>Secondary</td>\n",
       "      <td>0</td>\n",
       "    </tr>\n",
       "    <tr>\n",
       "      <th>452</th>\n",
       "      <td>12</td>\n",
       "      <td>2149.0</td>\n",
       "      <td>2010</td>\n",
       "      <td>1981</td>\n",
       "      <td>NaN</td>\n",
       "      <td>Female</td>\n",
       "      <td>Primary</td>\n",
       "      <td>0</td>\n",
       "    </tr>\n",
       "    <tr>\n",
       "      <th>483</th>\n",
       "      <td>6</td>\n",
       "      <td>1209.0</td>\n",
       "      <td>2018</td>\n",
       "      <td>1971</td>\n",
       "      <td>NaN</td>\n",
       "      <td>Male</td>\n",
       "      <td>Secondary</td>\n",
       "      <td>0</td>\n",
       "    </tr>\n",
       "    <tr>\n",
       "      <th>507</th>\n",
       "      <td>18</td>\n",
       "      <td>2775.0</td>\n",
       "      <td>2010</td>\n",
       "      <td>1979</td>\n",
       "      <td>NaN</td>\n",
       "      <td>Female</td>\n",
       "      <td>Primary</td>\n",
       "      <td>0</td>\n",
       "    </tr>\n",
       "    <tr>\n",
       "      <th>516</th>\n",
       "      <td>30</td>\n",
       "      <td>4249.0</td>\n",
       "      <td>2014</td>\n",
       "      <td>1986</td>\n",
       "      <td>NaN</td>\n",
       "      <td>Male</td>\n",
       "      <td>Primary</td>\n",
       "      <td>1</td>\n",
       "    </tr>\n",
       "    <tr>\n",
       "      <th>578</th>\n",
       "      <td>24</td>\n",
       "      <td>2039.0</td>\n",
       "      <td>2014</td>\n",
       "      <td>1992</td>\n",
       "      <td>NaN</td>\n",
       "      <td>Female</td>\n",
       "      <td>University</td>\n",
       "      <td>0</td>\n",
       "    </tr>\n",
       "    <tr>\n",
       "      <th>601</th>\n",
       "      <td>6</td>\n",
       "      <td>3676.0</td>\n",
       "      <td>2019</td>\n",
       "      <td>1982</td>\n",
       "      <td>NaN</td>\n",
       "      <td>Female</td>\n",
       "      <td>Primary</td>\n",
       "      <td>0</td>\n",
       "    </tr>\n",
       "    <tr>\n",
       "      <th>634</th>\n",
       "      <td>27</td>\n",
       "      <td>4526.0</td>\n",
       "      <td>2010</td>\n",
       "      <td>1978</td>\n",
       "      <td>NaN</td>\n",
       "      <td>Female</td>\n",
       "      <td>Secondary</td>\n",
       "      <td>0</td>\n",
       "    </tr>\n",
       "    <tr>\n",
       "      <th>677</th>\n",
       "      <td>12</td>\n",
       "      <td>3617.0</td>\n",
       "      <td>2014</td>\n",
       "      <td>1986</td>\n",
       "      <td>NaN</td>\n",
       "      <td>Male</td>\n",
       "      <td>Primary</td>\n",
       "      <td>0</td>\n",
       "    </tr>\n",
       "    <tr>\n",
       "      <th>684</th>\n",
       "      <td>36</td>\n",
       "      <td>5848.0</td>\n",
       "      <td>2015</td>\n",
       "      <td>1991</td>\n",
       "      <td>NaN</td>\n",
       "      <td>Female</td>\n",
       "      <td>Primary</td>\n",
       "      <td>1</td>\n",
       "    </tr>\n",
       "    <tr>\n",
       "      <th>703</th>\n",
       "      <td>24</td>\n",
       "      <td>7721.0</td>\n",
       "      <td>2015</td>\n",
       "      <td>1985</td>\n",
       "      <td>NaN</td>\n",
       "      <td>Female</td>\n",
       "      <td>Primary</td>\n",
       "      <td>1</td>\n",
       "    </tr>\n",
       "    <tr>\n",
       "      <th>706</th>\n",
       "      <td>15</td>\n",
       "      <td>1444.0</td>\n",
       "      <td>2015</td>\n",
       "      <td>1992</td>\n",
       "      <td>NaN</td>\n",
       "      <td>Female</td>\n",
       "      <td>Primary</td>\n",
       "      <td>0</td>\n",
       "    </tr>\n",
       "    <tr>\n",
       "      <th>730</th>\n",
       "      <td>18</td>\n",
       "      <td>2899.0</td>\n",
       "      <td>2010</td>\n",
       "      <td>1967</td>\n",
       "      <td>NaN</td>\n",
       "      <td>Female</td>\n",
       "      <td>Secondary</td>\n",
       "      <td>0</td>\n",
       "    </tr>\n",
       "    <tr>\n",
       "      <th>763</th>\n",
       "      <td>18</td>\n",
       "      <td>2320.0</td>\n",
       "      <td>2010</td>\n",
       "      <td>1976</td>\n",
       "      <td>NaN</td>\n",
       "      <td>Female</td>\n",
       "      <td>University</td>\n",
       "      <td>0</td>\n",
       "    </tr>\n",
       "    <tr>\n",
       "      <th>794</th>\n",
       "      <td>24</td>\n",
       "      <td>1525.0</td>\n",
       "      <td>2018</td>\n",
       "      <td>1984</td>\n",
       "      <td>NaN</td>\n",
       "      <td>Female</td>\n",
       "      <td>University</td>\n",
       "      <td>0</td>\n",
       "    </tr>\n",
       "    <tr>\n",
       "      <th>798</th>\n",
       "      <td>12</td>\n",
       "      <td>1410.0</td>\n",
       "      <td>2019</td>\n",
       "      <td>1988</td>\n",
       "      <td>NaN</td>\n",
       "      <td>Male</td>\n",
       "      <td>Primary</td>\n",
       "      <td>1</td>\n",
       "    </tr>\n",
       "    <tr>\n",
       "      <th>805</th>\n",
       "      <td>30</td>\n",
       "      <td>6742.0</td>\n",
       "      <td>2020</td>\n",
       "      <td>1984</td>\n",
       "      <td>NaN</td>\n",
       "      <td>Female</td>\n",
       "      <td>University</td>\n",
       "      <td>0</td>\n",
       "    </tr>\n",
       "    <tr>\n",
       "      <th>810</th>\n",
       "      <td>9</td>\n",
       "      <td>458.0</td>\n",
       "      <td>2012</td>\n",
       "      <td>1988</td>\n",
       "      <td>NaN</td>\n",
       "      <td>Female</td>\n",
       "      <td>Primary</td>\n",
       "      <td>1</td>\n",
       "    </tr>\n",
       "    <tr>\n",
       "      <th>817</th>\n",
       "      <td>12</td>\n",
       "      <td>6078.0</td>\n",
       "      <td>2016</td>\n",
       "      <td>1984</td>\n",
       "      <td>NaN</td>\n",
       "      <td>Female</td>\n",
       "      <td>Primary</td>\n",
       "      <td>0</td>\n",
       "    </tr>\n",
       "    <tr>\n",
       "      <th>827</th>\n",
       "      <td>16</td>\n",
       "      <td>1175.0</td>\n",
       "      <td>2010</td>\n",
       "      <td>2042</td>\n",
       "      <td>NaN</td>\n",
       "      <td>Female</td>\n",
       "      <td>University</td>\n",
       "      <td>0</td>\n",
       "    </tr>\n",
       "    <tr>\n",
       "      <th>858</th>\n",
       "      <td>12</td>\n",
       "      <td>5801.0</td>\n",
       "      <td>2020</td>\n",
       "      <td>1971</td>\n",
       "      <td>NaN</td>\n",
       "      <td>Female</td>\n",
       "      <td>Secondary</td>\n",
       "      <td>0</td>\n",
       "    </tr>\n",
       "    <tr>\n",
       "      <th>860</th>\n",
       "      <td>12</td>\n",
       "      <td>3527.0</td>\n",
       "      <td>2015</td>\n",
       "      <td>1970</td>\n",
       "      <td>NaN</td>\n",
       "      <td>Male</td>\n",
       "      <td>Primary</td>\n",
       "      <td>0</td>\n",
       "    </tr>\n",
       "    <tr>\n",
       "      <th>902</th>\n",
       "      <td>24</td>\n",
       "      <td>1377.0</td>\n",
       "      <td>2019</td>\n",
       "      <td>1972</td>\n",
       "      <td>NaN</td>\n",
       "      <td>Male</td>\n",
       "      <td>University</td>\n",
       "      <td>0</td>\n",
       "    </tr>\n",
       "    <tr>\n",
       "      <th>956</th>\n",
       "      <td>13</td>\n",
       "      <td>2101.0</td>\n",
       "      <td>2018</td>\n",
       "      <td>1995</td>\n",
       "      <td>NaN</td>\n",
       "      <td>Female</td>\n",
       "      <td>University</td>\n",
       "      <td>0</td>\n",
       "    </tr>\n",
       "    <tr>\n",
       "      <th>961</th>\n",
       "      <td>15</td>\n",
       "      <td>2728.0</td>\n",
       "      <td>2018</td>\n",
       "      <td>1983</td>\n",
       "      <td>NaN</td>\n",
       "      <td>Female</td>\n",
       "      <td>Secondary</td>\n",
       "      <td>0</td>\n",
       "    </tr>\n",
       "    <tr>\n",
       "      <th>972</th>\n",
       "      <td>60</td>\n",
       "      <td>15653.0</td>\n",
       "      <td>2013</td>\n",
       "      <td>1992</td>\n",
       "      <td>NaN</td>\n",
       "      <td>Male</td>\n",
       "      <td>University</td>\n",
       "      <td>1</td>\n",
       "    </tr>\n",
       "    <tr>\n",
       "      <th>993</th>\n",
       "      <td>15</td>\n",
       "      <td>1308.0</td>\n",
       "      <td>2016</td>\n",
       "      <td>1978</td>\n",
       "      <td>NaN</td>\n",
       "      <td>Female</td>\n",
       "      <td>Primary</td>\n",
       "      <td>0</td>\n",
       "    </tr>\n",
       "  </tbody>\n",
       "</table>\n",
       "</div>"
      ],
      "text/plain": [
       "     Loan term  Loan Amount  Year of application  Year of birth    City  \\\n",
       "7           24       5943.0                 2020           1976     NaN   \n",
       "11          42          NaN                 2018           1988    Brno   \n",
       "19          48          NaN                 2010           1960    Brno   \n",
       "32           6          NaN                 2016           1984  Prague   \n",
       "35          30       1908.0                 2020           1954     NaN   \n",
       "51          24       3349.0                 2019           1989     NaN   \n",
       "58          36       9572.0                 2016           1988     NaN   \n",
       "59           9       1366.0                 2015           1993     NaN   \n",
       "60           9          NaN                 2010           1976  Prague   \n",
       "75          24       1333.0                 2012           1969     NaN   \n",
       "134         12       2331.0                 2020           1971     NaN   \n",
       "140         24       2679.0                 2019           1990     NaN   \n",
       "154         15       1520.0                 2016           1953     NaN   \n",
       "173         12       1542.0                 2018           1982     NaN   \n",
       "175         12       1498.0                 2014           1991     NaN   \n",
       "189         33       7253.0                 2014           1979     NaN   \n",
       "227          6       1743.0                 2020           1986     NaN   \n",
       "240         24       1927.0                 2010           1977     NaN   \n",
       "244         12       1413.0                 2010           1955     NaN   \n",
       "269         12       1503.0                 2016           1975     NaN   \n",
       "278         24       2375.0                 2012           1968     NaN   \n",
       "281         24       5804.0                 2012           1985     NaN   \n",
       "283         12        717.0                 2013           1961     NaN   \n",
       "354         12       2859.0                 2016           1978     NaN   \n",
       "356         12       2578.0                 2016           1961     NaN   \n",
       "364         12        754.0                 2013           1975     NaN   \n",
       "372          8        760.0                 2012           1968     NaN   \n",
       "394         15       2511.0                 2017           1994     NaN   \n",
       "430         24       2996.0                 2012           1992     NaN   \n",
       "435         36       2820.0                 2011           1984     NaN   \n",
       "452         12       2149.0                 2010           1981     NaN   \n",
       "483          6       1209.0                 2018           1971     NaN   \n",
       "507         18       2775.0                 2010           1979     NaN   \n",
       "516         30       4249.0                 2014           1986     NaN   \n",
       "578         24       2039.0                 2014           1992     NaN   \n",
       "601          6       3676.0                 2019           1982     NaN   \n",
       "634         27       4526.0                 2010           1978     NaN   \n",
       "677         12       3617.0                 2014           1986     NaN   \n",
       "684         36       5848.0                 2015           1991     NaN   \n",
       "703         24       7721.0                 2015           1985     NaN   \n",
       "706         15       1444.0                 2015           1992     NaN   \n",
       "730         18       2899.0                 2010           1967     NaN   \n",
       "763         18       2320.0                 2010           1976     NaN   \n",
       "794         24       1525.0                 2018           1984     NaN   \n",
       "798         12       1410.0                 2019           1988     NaN   \n",
       "805         30       6742.0                 2020           1984     NaN   \n",
       "810          9        458.0                 2012           1988     NaN   \n",
       "817         12       6078.0                 2016           1984     NaN   \n",
       "827         16       1175.0                 2010           2042     NaN   \n",
       "858         12       5801.0                 2020           1971     NaN   \n",
       "860         12       3527.0                 2015           1970     NaN   \n",
       "902         24       1377.0                 2019           1972     NaN   \n",
       "956         13       2101.0                 2018           1995     NaN   \n",
       "961         15       2728.0                 2018           1983     NaN   \n",
       "972         60      15653.0                 2013           1992     NaN   \n",
       "993         15       1308.0                 2016           1978     NaN   \n",
       "\n",
       "     Gender   Education  DEFAULT  \n",
       "7      Male     Primary        0  \n",
       "11   Female     Primary        1  \n",
       "19   Female   Secondary        0  \n",
       "32   Female     Primary        1  \n",
       "35     Male     Primary        1  \n",
       "51   Female     Primary        0  \n",
       "58   Female     Primary        0  \n",
       "59   Female   Secondary        0  \n",
       "60   Female   Secondary        0  \n",
       "75   Female   Secondary        1  \n",
       "134  Female     Primary        1  \n",
       "140  Female  University        0  \n",
       "154  Female   Secondary        0  \n",
       "173  Female  University        0  \n",
       "175    Male  University        0  \n",
       "189    Male     Primary        1  \n",
       "227    Male   Secondary        0  \n",
       "240    Male  University        0  \n",
       "244  Female     Primary        1  \n",
       "269    Male  University        0  \n",
       "278    Male   Secondary        0  \n",
       "281  Female     Primary        1  \n",
       "283    Male   Secondary        0  \n",
       "354    Male   Secondary        0  \n",
       "356    Male   Secondary        1  \n",
       "364  Female   Secondary        0  \n",
       "372  Female   Secondary        0  \n",
       "394    Male  University        0  \n",
       "430  Female     Primary        1  \n",
       "435  Female   Secondary        0  \n",
       "452  Female     Primary        0  \n",
       "483    Male   Secondary        0  \n",
       "507  Female     Primary        0  \n",
       "516    Male     Primary        1  \n",
       "578  Female  University        0  \n",
       "601  Female     Primary        0  \n",
       "634  Female   Secondary        0  \n",
       "677    Male     Primary        0  \n",
       "684  Female     Primary        1  \n",
       "703  Female     Primary        1  \n",
       "706  Female     Primary        0  \n",
       "730  Female   Secondary        0  \n",
       "763  Female  University        0  \n",
       "794  Female  University        0  \n",
       "798    Male     Primary        1  \n",
       "805  Female  University        0  \n",
       "810  Female     Primary        1  \n",
       "817  Female     Primary        0  \n",
       "827  Female  University        0  \n",
       "858  Female   Secondary        0  \n",
       "860    Male     Primary        0  \n",
       "902    Male  University        0  \n",
       "956  Female  University        0  \n",
       "961  Female   Secondary        0  \n",
       "972    Male  University        1  \n",
       "993  Female     Primary        0  "
      ]
     },
     "execution_count": 39,
     "metadata": {},
     "output_type": "execute_result"
    }
   ],
   "source": [
    "data_raw[data_raw.isna().any(axis=1)]"
   ]
  },
  {
   "cell_type": "markdown",
   "metadata": {
    "id": "hOa7AjkcZX60"
   },
   "source": [
    "**NA removal**"
   ]
  },
  {
   "cell_type": "code",
   "execution_count": 40,
   "metadata": {
    "colab": {
     "base_uri": "https://localhost:8080/"
    },
    "executionInfo": {
     "elapsed": 5,
     "status": "ok",
     "timestamp": 1649602385751,
     "user": {
      "displayName": "Daniel Malinovský",
      "userId": "02049496699663143405"
     },
     "user_tz": -120
    },
    "id": "ttKQg0o6Ehzl",
    "outputId": "11014cbc-d667-4a9d-b88d-600733384504"
   },
   "outputs": [
    {
     "data": {
      "text/plain": [
       "Loan term              0\n",
       "Loan Amount            0\n",
       "Year of application    0\n",
       "Year of birth          0\n",
       "City                   0\n",
       "Gender                 0\n",
       "Education              0\n",
       "DEFAULT                0\n",
       "dtype: int64"
      ]
     },
     "execution_count": 40,
     "metadata": {},
     "output_type": "execute_result"
    }
   ],
   "source": [
    "data = data_raw.dropna()\n",
    "data.isna().sum()"
   ]
  },
  {
   "cell_type": "markdown",
   "metadata": {
    "id": "xi0Gros3ZfkN"
   },
   "source": [
    "**Population Check**"
   ]
  },
  {
   "cell_type": "code",
   "execution_count": 41,
   "metadata": {
    "colab": {
     "base_uri": "https://localhost:8080/"
    },
    "executionInfo": {
     "elapsed": 2,
     "status": "ok",
     "timestamp": 1649602388649,
     "user": {
      "displayName": "Daniel Malinovský",
      "userId": "02049496699663143405"
     },
     "user_tz": -120
    },
    "id": "4I8y1EEUFQj2",
    "outputId": "95345323-ba46-4093-df06-3aeb9cc32ca8"
   },
   "outputs": [
    {
     "data": {
      "text/plain": [
       "Loan term                int64\n",
       "Loan Amount            float64\n",
       "Year of application      int64\n",
       "Year of birth            int64\n",
       "City                    object\n",
       "Gender                  object\n",
       "Education               object\n",
       "DEFAULT                  int64\n",
       "dtype: object"
      ]
     },
     "execution_count": 41,
     "metadata": {},
     "output_type": "execute_result"
    }
   ],
   "source": [
    "data.dtypes"
   ]
  },
  {
   "cell_type": "code",
   "execution_count": 42,
   "metadata": {
    "colab": {
     "base_uri": "https://localhost:8080/",
     "height": 143
    },
    "executionInfo": {
     "elapsed": 402,
     "status": "ok",
     "timestamp": 1649602390073,
     "user": {
      "displayName": "Daniel Malinovský",
      "userId": "02049496699663143405"
     },
     "user_tz": -120
    },
    "id": "lMCzmDONGJAf",
    "outputId": "9281626f-cbd6-48ae-de52-2e7ff3144abe"
   },
   "outputs": [
    {
     "data": {
      "text/html": [
       "<div>\n",
       "<style scoped>\n",
       "    .dataframe tbody tr th:only-of-type {\n",
       "        vertical-align: middle;\n",
       "    }\n",
       "\n",
       "    .dataframe tbody tr th {\n",
       "        vertical-align: top;\n",
       "    }\n",
       "\n",
       "    .dataframe thead th {\n",
       "        text-align: right;\n",
       "    }\n",
       "</style>\n",
       "<table border=\"1\" class=\"dataframe\">\n",
       "  <thead>\n",
       "    <tr style=\"text-align: right;\">\n",
       "      <th></th>\n",
       "      <th>City</th>\n",
       "      <th>Education</th>\n",
       "      <th>Gender</th>\n",
       "      <th>Loan Amount</th>\n",
       "      <th>Loan term</th>\n",
       "      <th>Year of application</th>\n",
       "      <th>Year of birth</th>\n",
       "    </tr>\n",
       "    <tr>\n",
       "      <th>DEFAULT</th>\n",
       "      <th></th>\n",
       "      <th></th>\n",
       "      <th></th>\n",
       "      <th></th>\n",
       "      <th></th>\n",
       "      <th></th>\n",
       "      <th></th>\n",
       "    </tr>\n",
       "  </thead>\n",
       "  <tbody>\n",
       "    <tr>\n",
       "      <th>0</th>\n",
       "      <td>593</td>\n",
       "      <td>593</td>\n",
       "      <td>593</td>\n",
       "      <td>593</td>\n",
       "      <td>593</td>\n",
       "      <td>593</td>\n",
       "      <td>593</td>\n",
       "    </tr>\n",
       "    <tr>\n",
       "      <th>1</th>\n",
       "      <td>351</td>\n",
       "      <td>351</td>\n",
       "      <td>351</td>\n",
       "      <td>351</td>\n",
       "      <td>351</td>\n",
       "      <td>351</td>\n",
       "      <td>351</td>\n",
       "    </tr>\n",
       "  </tbody>\n",
       "</table>\n",
       "</div>"
      ],
      "text/plain": [
       "         City  Education  Gender  Loan Amount  Loan term  Year of application  \\\n",
       "DEFAULT                                                                         \n",
       "0         593        593     593          593        593                  593   \n",
       "1         351        351     351          351        351                  351   \n",
       "\n",
       "         Year of birth  \n",
       "DEFAULT                 \n",
       "0                  593  \n",
       "1                  351  "
      ]
     },
     "execution_count": 42,
     "metadata": {},
     "output_type": "execute_result"
    }
   ],
   "source": [
    "pd.pivot_table(data, index = 'DEFAULT', aggfunc='count')"
   ]
  },
  {
   "cell_type": "markdown",
   "metadata": {
    "id": "WwDGtDVzZmZ1"
   },
   "source": [
    "**Investigation of problematic values in Year of Birth**"
   ]
  },
  {
   "cell_type": "code",
   "execution_count": 43,
   "metadata": {
    "colab": {
     "base_uri": "https://localhost:8080/",
     "height": 316
    },
    "executionInfo": {
     "elapsed": 415,
     "status": "ok",
     "timestamp": 1649602393482,
     "user": {
      "displayName": "Daniel Malinovský",
      "userId": "02049496699663143405"
     },
     "user_tz": -120
    },
    "id": "QmEMcPzZGWHM",
    "outputId": "76d50725-8c5d-47fb-995d-48d26ef52275"
   },
   "outputs": [
    {
     "data": {
      "text/plain": [
       "array([[<AxesSubplot:title={'center':'Year of birth'}>]], dtype=object)"
      ]
     },
     "execution_count": 43,
     "metadata": {},
     "output_type": "execute_result"
    },
    {
     "data": {
      "image/png": "[encoded data removed]",
      "text/plain": [
       "<Figure size 432x288 with 1 Axes>"
      ]
     },
     "metadata": {
      "needs_background": "light"
     },
     "output_type": "display_data"
    }
   ],
   "source": [
    "data.hist(column = 'Year of birth')"
   ]
  },
  {
   "cell_type": "code",
   "execution_count": 44,
   "metadata": {
    "colab": {
     "base_uri": "https://localhost:8080/",
     "height": 645
    },
    "executionInfo": {
     "elapsed": 255,
     "status": "ok",
     "timestamp": 1649602405177,
     "user": {
      "displayName": "Daniel Malinovský",
      "userId": "02049496699663143405"
     },
     "user_tz": -120
    },
    "id": "X1srhAovPWwU",
    "outputId": "f4e2fb5f-0bd1-49d4-ba03-afa7ef0e95ef"
   },
   "outputs": [
    {
     "data": {
      "text/html": [
       "<div>\n",
       "<style scoped>\n",
       "    .dataframe tbody tr th:only-of-type {\n",
       "        vertical-align: middle;\n",
       "    }\n",
       "\n",
       "    .dataframe tbody tr th {\n",
       "        vertical-align: top;\n",
       "    }\n",
       "\n",
       "    .dataframe thead th {\n",
       "        text-align: right;\n",
       "    }\n",
       "</style>\n",
       "<table border=\"1\" class=\"dataframe\">\n",
       "  <thead>\n",
       "    <tr style=\"text-align: right;\">\n",
       "      <th></th>\n",
       "      <th>Loan term</th>\n",
       "      <th>Loan Amount</th>\n",
       "      <th>Year of application</th>\n",
       "      <th>Year of birth</th>\n",
       "      <th>City</th>\n",
       "      <th>Gender</th>\n",
       "      <th>Education</th>\n",
       "      <th>DEFAULT</th>\n",
       "    </tr>\n",
       "  </thead>\n",
       "  <tbody>\n",
       "    <tr>\n",
       "      <th>5</th>\n",
       "      <td>12</td>\n",
       "      <td>766.0</td>\n",
       "      <td>2013</td>\n",
       "      <td>2047</td>\n",
       "      <td>Prague</td>\n",
       "      <td>Female</td>\n",
       "      <td>University</td>\n",
       "      <td>0</td>\n",
       "    </tr>\n",
       "    <tr>\n",
       "      <th>178</th>\n",
       "      <td>24</td>\n",
       "      <td>4526.0</td>\n",
       "      <td>2015</td>\n",
       "      <td>2041</td>\n",
       "      <td>Brno</td>\n",
       "      <td>Male</td>\n",
       "      <td>University</td>\n",
       "      <td>1</td>\n",
       "    </tr>\n",
       "    <tr>\n",
       "      <th>195</th>\n",
       "      <td>6</td>\n",
       "      <td>1299.0</td>\n",
       "      <td>2010</td>\n",
       "      <td>2036</td>\n",
       "      <td>Prague</td>\n",
       "      <td>Female</td>\n",
       "      <td>University</td>\n",
       "      <td>0</td>\n",
       "    </tr>\n",
       "    <tr>\n",
       "      <th>295</th>\n",
       "      <td>10</td>\n",
       "      <td>7308.0</td>\n",
       "      <td>2010</td>\n",
       "      <td>2040</td>\n",
       "      <td>Prague</td>\n",
       "      <td>Male</td>\n",
       "      <td>Primary</td>\n",
       "      <td>1</td>\n",
       "    </tr>\n",
       "    <tr>\n",
       "      <th>344</th>\n",
       "      <td>21</td>\n",
       "      <td>571.0</td>\n",
       "      <td>2012</td>\n",
       "      <td>2047</td>\n",
       "      <td>Prague</td>\n",
       "      <td>Male</td>\n",
       "      <td>Secondary</td>\n",
       "      <td>0</td>\n",
       "    </tr>\n",
       "    <tr>\n",
       "      <th>346</th>\n",
       "      <td>6</td>\n",
       "      <td>1374.0</td>\n",
       "      <td>2015</td>\n",
       "      <td>2040</td>\n",
       "      <td>Prague</td>\n",
       "      <td>Male</td>\n",
       "      <td>Primary</td>\n",
       "      <td>1</td>\n",
       "    </tr>\n",
       "    <tr>\n",
       "      <th>352</th>\n",
       "      <td>24</td>\n",
       "      <td>6615.0</td>\n",
       "      <td>2019</td>\n",
       "      <td>2044</td>\n",
       "      <td>Brno</td>\n",
       "      <td>Female</td>\n",
       "      <td>Secondary</td>\n",
       "      <td>1</td>\n",
       "    </tr>\n",
       "    <tr>\n",
       "      <th>382</th>\n",
       "      <td>6</td>\n",
       "      <td>1169.0</td>\n",
       "      <td>2012</td>\n",
       "      <td>2045</td>\n",
       "      <td>Prague</td>\n",
       "      <td>Female</td>\n",
       "      <td>University</td>\n",
       "      <td>0</td>\n",
       "    </tr>\n",
       "    <tr>\n",
       "      <th>384</th>\n",
       "      <td>42</td>\n",
       "      <td>3394.0</td>\n",
       "      <td>2010</td>\n",
       "      <td>2045</td>\n",
       "      <td>Brno</td>\n",
       "      <td>Male</td>\n",
       "      <td>Secondary</td>\n",
       "      <td>0</td>\n",
       "    </tr>\n",
       "    <tr>\n",
       "      <th>437</th>\n",
       "      <td>18</td>\n",
       "      <td>2600.0</td>\n",
       "      <td>2011</td>\n",
       "      <td>2046</td>\n",
       "      <td>Prague</td>\n",
       "      <td>Male</td>\n",
       "      <td>Primary</td>\n",
       "      <td>1</td>\n",
       "    </tr>\n",
       "    <tr>\n",
       "      <th>469</th>\n",
       "      <td>60</td>\n",
       "      <td>6836.0</td>\n",
       "      <td>2012</td>\n",
       "      <td>2049</td>\n",
       "      <td>Brno</td>\n",
       "      <td>Female</td>\n",
       "      <td>University</td>\n",
       "      <td>0</td>\n",
       "    </tr>\n",
       "    <tr>\n",
       "      <th>474</th>\n",
       "      <td>9</td>\n",
       "      <td>5129.0</td>\n",
       "      <td>2020</td>\n",
       "      <td>2046</td>\n",
       "      <td>Prague</td>\n",
       "      <td>Female</td>\n",
       "      <td>University</td>\n",
       "      <td>0</td>\n",
       "    </tr>\n",
       "    <tr>\n",
       "      <th>566</th>\n",
       "      <td>18</td>\n",
       "      <td>6761.0</td>\n",
       "      <td>2016</td>\n",
       "      <td>2048</td>\n",
       "      <td>Brno</td>\n",
       "      <td>Female</td>\n",
       "      <td>Secondary</td>\n",
       "      <td>0</td>\n",
       "    </tr>\n",
       "    <tr>\n",
       "      <th>576</th>\n",
       "      <td>6</td>\n",
       "      <td>14896.0</td>\n",
       "      <td>2015</td>\n",
       "      <td>2047</td>\n",
       "      <td>Prague</td>\n",
       "      <td>Female</td>\n",
       "      <td>Primary</td>\n",
       "      <td>1</td>\n",
       "    </tr>\n",
       "    <tr>\n",
       "      <th>737</th>\n",
       "      <td>5</td>\n",
       "      <td>3448.0</td>\n",
       "      <td>2018</td>\n",
       "      <td>2044</td>\n",
       "      <td>Prague</td>\n",
       "      <td>Male</td>\n",
       "      <td>Secondary</td>\n",
       "      <td>0</td>\n",
       "    </tr>\n",
       "    <tr>\n",
       "      <th>769</th>\n",
       "      <td>12</td>\n",
       "      <td>930.0</td>\n",
       "      <td>2012</td>\n",
       "      <td>2047</td>\n",
       "      <td>Prague</td>\n",
       "      <td>Female</td>\n",
       "      <td>University</td>\n",
       "      <td>0</td>\n",
       "    </tr>\n",
       "    <tr>\n",
       "      <th>841</th>\n",
       "      <td>9</td>\n",
       "      <td>790.0</td>\n",
       "      <td>2011</td>\n",
       "      <td>2045</td>\n",
       "      <td>Prague</td>\n",
       "      <td>Male</td>\n",
       "      <td>Secondary</td>\n",
       "      <td>1</td>\n",
       "    </tr>\n",
       "    <tr>\n",
       "      <th>939</th>\n",
       "      <td>24</td>\n",
       "      <td>2957.0</td>\n",
       "      <td>2012</td>\n",
       "      <td>2049</td>\n",
       "      <td>Prague</td>\n",
       "      <td>Male</td>\n",
       "      <td>Primary</td>\n",
       "      <td>1</td>\n",
       "    </tr>\n",
       "    <tr>\n",
       "      <th>998</th>\n",
       "      <td>9</td>\n",
       "      <td>1199.0</td>\n",
       "      <td>2010</td>\n",
       "      <td>2043</td>\n",
       "      <td>Brno</td>\n",
       "      <td>Male</td>\n",
       "      <td>Secondary</td>\n",
       "      <td>1</td>\n",
       "    </tr>\n",
       "  </tbody>\n",
       "</table>\n",
       "</div>"
      ],
      "text/plain": [
       "     Loan term  Loan Amount  Year of application  Year of birth    City  \\\n",
       "5           12        766.0                 2013           2047  Prague   \n",
       "178         24       4526.0                 2015           2041    Brno   \n",
       "195          6       1299.0                 2010           2036  Prague   \n",
       "295         10       7308.0                 2010           2040  Prague   \n",
       "344         21        571.0                 2012           2047  Prague   \n",
       "346          6       1374.0                 2015           2040  Prague   \n",
       "352         24       6615.0                 2019           2044    Brno   \n",
       "382          6       1169.0                 2012           2045  Prague   \n",
       "384         42       3394.0                 2010           2045    Brno   \n",
       "437         18       2600.0                 2011           2046  Prague   \n",
       "469         60       6836.0                 2012           2049    Brno   \n",
       "474          9       5129.0                 2020           2046  Prague   \n",
       "566         18       6761.0                 2016           2048    Brno   \n",
       "576          6      14896.0                 2015           2047  Prague   \n",
       "737          5       3448.0                 2018           2044  Prague   \n",
       "769         12        930.0                 2012           2047  Prague   \n",
       "841          9        790.0                 2011           2045  Prague   \n",
       "939         24       2957.0                 2012           2049  Prague   \n",
       "998          9       1199.0                 2010           2043    Brno   \n",
       "\n",
       "     Gender   Education  DEFAULT  \n",
       "5    Female  University        0  \n",
       "178    Male  University        1  \n",
       "195  Female  University        0  \n",
       "295    Male     Primary        1  \n",
       "344    Male   Secondary        0  \n",
       "346    Male     Primary        1  \n",
       "352  Female   Secondary        1  \n",
       "382  Female  University        0  \n",
       "384    Male   Secondary        0  \n",
       "437    Male     Primary        1  \n",
       "469  Female  University        0  \n",
       "474  Female  University        0  \n",
       "566  Female   Secondary        0  \n",
       "576  Female     Primary        1  \n",
       "737    Male   Secondary        0  \n",
       "769  Female  University        0  \n",
       "841    Male   Secondary        1  \n",
       "939    Male     Primary        1  \n",
       "998    Male   Secondary        1  "
      ]
     },
     "execution_count": 44,
     "metadata": {},
     "output_type": "execute_result"
    }
   ],
   "source": [
    "data.loc[data['Year of birth'] > 2020]"
   ]
  },
  {
   "cell_type": "markdown",
   "metadata": {
    "id": "U2Wx08HlZsvv"
   },
   "source": [
    "**Fix of Problematic values**"
   ]
  },
  {
   "cell_type": "code",
   "execution_count": 45,
   "metadata": {
    "colab": {
     "base_uri": "https://localhost:8080/",
     "height": 156
    },
    "executionInfo": {
     "elapsed": 10,
     "status": "ok",
     "timestamp": 1649602410695,
     "user": {
      "displayName": "Daniel Malinovský",
      "userId": "02049496699663143405"
     },
     "user_tz": -120
    },
    "id": "zsCmz9tgYC-H",
    "outputId": "c3cfa4c6-44f4-44f6-f952-a55a17fd9c8b"
   },
   "outputs": [
    {
     "data": {
      "text/html": [
       "<div>\n",
       "<style scoped>\n",
       "    .dataframe tbody tr th:only-of-type {\n",
       "        vertical-align: middle;\n",
       "    }\n",
       "\n",
       "    .dataframe tbody tr th {\n",
       "        vertical-align: top;\n",
       "    }\n",
       "\n",
       "    .dataframe thead th {\n",
       "        text-align: right;\n",
       "    }\n",
       "</style>\n",
       "<table border=\"1\" class=\"dataframe\">\n",
       "  <thead>\n",
       "    <tr style=\"text-align: right;\">\n",
       "      <th></th>\n",
       "      <th>Loan term</th>\n",
       "      <th>Loan Amount</th>\n",
       "      <th>Year of application</th>\n",
       "      <th>Year of birth</th>\n",
       "      <th>City</th>\n",
       "      <th>Gender</th>\n",
       "      <th>Education</th>\n",
       "      <th>DEFAULT</th>\n",
       "    </tr>\n",
       "  </thead>\n",
       "  <tbody>\n",
       "  </tbody>\n",
       "</table>\n",
       "</div>"
      ],
      "text/plain": [
       "Empty DataFrame\n",
       "Columns: [Loan term, Loan Amount, Year of application, Year of birth, City, Gender, Education, DEFAULT]\n",
       "Index: []"
      ]
     },
     "execution_count": 45,
     "metadata": {},
     "output_type": "execute_result"
    }
   ],
   "source": [
    "data['Year of birth'] = np.where(data['Year of birth'] > 2020, data['Year of birth']-100, data['Year of birth'])\n",
    "data.loc[data['Year of birth'] > 2020]"
   ]
  },
  {
   "cell_type": "code",
   "execution_count": 46,
   "metadata": {
    "colab": {
     "base_uri": "https://localhost:8080/",
     "height": 316
    },
    "executionInfo": {
     "elapsed": 526,
     "status": "ok",
     "timestamp": 1649602416935,
     "user": {
      "displayName": "Daniel Malinovský",
      "userId": "02049496699663143405"
     },
     "user_tz": -120
    },
    "id": "tY8FVHhcYi9k",
    "outputId": "91f3042b-0d67-43b4-d436-e14caa0e3db1"
   },
   "outputs": [
    {
     "data": {
      "text/plain": [
       "array([[<AxesSubplot:title={'center':'Year of birth'}>]], dtype=object)"
      ]
     },
     "execution_count": 46,
     "metadata": {},
     "output_type": "execute_result"
    },
    {
     "data": {
      "image/png": "[encoded data removed]",
      "text/plain": [
       "<Figure size 432x288 with 1 Axes>"
      ]
     },
     "metadata": {
      "needs_background": "light"
     },
     "output_type": "display_data"
    }
   ],
   "source": [
    "data.hist(column = 'Year of birth')"
   ]
  },
  {
   "cell_type": "code",
   "execution_count": 47,
   "metadata": {
    "colab": {
     "base_uri": "https://localhost:8080/",
     "height": 424
    },
    "executionInfo": {
     "elapsed": 489,
     "status": "ok",
     "timestamp": 1649602420178,
     "user": {
      "displayName": "Daniel Malinovský",
      "userId": "02049496699663143405"
     },
     "user_tz": -120
    },
    "id": "tuRe-DwpaarT",
    "outputId": "6727b1fa-3675-4ffd-d7c2-d01d6e5531c9"
   },
   "outputs": [
    {
     "data": {
      "text/plain": [
       "array([[<AxesSubplot:title={'center':'Age'}>]], dtype=object)"
      ]
     },
     "execution_count": 47,
     "metadata": {},
     "output_type": "execute_result"
    },
    {
     "data": {
      "image/png": "[encoded data removed]",
      "text/plain": [
       "<Figure size 432x288 with 1 Axes>"
      ]
     },
     "metadata": {
      "needs_background": "light"
     },
     "output_type": "display_data"
    }
   ],
   "source": [
    "data['Age'] = 2020 - data['Year of birth']\n",
    "data.hist(column = 'Age')"
   ]
  },
  {
   "cell_type": "markdown",
   "metadata": {
    "id": "z6g3ndJecf4S"
   },
   "source": [
    "**Normality test of Age Distribution**"
   ]
  },
  {
   "cell_type": "markdown",
   "metadata": {
    "id": "CVXAWpyuZ06m"
   },
   "source": [
    "# **1. [LOGIT] Age as single variable**"
   ]
  },
  {
   "cell_type": "code",
   "execution_count": 48,
   "metadata": {
    "colab": {
     "base_uri": "https://localhost:8080/"
    },
    "executionInfo": {
     "elapsed": 4506,
     "status": "ok",
     "timestamp": 1649602428473,
     "user": {
      "displayName": "Daniel Malinovský",
      "userId": "02049496699663143405"
     },
     "user_tz": -120
    },
    "id": "7fzbhlJPZ8oJ",
    "outputId": "2f5433e6-099f-4eac-a98e-65a2ba8ee20c"
   },
   "outputs": [
    {
     "name": "stdout",
     "output_type": "stream",
     "text": [
      "Requirement already satisfied: scipy in /Users/danielmalinovsky/opt/anaconda3/lib/python3.9/site-packages (1.7.1)\n",
      "Requirement already satisfied: numpy<1.23.0,>=1.16.5 in /Users/danielmalinovsky/opt/anaconda3/lib/python3.9/site-packages (from scipy) (1.20.3)\n",
      "Note: you may need to restart the kernel to use updated packages.\n"
     ]
    }
   ],
   "source": [
    "pip install scipy"
   ]
  },
  {
   "cell_type": "code",
   "execution_count": 49,
   "metadata": {
    "id": "WEOO7_5HcSPl"
   },
   "outputs": [],
   "source": [
    "from scipy import stats"
   ]
  },
  {
   "cell_type": "code",
   "execution_count": 50,
   "metadata": {
    "colab": {
     "base_uri": "https://localhost:8080/"
    },
    "executionInfo": {
     "elapsed": 3,
     "status": "ok",
     "timestamp": 1649602433983,
     "user": {
      "displayName": "Daniel Malinovský",
      "userId": "02049496699663143405"
     },
     "user_tz": -120
    },
    "id": "1fS8jFi2a1Ep",
    "outputId": "8094b203-55e5-48e1-d6d4-6fd47d4f4125"
   },
   "outputs": [
    {
     "data": {
      "text/plain": [
       "ShapiroResult(statistic=0.9451223015785217, pvalue=3.1634765656830057e-18)"
      ]
     },
     "execution_count": 50,
     "metadata": {},
     "output_type": "execute_result"
    }
   ],
   "source": [
    "stats.shapiro(data['Age'])"
   ]
  },
  {
   "cell_type": "markdown",
   "metadata": {
    "id": "QLqCT1pxcmGr"
   },
   "source": [
    "**distribution of age seems to follow deviate from normal distribution**"
   ]
  },
  {
   "cell_type": "code",
   "execution_count": 51,
   "metadata": {
    "colab": {
     "base_uri": "https://localhost:8080/",
     "height": 316
    },
    "executionInfo": {
     "elapsed": 807,
     "status": "ok",
     "timestamp": 1649602438363,
     "user": {
      "displayName": "Daniel Malinovský",
      "userId": "02049496699663143405"
     },
     "user_tz": -120
    },
    "id": "RnzWqAg1ZFEz",
    "outputId": "716ed389-5b81-46b2-ac9d-f116176af216"
   },
   "outputs": [
    {
     "data": {
      "text/plain": [
       "array([[<AxesSubplot:title={'center':'Age'}>]], dtype=object)"
      ]
     },
     "execution_count": 51,
     "metadata": {},
     "output_type": "execute_result"
    },
    {
     "data": {
      "image/png": "[encoded data removed]",
      "text/plain": [
       "<Figure size 432x288 with 1 Axes>"
      ]
     },
     "metadata": {
      "needs_background": "light"
     },
     "output_type": "display_data"
    }
   ],
   "source": [
    "data.hist(column=\"Age\")"
   ]
  },
  {
   "cell_type": "markdown",
   "metadata": {
    "id": "SXiVaunJMVPs"
   },
   "source": [
    "## 1.1 [SINGLE VARIABLE] Model using Age as quantitative variable"
   ]
  },
  {
   "cell_type": "markdown",
   "metadata": {
    "id": "OJKJ6LElfvO0"
   },
   "source": [
    "### **Logistic Regression of Quantitative Age and Default**"
   ]
  },
  {
   "cell_type": "code",
   "execution_count": 52,
   "metadata": {
    "id": "slcvmMvGc017"
   },
   "outputs": [],
   "source": [
    "from sklearn import preprocessing"
   ]
  },
  {
   "cell_type": "code",
   "execution_count": 53,
   "metadata": {
    "colab": {
     "base_uri": "https://localhost:8080/"
    },
    "executionInfo": {
     "elapsed": 2289,
     "status": "ok",
     "timestamp": 1649602447363,
     "user": {
      "displayName": "Daniel Malinovský",
      "userId": "02049496699663143405"
     },
     "user_tz": -120
    },
    "id": "P5t47Zyvc7rp",
    "outputId": "cf16be7a-602f-4d07-a287-2398c499a7bb"
   },
   "outputs": [],
   "source": [
    "import matplotlib.pyplot as plt \n",
    "from sklearn.linear_model import LogisticRegression\n",
    "from sklearn.model_selection import train_test_split\n",
    "import seaborn as sns\n",
    "import statsmodels.api as sm"
   ]
  },
  {
   "cell_type": "code",
   "execution_count": 54,
   "metadata": {
    "id": "8_J16Rqog7yR"
   },
   "outputs": [],
   "source": [
    "y = data['DEFAULT']\n",
    "x = data['Age']\n",
    "\n",
    "y_train,y_test,x_train,x_test = train_test_split(y,x,test_size=0.25, random_state=0)\n",
    "x_train = x_train.values.reshape(-1,1)\n",
    "x_test = x_test.values.reshape(-1, 1)\n",
    "logreg = LogisticRegression()\n",
    "logreg.fit(x_train,y_train)\n",
    "y_pred=logreg.predict(x_test)"
   ]
  },
  {
   "cell_type": "code",
   "execution_count": 55,
   "metadata": {
    "colab": {
     "base_uri": "https://localhost:8080/"
    },
    "executionInfo": {
     "elapsed": 253,
     "status": "ok",
     "timestamp": 1649602452185,
     "user": {
      "displayName": "Daniel Malinovský",
      "userId": "02049496699663143405"
     },
     "user_tz": -120
    },
    "id": "ebQPLD5Lk90L",
    "outputId": "f8a0e4a2-631e-4c5f-d277-168f40a89b65"
   },
   "outputs": [
    {
     "data": {
      "text/plain": [
       "array([[159,   0],\n",
       "       [ 77,   0]])"
      ]
     },
     "execution_count": 55,
     "metadata": {},
     "output_type": "execute_result"
    }
   ],
   "source": [
    "from sklearn import metrics\n",
    "cnf_matrix = metrics.confusion_matrix(y_test, y_pred)\n",
    "cnf_matrix"
   ]
  },
  {
   "cell_type": "code",
   "execution_count": 56,
   "metadata": {
    "colab": {
     "base_uri": "https://localhost:8080/"
    },
    "executionInfo": {
     "elapsed": 1434,
     "status": "ok",
     "timestamp": 1649602455125,
     "user": {
      "displayName": "Daniel Malinovský",
      "userId": "02049496699663143405"
     },
     "user_tz": -120
    },
    "id": "T-OHKQl4lNaH",
    "outputId": "144b16a5-ed22-43fe-b693-ddf780aa8d9d"
   },
   "outputs": [
    {
     "name": "stdout",
     "output_type": "stream",
     "text": [
      "Accuracy: 0.673728813559322\n"
     ]
    }
   ],
   "source": [
    "print(\"Accuracy:\",metrics.accuracy_score(y_test, y_pred))"
   ]
  },
  {
   "cell_type": "markdown",
   "metadata": {
    "id": "VUmVNdLLnepA"
   },
   "source": [
    "Testing Accuracy of Logistic regression model\n",
    " - accuracy is at 67%\n",
    " - model accuracy could be greatly increased"
   ]
  },
  {
   "cell_type": "code",
   "execution_count": 57,
   "metadata": {
    "colab": {
     "base_uri": "https://localhost:8080/",
     "height": 265
    },
    "executionInfo": {
     "elapsed": 4,
     "status": "ok",
     "timestamp": 1649602463077,
     "user": {
      "displayName": "Daniel Malinovský",
      "userId": "02049496699663143405"
     },
     "user_tz": -120
    },
    "id": "d-nAWVfBlTAJ",
    "outputId": "76f9d59f-b387-42c7-d063-2dcacb2b0c21"
   },
   "outputs": [
    {
     "data": {
      "image/png": "[encoded data removed]",
      "text/plain": [
       "<Figure size 432x288 with 1 Axes>"
      ]
     },
     "metadata": {
      "needs_background": "light"
     },
     "output_type": "display_data"
    }
   ],
   "source": [
    "y_pred_proba = logreg.predict_proba(x_test)[::,1]\n",
    "fpr, tpr, _ = metrics.roc_curve(y_test,  y_pred_proba)\n",
    "auc = metrics.roc_auc_score(y_test, y_pred_proba)\n",
    "plt.plot(fpr,tpr,label=\"data 1, auc=\"+str(auc))\n",
    "plt.legend(loc=4)\n",
    "plt.show()"
   ]
  },
  {
   "cell_type": "markdown",
   "metadata": {
    "id": "DArmOvfBoE-c"
   },
   "source": [
    "Area Under Curve (AUC) is at 52.8%\n",
    " - AUC is barely breaking even signifying that model is able to estimate roughly half of the defaults\n",
    " - this model is not fit for predcitions since we could flip a coin do decide whether the result will be good or not"
   ]
  },
  {
   "cell_type": "code",
   "execution_count": 58,
   "metadata": {
    "colab": {
     "base_uri": "https://localhost:8080/"
    },
    "executionInfo": {
     "elapsed": 2,
     "status": "ok",
     "timestamp": 1649602464979,
     "user": {
      "displayName": "Daniel Malinovský",
      "userId": "02049496699663143405"
     },
     "user_tz": -120
    },
    "id": "v6ajxz4Ymh4P",
    "outputId": "0553e7c8-0b4d-4995-ab84-3a7015443e85"
   },
   "outputs": [
    {
     "name": "stdout",
     "output_type": "stream",
     "text": [
      "Optimization terminated successfully.\n",
      "         Current function value: 0.664439\n",
      "         Iterations 4\n",
      "                           Logit Regression Results                           \n",
      "==============================================================================\n",
      "Dep. Variable:                DEFAULT   No. Observations:                  708\n",
      "Model:                          Logit   Df Residuals:                      707\n",
      "Method:                           MLE   Df Model:                            0\n",
      "Date:                Sun, 10 Apr 2022   Pseudo R-squ.:                0.004422\n",
      "Time:                        18:44:07   Log-Likelihood:                -470.42\n",
      "converged:                       True   LL-Null:                       -472.51\n",
      "Covariance Type:            nonrobust   LLR p-value:                       nan\n",
      "==============================================================================\n",
      "                 coef    std err          z      P>|z|      [0.025      0.975]\n",
      "------------------------------------------------------------------------------\n",
      "x1            -0.0118      0.002     -6.249      0.000      -0.015      -0.008\n",
      "==============================================================================\n"
     ]
    }
   ],
   "source": [
    "import statsmodels.api as sm\n",
    "logit_model=sm.Logit(y_train,x_train)\n",
    "result=logit_model.fit()\n",
    "print(result.summary())"
   ]
  },
  {
   "cell_type": "markdown",
   "metadata": {
    "id": "gUdBITxUrCGc"
   },
   "source": [
    "According to wald test age is sufficient predictor of the default\n",
    " - however as we observed earlier model has very bad results from AUC and accuracy tests"
   ]
  },
  {
   "cell_type": "markdown",
   "metadata": {
    "id": "Ek12yH8zZYl8"
   },
   "source": [
    "## 1.2a Preparing data for Age group default ratio model  "
   ]
  },
  {
   "cell_type": "markdown",
   "metadata": {
    "id": "qANEc7LjcZT3"
   },
   "source": [
    "Histogram of defaults per age"
   ]
  },
  {
   "cell_type": "code",
   "execution_count": 59,
   "metadata": {
    "colab": {
     "base_uri": "https://localhost:8080/",
     "height": 316
    },
    "executionInfo": {
     "elapsed": 272,
     "status": "ok",
     "timestamp": 1649602468986,
     "user": {
      "displayName": "Daniel Malinovský",
      "userId": "02049496699663143405"
     },
     "user_tz": -120
    },
    "id": "TCPaxTCtcYSz",
    "outputId": "b5406970-2649-47a9-dc5d-ce18651620e6"
   },
   "outputs": [
    {
     "data": {
      "text/plain": [
       "array([[<AxesSubplot:title={'center':'Age'}>]], dtype=object)"
      ]
     },
     "execution_count": 59,
     "metadata": {},
     "output_type": "execute_result"
    },
    {
     "data": {
      "image/png": "[encoded data removed]",
      "text/plain": [
       "<Figure size 432x288 with 1 Axes>"
      ]
     },
     "metadata": {
      "needs_background": "light"
     },
     "output_type": "display_data"
    }
   ],
   "source": [
    "data[data['DEFAULT'] == 1].hist(column='Age')"
   ]
  },
  {
   "cell_type": "markdown",
   "metadata": {
    "id": "09tK0Gnt166i"
   },
   "source": [
    "Creating Dataframe for Default likelihood of age groups"
   ]
  },
  {
   "cell_type": "code",
   "execution_count": 60,
   "metadata": {
    "colab": {
     "base_uri": "https://localhost:8080/"
    },
    "executionInfo": {
     "elapsed": 247,
     "status": "ok",
     "timestamp": 1649602471739,
     "user": {
      "displayName": "Daniel Malinovský",
      "userId": "02049496699663143405"
     },
     "user_tz": -120
    },
    "id": "NH6wsN1ZXaty",
    "outputId": "7301cf9a-eb6e-41ca-ef89-2dc2e769a8e5"
   },
   "outputs": [
    {
     "data": {
      "text/plain": [
       "Age Group       int64\n",
       "DEFAULTS      float64\n",
       "REPAYMENTS    float64\n",
       "Likelihood    float64\n",
       "dtype: object"
      ]
     },
     "execution_count": 60,
     "metadata": {},
     "output_type": "execute_result"
    }
   ],
   "source": [
    "dtypes = np.dtype(\n",
    "    [\n",
    "        (\"Age Group\", int),\n",
    "        ('DEFAULTS', int),\n",
    "        ('REPAYMENTS', int),\n",
    "        (\"Likelihood\", float)\n",
    "    ]\n",
    ")\n",
    "age_group_default_likelihood = pd.DataFrame(np.empty(0, dtype=dtypes))\n",
    "age_group_default_likelihood['Age Group'] = range(20,91)\n",
    "age_group_default_likelihood.dtypes"
   ]
  },
  {
   "cell_type": "markdown",
   "metadata": {
    "id": "hicEjxNN2FqI"
   },
   "source": [
    "Filling Age Group dataframe"
   ]
  },
  {
   "cell_type": "code",
   "execution_count": 61,
   "metadata": {
    "colab": {
     "base_uri": "https://localhost:8080/"
    },
    "executionInfo": {
     "elapsed": 255,
     "status": "ok",
     "timestamp": 1649608312447,
     "user": {
      "displayName": "Daniel Malinovský",
      "userId": "02049496699663143405"
     },
     "user_tz": -120
    },
    "id": "hRMNGrSbUMMH",
    "outputId": "8cbda320-df47-475a-faf5-c1f6e2b3da6b"
   },
   "outputs": [
    {
     "data": {
      "text/plain": [
       "Age Group     22.0\n",
       "DEFAULTS       NaN\n",
       "REPAYMENTS     NaN\n",
       "Likelihood     NaN\n",
       "Name: 2, dtype: float64"
      ]
     },
     "execution_count": 61,
     "metadata": {},
     "output_type": "execute_result"
    }
   ],
   "source": [
    "age_group_default_likelihood.loc[2]"
   ]
  },
  {
   "cell_type": "code",
   "execution_count": 62,
   "metadata": {
    "executionInfo": {
     "elapsed": 5730,
     "status": "ok",
     "timestamp": 1649608651071,
     "user": {
      "displayName": "Daniel Malinovský",
      "userId": "02049496699663143405"
     },
     "user_tz": -120
    },
    "id": "6OBOFDNhuKzw"
   },
   "outputs": [],
   "source": [
    "pd.options.mode.chained_assignment = None\n",
    "for i in range(0, len(data.index)):\n",
    "  age_group_default_likelihood['DEFAULTS'].loc[i] = data[(data['Age'] == (i+data['Age'].min())) & (data['DEFAULT'] == 1)]['DEFAULT'].count()\n",
    "  age_group_default_likelihood['REPAYMENTS'].loc[i] = data[(data['Age'] == (i+data['Age'].min())) & (data['DEFAULT'] == 0)]['DEFAULT'].count()\n"
   ]
  },
  {
   "cell_type": "markdown",
   "metadata": {
    "id": "0SFH9h4U2KpW"
   },
   "source": [
    "Calculating Default Ratio for Age groups"
   ]
  },
  {
   "cell_type": "code",
   "execution_count": 63,
   "metadata": {
    "colab": {
     "base_uri": "https://localhost:8080/",
     "height": 423
    },
    "executionInfo": {
     "elapsed": 305,
     "status": "ok",
     "timestamp": 1649608657611,
     "user": {
      "displayName": "Daniel Malinovský",
      "userId": "02049496699663143405"
     },
     "user_tz": -120
    },
    "id": "TuYC1mGq0gGY",
    "outputId": "a4dce69c-459b-4efe-fc20-9fdd16a4a8c7"
   },
   "outputs": [
    {
     "data": {
      "text/html": [
       "<div>\n",
       "<style scoped>\n",
       "    .dataframe tbody tr th:only-of-type {\n",
       "        vertical-align: middle;\n",
       "    }\n",
       "\n",
       "    .dataframe tbody tr th {\n",
       "        vertical-align: top;\n",
       "    }\n",
       "\n",
       "    .dataframe thead th {\n",
       "        text-align: right;\n",
       "    }\n",
       "</style>\n",
       "<table border=\"1\" class=\"dataframe\">\n",
       "  <thead>\n",
       "    <tr style=\"text-align: right;\">\n",
       "      <th></th>\n",
       "      <th>Age Group</th>\n",
       "      <th>DEFAULTS</th>\n",
       "      <th>REPAYMENTS</th>\n",
       "      <th>Likelihood</th>\n",
       "    </tr>\n",
       "  </thead>\n",
       "  <tbody>\n",
       "    <tr>\n",
       "      <th>0</th>\n",
       "      <td>20</td>\n",
       "      <td>0.0</td>\n",
       "      <td>1.0</td>\n",
       "      <td>0.000000</td>\n",
       "    </tr>\n",
       "    <tr>\n",
       "      <th>1</th>\n",
       "      <td>21</td>\n",
       "      <td>4.0</td>\n",
       "      <td>1.0</td>\n",
       "      <td>0.800000</td>\n",
       "    </tr>\n",
       "    <tr>\n",
       "      <th>2</th>\n",
       "      <td>22</td>\n",
       "      <td>9.0</td>\n",
       "      <td>2.0</td>\n",
       "      <td>0.818182</td>\n",
       "    </tr>\n",
       "    <tr>\n",
       "      <th>3</th>\n",
       "      <td>23</td>\n",
       "      <td>7.0</td>\n",
       "      <td>3.0</td>\n",
       "      <td>0.700000</td>\n",
       "    </tr>\n",
       "    <tr>\n",
       "      <th>4</th>\n",
       "      <td>24</td>\n",
       "      <td>10.0</td>\n",
       "      <td>3.0</td>\n",
       "      <td>0.769231</td>\n",
       "    </tr>\n",
       "    <tr>\n",
       "      <th>...</th>\n",
       "      <td>...</td>\n",
       "      <td>...</td>\n",
       "      <td>...</td>\n",
       "      <td>...</td>\n",
       "    </tr>\n",
       "    <tr>\n",
       "      <th>66</th>\n",
       "      <td>86</td>\n",
       "      <td>0.0</td>\n",
       "      <td>0.0</td>\n",
       "      <td>0.000000</td>\n",
       "    </tr>\n",
       "    <tr>\n",
       "      <th>67</th>\n",
       "      <td>87</td>\n",
       "      <td>0.0</td>\n",
       "      <td>0.0</td>\n",
       "      <td>0.000000</td>\n",
       "    </tr>\n",
       "    <tr>\n",
       "      <th>68</th>\n",
       "      <td>88</td>\n",
       "      <td>0.0</td>\n",
       "      <td>0.0</td>\n",
       "      <td>0.000000</td>\n",
       "    </tr>\n",
       "    <tr>\n",
       "      <th>69</th>\n",
       "      <td>89</td>\n",
       "      <td>0.0</td>\n",
       "      <td>0.0</td>\n",
       "      <td>0.000000</td>\n",
       "    </tr>\n",
       "    <tr>\n",
       "      <th>70</th>\n",
       "      <td>90</td>\n",
       "      <td>0.0</td>\n",
       "      <td>0.0</td>\n",
       "      <td>0.000000</td>\n",
       "    </tr>\n",
       "  </tbody>\n",
       "</table>\n",
       "<p>71 rows × 4 columns</p>\n",
       "</div>"
      ],
      "text/plain": [
       "    Age Group  DEFAULTS  REPAYMENTS  Likelihood\n",
       "0          20       0.0         1.0    0.000000\n",
       "1          21       4.0         1.0    0.800000\n",
       "2          22       9.0         2.0    0.818182\n",
       "3          23       7.0         3.0    0.700000\n",
       "4          24      10.0         3.0    0.769231\n",
       "..        ...       ...         ...         ...\n",
       "66         86       0.0         0.0    0.000000\n",
       "67         87       0.0         0.0    0.000000\n",
       "68         88       0.0         0.0    0.000000\n",
       "69         89       0.0         0.0    0.000000\n",
       "70         90       0.0         0.0    0.000000\n",
       "\n",
       "[71 rows x 4 columns]"
      ]
     },
     "execution_count": 63,
     "metadata": {},
     "output_type": "execute_result"
    }
   ],
   "source": [
    "age_group_default_likelihood['Likelihood'] = age_group_default_likelihood['DEFAULTS'] / (age_group_default_likelihood['DEFAULTS'] + age_group_default_likelihood['REPAYMENTS'])\n",
    "age_group_default_likelihood['Likelihood'] = age_group_default_likelihood['Likelihood'].fillna(0)\n",
    "age_group_default_likelihood"
   ]
  },
  {
   "cell_type": "markdown",
   "metadata": {
    "id": "PB5KllUa5Ajg"
   },
   "source": [
    "Plotting Default ratio per age group"
   ]
  },
  {
   "cell_type": "code",
   "execution_count": 64,
   "metadata": {
    "colab": {
     "base_uri": "https://localhost:8080/",
     "height": 265
    },
    "executionInfo": {
     "elapsed": 2368,
     "status": "ok",
     "timestamp": 1649603211562,
     "user": {
      "displayName": "Daniel Malinovský",
      "userId": "02049496699663143405"
     },
     "user_tz": -120
    },
    "id": "g8FUU_i73JVF",
    "outputId": "bcd8d35a-a732-49cc-e82d-6deb67ce98fa"
   },
   "outputs": [
    {
     "data": {
      "image/png": "[encoded data removed]",
      "text/plain": [
       "<Figure size 432x288 with 1 Axes>"
      ]
     },
     "metadata": {
      "needs_background": "light"
     },
     "output_type": "display_data"
    }
   ],
   "source": [
    "import matplotlib.pyplot as plt\n",
    "\n",
    "pos = np.arange(len(age_group_default_likelihood['Age Group']))\n",
    "width = 1.0\n",
    "\n",
    "ax = plt.axes()\n",
    "ax.set_xticks(pos + (width / 2))\n",
    "ax.set_xticklabels(age_group_default_likelihood['Age Group'])\n",
    "\n",
    "plt.bar(pos, age_group_default_likelihood['Likelihood'], width)\n",
    "plt.axhline(y=0.5,linewidth=1, color='r')\n",
    "plt.show()"
   ]
  },
  {
   "cell_type": "markdown",
   "metadata": {
    "id": "8ELrwe8p5FT3"
   },
   "source": [
    "Default ratio shows quadratic trend\n",
    " - this implies that Age is significant factor among young and old clients\n",
    " - even though Age is not significant quantitative variable, it could be significant factor variable in age groups where deafault ratio reaches above 50%\n",
    " - as a factor variable, clients under age of 30, or above age of 50, are risk clients because their age groups are having default ratio greater than 50%\n"
   ]
  },
  {
   "cell_type": "code",
   "execution_count": 65,
   "metadata": {
    "colab": {
     "base_uri": "https://localhost:8080/",
     "height": 708
    },
    "executionInfo": {
     "elapsed": 6,
     "status": "ok",
     "timestamp": 1649603214756,
     "user": {
      "displayName": "Daniel Malinovský",
      "userId": "02049496699663143405"
     },
     "user_tz": -120
    },
    "id": "E3YUut_56nKF",
    "outputId": "81168286-8c27-462a-8ab6-76e314752077"
   },
   "outputs": [
    {
     "data": {
      "text/html": [
       "<div>\n",
       "<style scoped>\n",
       "    .dataframe tbody tr th:only-of-type {\n",
       "        vertical-align: middle;\n",
       "    }\n",
       "\n",
       "    .dataframe tbody tr th {\n",
       "        vertical-align: top;\n",
       "    }\n",
       "\n",
       "    .dataframe thead th {\n",
       "        text-align: right;\n",
       "    }\n",
       "</style>\n",
       "<table border=\"1\" class=\"dataframe\">\n",
       "  <thead>\n",
       "    <tr style=\"text-align: right;\">\n",
       "      <th></th>\n",
       "      <th>Age Group</th>\n",
       "      <th>DEFAULTS</th>\n",
       "      <th>REPAYMENTS</th>\n",
       "      <th>Likelihood</th>\n",
       "    </tr>\n",
       "  </thead>\n",
       "  <tbody>\n",
       "    <tr>\n",
       "      <th>1</th>\n",
       "      <td>21</td>\n",
       "      <td>4.0</td>\n",
       "      <td>1.0</td>\n",
       "      <td>0.800000</td>\n",
       "    </tr>\n",
       "    <tr>\n",
       "      <th>2</th>\n",
       "      <td>22</td>\n",
       "      <td>9.0</td>\n",
       "      <td>2.0</td>\n",
       "      <td>0.818182</td>\n",
       "    </tr>\n",
       "    <tr>\n",
       "      <th>3</th>\n",
       "      <td>23</td>\n",
       "      <td>7.0</td>\n",
       "      <td>3.0</td>\n",
       "      <td>0.700000</td>\n",
       "    </tr>\n",
       "    <tr>\n",
       "      <th>4</th>\n",
       "      <td>24</td>\n",
       "      <td>10.0</td>\n",
       "      <td>3.0</td>\n",
       "      <td>0.769231</td>\n",
       "    </tr>\n",
       "    <tr>\n",
       "      <th>5</th>\n",
       "      <td>25</td>\n",
       "      <td>12.0</td>\n",
       "      <td>7.0</td>\n",
       "      <td>0.631579</td>\n",
       "    </tr>\n",
       "    <tr>\n",
       "      <th>6</th>\n",
       "      <td>26</td>\n",
       "      <td>10.0</td>\n",
       "      <td>8.0</td>\n",
       "      <td>0.555556</td>\n",
       "    </tr>\n",
       "    <tr>\n",
       "      <th>7</th>\n",
       "      <td>27</td>\n",
       "      <td>14.0</td>\n",
       "      <td>12.0</td>\n",
       "      <td>0.538462</td>\n",
       "    </tr>\n",
       "    <tr>\n",
       "      <th>32</th>\n",
       "      <td>52</td>\n",
       "      <td>7.0</td>\n",
       "      <td>4.0</td>\n",
       "      <td>0.636364</td>\n",
       "    </tr>\n",
       "    <tr>\n",
       "      <th>37</th>\n",
       "      <td>57</td>\n",
       "      <td>5.0</td>\n",
       "      <td>5.0</td>\n",
       "      <td>0.500000</td>\n",
       "    </tr>\n",
       "    <tr>\n",
       "      <th>39</th>\n",
       "      <td>59</td>\n",
       "      <td>2.0</td>\n",
       "      <td>2.0</td>\n",
       "      <td>0.500000</td>\n",
       "    </tr>\n",
       "    <tr>\n",
       "      <th>45</th>\n",
       "      <td>65</td>\n",
       "      <td>3.0</td>\n",
       "      <td>1.0</td>\n",
       "      <td>0.750000</td>\n",
       "    </tr>\n",
       "    <tr>\n",
       "      <th>46</th>\n",
       "      <td>66</td>\n",
       "      <td>4.0</td>\n",
       "      <td>0.0</td>\n",
       "      <td>1.000000</td>\n",
       "    </tr>\n",
       "    <tr>\n",
       "      <th>47</th>\n",
       "      <td>67</td>\n",
       "      <td>3.0</td>\n",
       "      <td>2.0</td>\n",
       "      <td>0.600000</td>\n",
       "    </tr>\n",
       "    <tr>\n",
       "      <th>49</th>\n",
       "      <td>69</td>\n",
       "      <td>2.0</td>\n",
       "      <td>2.0</td>\n",
       "      <td>0.500000</td>\n",
       "    </tr>\n",
       "    <tr>\n",
       "      <th>50</th>\n",
       "      <td>70</td>\n",
       "      <td>2.0</td>\n",
       "      <td>0.0</td>\n",
       "      <td>1.000000</td>\n",
       "    </tr>\n",
       "    <tr>\n",
       "      <th>51</th>\n",
       "      <td>71</td>\n",
       "      <td>1.0</td>\n",
       "      <td>1.0</td>\n",
       "      <td>0.500000</td>\n",
       "    </tr>\n",
       "    <tr>\n",
       "      <th>54</th>\n",
       "      <td>74</td>\n",
       "      <td>1.0</td>\n",
       "      <td>1.0</td>\n",
       "      <td>0.500000</td>\n",
       "    </tr>\n",
       "    <tr>\n",
       "      <th>56</th>\n",
       "      <td>76</td>\n",
       "      <td>1.0</td>\n",
       "      <td>1.0</td>\n",
       "      <td>0.500000</td>\n",
       "    </tr>\n",
       "    <tr>\n",
       "      <th>57</th>\n",
       "      <td>77</td>\n",
       "      <td>1.0</td>\n",
       "      <td>0.0</td>\n",
       "      <td>1.000000</td>\n",
       "    </tr>\n",
       "    <tr>\n",
       "      <th>59</th>\n",
       "      <td>79</td>\n",
       "      <td>1.0</td>\n",
       "      <td>0.0</td>\n",
       "      <td>1.000000</td>\n",
       "    </tr>\n",
       "    <tr>\n",
       "      <th>60</th>\n",
       "      <td>80</td>\n",
       "      <td>2.0</td>\n",
       "      <td>0.0</td>\n",
       "      <td>1.000000</td>\n",
       "    </tr>\n",
       "  </tbody>\n",
       "</table>\n",
       "</div>"
      ],
      "text/plain": [
       "    Age Group  DEFAULTS  REPAYMENTS  Likelihood\n",
       "1          21       4.0         1.0    0.800000\n",
       "2          22       9.0         2.0    0.818182\n",
       "3          23       7.0         3.0    0.700000\n",
       "4          24      10.0         3.0    0.769231\n",
       "5          25      12.0         7.0    0.631579\n",
       "6          26      10.0         8.0    0.555556\n",
       "7          27      14.0        12.0    0.538462\n",
       "32         52       7.0         4.0    0.636364\n",
       "37         57       5.0         5.0    0.500000\n",
       "39         59       2.0         2.0    0.500000\n",
       "45         65       3.0         1.0    0.750000\n",
       "46         66       4.0         0.0    1.000000\n",
       "47         67       3.0         2.0    0.600000\n",
       "49         69       2.0         2.0    0.500000\n",
       "50         70       2.0         0.0    1.000000\n",
       "51         71       1.0         1.0    0.500000\n",
       "54         74       1.0         1.0    0.500000\n",
       "56         76       1.0         1.0    0.500000\n",
       "57         77       1.0         0.0    1.000000\n",
       "59         79       1.0         0.0    1.000000\n",
       "60         80       2.0         0.0    1.000000"
      ]
     },
     "execution_count": 65,
     "metadata": {},
     "output_type": "execute_result"
    }
   ],
   "source": [
    "age_group_default_likelihood[age_group_default_likelihood['Likelihood'] >= 0.50].sort_values(['Age Group', 'Likelihood'])"
   ]
  },
  {
   "cell_type": "markdown",
   "metadata": {
    "id": "G77lmB8gpnVA"
   },
   "source": [
    "## 1.2b [SINGLE VARIABLE] Model using Age as Factor variable"
   ]
  },
  {
   "cell_type": "code",
   "execution_count": 66,
   "metadata": {
    "id": "Tkw-v-4gqgD2"
   },
   "outputs": [],
   "source": [
    "data['Risk_Age_Float'] = np.where(np.logical_or(data['Age'] < 30, data['Age'] > 50), 1, 0)"
   ]
  },
  {
   "cell_type": "code",
   "execution_count": 67,
   "metadata": {
    "colab": {
     "base_uri": "https://localhost:8080/",
     "height": 423
    },
    "executionInfo": {
     "elapsed": 364,
     "status": "ok",
     "timestamp": 1649603224074,
     "user": {
      "displayName": "Daniel Malinovský",
      "userId": "02049496699663143405"
     },
     "user_tz": -120
    },
    "id": "DeRMKVFkudUL",
    "outputId": "a6de11fe-d12b-40df-831e-ec1e4a26adb5"
   },
   "outputs": [
    {
     "data": {
      "text/html": [
       "<div>\n",
       "<style scoped>\n",
       "    .dataframe tbody tr th:only-of-type {\n",
       "        vertical-align: middle;\n",
       "    }\n",
       "\n",
       "    .dataframe tbody tr th {\n",
       "        vertical-align: top;\n",
       "    }\n",
       "\n",
       "    .dataframe thead th {\n",
       "        text-align: right;\n",
       "    }\n",
       "</style>\n",
       "<table border=\"1\" class=\"dataframe\">\n",
       "  <thead>\n",
       "    <tr style=\"text-align: right;\">\n",
       "      <th></th>\n",
       "      <th>Loan term</th>\n",
       "      <th>Loan Amount</th>\n",
       "      <th>Year of application</th>\n",
       "      <th>Year of birth</th>\n",
       "      <th>City</th>\n",
       "      <th>Gender</th>\n",
       "      <th>Education</th>\n",
       "      <th>DEFAULT</th>\n",
       "      <th>Age</th>\n",
       "      <th>Risk_Age_Float</th>\n",
       "    </tr>\n",
       "  </thead>\n",
       "  <tbody>\n",
       "    <tr>\n",
       "      <th>0</th>\n",
       "      <td>36</td>\n",
       "      <td>2384.0</td>\n",
       "      <td>2012</td>\n",
       "      <td>1979</td>\n",
       "      <td>Prague</td>\n",
       "      <td>Female</td>\n",
       "      <td>Primary</td>\n",
       "      <td>1</td>\n",
       "      <td>41</td>\n",
       "      <td>0</td>\n",
       "    </tr>\n",
       "    <tr>\n",
       "      <th>1</th>\n",
       "      <td>12</td>\n",
       "      <td>3499.0</td>\n",
       "      <td>2015</td>\n",
       "      <td>1986</td>\n",
       "      <td>Brno</td>\n",
       "      <td>Female</td>\n",
       "      <td>Primary</td>\n",
       "      <td>0</td>\n",
       "      <td>34</td>\n",
       "      <td>0</td>\n",
       "    </tr>\n",
       "    <tr>\n",
       "      <th>2</th>\n",
       "      <td>9</td>\n",
       "      <td>918.0</td>\n",
       "      <td>2014</td>\n",
       "      <td>1984</td>\n",
       "      <td>Prague</td>\n",
       "      <td>Female</td>\n",
       "      <td>Primary</td>\n",
       "      <td>1</td>\n",
       "      <td>36</td>\n",
       "      <td>0</td>\n",
       "    </tr>\n",
       "    <tr>\n",
       "      <th>3</th>\n",
       "      <td>9</td>\n",
       "      <td>1501.0</td>\n",
       "      <td>2010</td>\n",
       "      <td>1976</td>\n",
       "      <td>Brno</td>\n",
       "      <td>Female</td>\n",
       "      <td>Primary</td>\n",
       "      <td>0</td>\n",
       "      <td>44</td>\n",
       "      <td>0</td>\n",
       "    </tr>\n",
       "    <tr>\n",
       "      <th>4</th>\n",
       "      <td>12</td>\n",
       "      <td>1555.0</td>\n",
       "      <td>2017</td>\n",
       "      <td>1962</td>\n",
       "      <td>Brno</td>\n",
       "      <td>Female</td>\n",
       "      <td>Secondary</td>\n",
       "      <td>0</td>\n",
       "      <td>58</td>\n",
       "      <td>1</td>\n",
       "    </tr>\n",
       "    <tr>\n",
       "      <th>...</th>\n",
       "      <td>...</td>\n",
       "      <td>...</td>\n",
       "      <td>...</td>\n",
       "      <td>...</td>\n",
       "      <td>...</td>\n",
       "      <td>...</td>\n",
       "      <td>...</td>\n",
       "      <td>...</td>\n",
       "      <td>...</td>\n",
       "      <td>...</td>\n",
       "    </tr>\n",
       "    <tr>\n",
       "      <th>995</th>\n",
       "      <td>12</td>\n",
       "      <td>3059.0</td>\n",
       "      <td>2019</td>\n",
       "      <td>1958</td>\n",
       "      <td>Prague</td>\n",
       "      <td>Female</td>\n",
       "      <td>University</td>\n",
       "      <td>0</td>\n",
       "      <td>62</td>\n",
       "      <td>1</td>\n",
       "    </tr>\n",
       "    <tr>\n",
       "      <th>996</th>\n",
       "      <td>30</td>\n",
       "      <td>7596.0</td>\n",
       "      <td>2020</td>\n",
       "      <td>1957</td>\n",
       "      <td>Prague</td>\n",
       "      <td>Female</td>\n",
       "      <td>University</td>\n",
       "      <td>1</td>\n",
       "      <td>63</td>\n",
       "      <td>1</td>\n",
       "    </tr>\n",
       "    <tr>\n",
       "      <th>997</th>\n",
       "      <td>30</td>\n",
       "      <td>4811.0</td>\n",
       "      <td>2019</td>\n",
       "      <td>1995</td>\n",
       "      <td>Prague</td>\n",
       "      <td>Female</td>\n",
       "      <td>Primary</td>\n",
       "      <td>1</td>\n",
       "      <td>25</td>\n",
       "      <td>1</td>\n",
       "    </tr>\n",
       "    <tr>\n",
       "      <th>998</th>\n",
       "      <td>9</td>\n",
       "      <td>1199.0</td>\n",
       "      <td>2010</td>\n",
       "      <td>1943</td>\n",
       "      <td>Brno</td>\n",
       "      <td>Male</td>\n",
       "      <td>Secondary</td>\n",
       "      <td>1</td>\n",
       "      <td>77</td>\n",
       "      <td>1</td>\n",
       "    </tr>\n",
       "    <tr>\n",
       "      <th>999</th>\n",
       "      <td>36</td>\n",
       "      <td>2862.0</td>\n",
       "      <td>2010</td>\n",
       "      <td>1980</td>\n",
       "      <td>Prague</td>\n",
       "      <td>Female</td>\n",
       "      <td>University</td>\n",
       "      <td>0</td>\n",
       "      <td>40</td>\n",
       "      <td>0</td>\n",
       "    </tr>\n",
       "  </tbody>\n",
       "</table>\n",
       "<p>944 rows × 10 columns</p>\n",
       "</div>"
      ],
      "text/plain": [
       "     Loan term  Loan Amount  Year of application  Year of birth    City  \\\n",
       "0           36       2384.0                 2012           1979  Prague   \n",
       "1           12       3499.0                 2015           1986    Brno   \n",
       "2            9        918.0                 2014           1984  Prague   \n",
       "3            9       1501.0                 2010           1976    Brno   \n",
       "4           12       1555.0                 2017           1962    Brno   \n",
       "..         ...          ...                  ...            ...     ...   \n",
       "995         12       3059.0                 2019           1958  Prague   \n",
       "996         30       7596.0                 2020           1957  Prague   \n",
       "997         30       4811.0                 2019           1995  Prague   \n",
       "998          9       1199.0                 2010           1943    Brno   \n",
       "999         36       2862.0                 2010           1980  Prague   \n",
       "\n",
       "     Gender   Education  DEFAULT  Age  Risk_Age_Float  \n",
       "0    Female     Primary        1   41               0  \n",
       "1    Female     Primary        0   34               0  \n",
       "2    Female     Primary        1   36               0  \n",
       "3    Female     Primary        0   44               0  \n",
       "4    Female   Secondary        0   58               1  \n",
       "..      ...         ...      ...  ...             ...  \n",
       "995  Female  University        0   62               1  \n",
       "996  Female  University        1   63               1  \n",
       "997  Female     Primary        1   25               1  \n",
       "998    Male   Secondary        1   77               1  \n",
       "999  Female  University        0   40               0  \n",
       "\n",
       "[944 rows x 10 columns]"
      ]
     },
     "execution_count": 67,
     "metadata": {},
     "output_type": "execute_result"
    }
   ],
   "source": [
    "data"
   ]
  },
  {
   "cell_type": "markdown",
   "metadata": {
    "id": "3MkyPpC7p_Fc"
   },
   "source": [
    "### Logistic Regression of Factor Age and Default "
   ]
  },
  {
   "cell_type": "code",
   "execution_count": 68,
   "metadata": {
    "id": "qx6hN4dbs612"
   },
   "outputs": [],
   "source": [
    "y = data['DEFAULT']\n",
    "x = data['Risk_Age_Float']\n",
    "\n",
    "y_train,y_test,x_train,x_test = train_test_split(y,x,test_size=0.25, random_state=0)\n",
    "x_train = x_train.values.reshape(-1,1)\n",
    "x_test = x_test.values.reshape(-1, 1)\n",
    "logreg = LogisticRegression()\n",
    "logreg.fit(x_train,y_train)\n",
    "y_pred=logreg.predict(x_test)"
   ]
  },
  {
   "cell_type": "code",
   "execution_count": 69,
   "metadata": {
    "colab": {
     "base_uri": "https://localhost:8080/"
    },
    "executionInfo": {
     "elapsed": 800,
     "status": "ok",
     "timestamp": 1649603259241,
     "user": {
      "displayName": "Daniel Malinovský",
      "userId": "02049496699663143405"
     },
     "user_tz": -120
    },
    "id": "Mxe62gNYv8Bp",
    "outputId": "e1532fae-3798-40a2-f718-79df83e74cdc"
   },
   "outputs": [
    {
     "data": {
      "text/plain": [
       "array([[159,   0],\n",
       "       [ 77,   0]])"
      ]
     },
     "execution_count": 69,
     "metadata": {},
     "output_type": "execute_result"
    }
   ],
   "source": [
    "cnf_matrix = metrics.confusion_matrix(y_test, y_pred)\n",
    "cnf_matrix"
   ]
  },
  {
   "cell_type": "code",
   "execution_count": 70,
   "metadata": {
    "colab": {
     "base_uri": "https://localhost:8080/"
    },
    "executionInfo": {
     "elapsed": 7,
     "status": "ok",
     "timestamp": 1649603266603,
     "user": {
      "displayName": "Daniel Malinovský",
      "userId": "02049496699663143405"
     },
     "user_tz": -120
    },
    "id": "8_VNJ8aHv-Ay",
    "outputId": "efe2e549-91ba-4250-f120-248c978180b9"
   },
   "outputs": [
    {
     "name": "stdout",
     "output_type": "stream",
     "text": [
      "Accuracy: 0.673728813559322\n"
     ]
    }
   ],
   "source": [
    "print(\"Accuracy:\",metrics.accuracy_score(y_test, y_pred))"
   ]
  },
  {
   "cell_type": "code",
   "execution_count": 71,
   "metadata": {
    "colab": {
     "base_uri": "https://localhost:8080/",
     "height": 265
    },
    "executionInfo": {
     "elapsed": 9,
     "status": "ok",
     "timestamp": 1649603301638,
     "user": {
      "displayName": "Daniel Malinovský",
      "userId": "02049496699663143405"
     },
     "user_tz": -120
    },
    "id": "dWnt6zAvwBwS",
    "outputId": "4113b32f-1abd-453c-912c-6caa69f2daf2"
   },
   "outputs": [
    {
     "data": {
      "image/png": "[encoded data removed]",
      "text/plain": [
       "<Figure size 432x288 with 1 Axes>"
      ]
     },
     "metadata": {
      "needs_background": "light"
     },
     "output_type": "display_data"
    }
   ],
   "source": [
    "y_pred_proba = logreg.predict_proba(x_test)[::,1]\n",
    "fpr, tpr, _ = metrics.roc_curve(y_test,  y_pred_proba)\n",
    "auc = metrics.roc_auc_score(y_test, y_pred_proba)\n",
    "plt.plot(fpr,tpr,label=\"data 1, auc=\"+str(auc))\n",
    "plt.legend(loc=4)\n",
    "plt.show()"
   ]
  },
  {
   "cell_type": "markdown",
   "metadata": {
    "id": "O2rFbbwBFP09"
   },
   "source": [
    "Area Under Curve (AUC) is at 61.78%\n",
    " - AUC has increased noticeably\n",
    " - using age as factor variable significantly improves it's use in model"
   ]
  },
  {
   "cell_type": "code",
   "execution_count": 72,
   "metadata": {
    "colab": {
     "base_uri": "https://localhost:8080/"
    },
    "executionInfo": {
     "elapsed": 2,
     "status": "ok",
     "timestamp": 1649603303438,
     "user": {
      "displayName": "Daniel Malinovský",
      "userId": "02049496699663143405"
     },
     "user_tz": -120
    },
    "id": "0YFL8KYiwE4E",
    "outputId": "cff2894d-0ad2-4426-e740-970364999a87"
   },
   "outputs": [
    {
     "name": "stdout",
     "output_type": "stream",
     "text": [
      "Optimization terminated successfully.\n",
      "         Current function value: 0.693102\n",
      "         Iterations 3\n",
      "                           Logit Regression Results                           \n",
      "==============================================================================\n",
      "Dep. Variable:                DEFAULT   No. Observations:                  708\n",
      "Model:                          Logit   Df Residuals:                      707\n",
      "Method:                           MLE   Df Model:                            0\n",
      "Date:                Sun, 10 Apr 2022   Pseudo R-squ.:                -0.03853\n",
      "Time:                        18:44:09   Log-Likelihood:                -490.72\n",
      "converged:                       True   LL-Null:                       -472.51\n",
      "Covariance Type:            nonrobust   LLR p-value:                       nan\n",
      "==============================================================================\n",
      "                 coef    std err          z      P>|z|      [0.025      0.975]\n",
      "------------------------------------------------------------------------------\n",
      "x1            -0.0323      0.127     -0.254      0.800      -0.281       0.217\n",
      "==============================================================================\n"
     ]
    }
   ],
   "source": [
    "logit_model=sm.Logit(y_train,x_train)\n",
    "result=logit_model.fit()\n",
    "print(result.summary())"
   ]
  },
  {
   "cell_type": "markdown",
   "metadata": {
    "id": "cXcLmJJVf_CK"
   },
   "source": [
    "# **2. [LOGIT] All variables**"
   ]
  },
  {
   "cell_type": "markdown",
   "metadata": {
    "id": "iAAjyeBkFiyP"
   },
   "source": [
    "- in this secion we will attemp to compose model with all of the available variables\n",
    "- goal of this section is to identify significant variable to later use in final lighter model\n",
    "- using all the available variables also serves as benchmark to information generated by models with less variables"
   ]
  },
  {
   "cell_type": "markdown",
   "metadata": {
    "id": "UMttqfSM6r34"
   },
   "source": [
    "## 2.1 [ALL VARIABLES] Quantitative Testing - Age as quantitative variable\n",
    "\n",
    "\n",
    "\n"
   ]
  },
  {
   "cell_type": "markdown",
   "metadata": {
    "id": "viXkW8WNGSru"
   },
   "source": [
    "- in this model we attempt to use Age as quantitative variable\n",
    "- as shown in previous section Age as quantitative variable carries less information to the model than Age as factor variable\n",
    "- however in order to confirm this thesis we will contruct logit model including all variables both with Age as quantitative variable and factor variable"
   ]
  },
  {
   "cell_type": "code",
   "execution_count": 73,
   "metadata": {
    "id": "-4o-uQ1ow0rP"
   },
   "outputs": [],
   "source": [
    "data['City_Float'] = np.where(data['City'] == 'Prague', 1, 2)\n",
    "data['Gender_Float'] = np.where(data['Gender'] == 'Male', 1, 2)\n",
    "data['Education_Float'] = np.where(data['Education'] == 'Primary', 1, np.where(data['Education'] == 'Secondary', 2, 3))\n",
    "data['City_Float'] = pd.to_numeric(data['City_Float'], downcast=\"float\")\n",
    "data['Gender_Float'] = pd.to_numeric(data['Gender_Float'], downcast=\"float\")\n",
    "data['Education_Float'] = pd.to_numeric(data['Education_Float'], downcast=\"float\")"
   ]
  },
  {
   "cell_type": "code",
   "execution_count": 74,
   "metadata": {
    "colab": {
     "base_uri": "https://localhost:8080/"
    },
    "executionInfo": {
     "elapsed": 5,
     "status": "ok",
     "timestamp": 1649603320478,
     "user": {
      "displayName": "Daniel Malinovský",
      "userId": "02049496699663143405"
     },
     "user_tz": -120
    },
    "id": "a3zQhUSQgFVK",
    "outputId": "77616c96-24d6-41d3-8392-1c3cd681b24e"
   },
   "outputs": [],
   "source": [
    "feature_vars = ['Loan term', 'Loan Amount', 'Year of application', 'City_Float', 'Gender_Float', 'Education_Float', 'Age']\n",
    "\n",
    "y = data['DEFAULT']\n",
    "x = data[feature_vars]\n",
    "x = np.asmatrix(x)\n",
    "\n",
    "y_train,y_test,x_train,x_test = train_test_split(y,x,test_size=0.25, random_state=0)\n",
    "#x_train = x_train.values.reshape(-1,1)\n",
    "#x_test = x_test.values.reshape(-1, 1)\n",
    "logreg = LogisticRegression()\n",
    "logreg.fit(x_train,y_train)\n",
    "y_pred=logreg.predict(x_test)"
   ]
  },
  {
   "cell_type": "code",
   "execution_count": 75,
   "metadata": {
    "colab": {
     "base_uri": "https://localhost:8080/"
    },
    "executionInfo": {
     "elapsed": 1,
     "status": "ok",
     "timestamp": 1649603324424,
     "user": {
      "displayName": "Daniel Malinovský",
      "userId": "02049496699663143405"
     },
     "user_tz": -120
    },
    "id": "V3TNCZ9r5jqu",
    "outputId": "30e84b94-ad69-4941-817e-e5f19ae536c2"
   },
   "outputs": [
    {
     "data": {
      "text/plain": [
       "array([[131,  28],\n",
       "       [ 30,  47]])"
      ]
     },
     "execution_count": 75,
     "metadata": {},
     "output_type": "execute_result"
    }
   ],
   "source": [
    "from sklearn import metrics\n",
    "cnf_matrix = metrics.confusion_matrix(y_test, y_pred)\n",
    "cnf_matrix"
   ]
  },
  {
   "cell_type": "code",
   "execution_count": 76,
   "metadata": {
    "colab": {
     "base_uri": "https://localhost:8080/"
    },
    "executionInfo": {
     "elapsed": 236,
     "status": "ok",
     "timestamp": 1649603330325,
     "user": {
      "displayName": "Daniel Malinovský",
      "userId": "02049496699663143405"
     },
     "user_tz": -120
    },
    "id": "ctwRoo7K5u-S",
    "outputId": "1801c02a-519c-4b3d-f5d3-92fe054588ac"
   },
   "outputs": [
    {
     "name": "stdout",
     "output_type": "stream",
     "text": [
      "Accuracy: 0.7542372881355932\n"
     ]
    }
   ],
   "source": [
    "print(\"Accuracy:\",metrics.accuracy_score(y_test, y_pred))"
   ]
  },
  {
   "cell_type": "code",
   "execution_count": 77,
   "metadata": {
    "colab": {
     "base_uri": "https://localhost:8080/",
     "height": 320
    },
    "executionInfo": {
     "elapsed": 12,
     "status": "ok",
     "timestamp": 1649603334131,
     "user": {
      "displayName": "Daniel Malinovský",
      "userId": "02049496699663143405"
     },
     "user_tz": -120
    },
    "id": "osQWxBu35y9Z",
    "outputId": "4c47481c-93e9-4481-fe74-7feabbf8cc93"
   },
   "outputs": [
    {
     "data": {
      "image/png": "[encoded data removed]",
      "text/plain": [
       "<Figure size 432x288 with 1 Axes>"
      ]
     },
     "metadata": {
      "needs_background": "light"
     },
     "output_type": "display_data"
    }
   ],
   "source": [
    "y_pred_proba = logreg.predict_proba(x_test)[::,1]\n",
    "fpr, tpr, _ = metrics.roc_curve(y_test,  y_pred_proba)\n",
    "auc = metrics.roc_auc_score(y_test, y_pred_proba)\n",
    "plt.plot(fpr,tpr,label=\"data 1, auc=\"+str(auc))\n",
    "plt.legend(loc=4)\n",
    "plt.show()"
   ]
  },
  {
   "cell_type": "markdown",
   "metadata": {
    "id": "GDYSiSyqF9nl"
   },
   "source": [
    "Area Under Curve (AUC) is at 79.84% while using Age as quantitative variable\n",
    " - AUC has increased noticeably compared to 'Age-only' model\n",
    " - using age as quantitative variable together with other variables significantly improves logit model"
   ]
  },
  {
   "cell_type": "code",
   "execution_count": 78,
   "metadata": {
    "colab": {
     "base_uri": "https://localhost:8080/"
    },
    "executionInfo": {
     "elapsed": 369,
     "status": "ok",
     "timestamp": 1649603337791,
     "user": {
      "displayName": "Daniel Malinovský",
      "userId": "02049496699663143405"
     },
     "user_tz": -120
    },
    "id": "hH55kszS54Gs",
    "outputId": "8e36b999-2c25-45c1-e4ed-b6d133eacc5d"
   },
   "outputs": [
    {
     "name": "stdout",
     "output_type": "stream",
     "text": [
      "Optimization terminated successfully.\n",
      "         Current function value: 0.536921\n",
      "         Iterations 6\n",
      "                           Logit Regression Results                           \n",
      "==============================================================================\n",
      "Dep. Variable:                DEFAULT   No. Observations:                  708\n",
      "Model:                          Logit   Df Residuals:                      701\n",
      "Method:                           MLE   Df Model:                            6\n",
      "Date:                Sun, 10 Apr 2022   Pseudo R-squ.:                  0.1955\n",
      "Time:                        18:44:10   Log-Likelihood:                -380.14\n",
      "converged:                       True   LL-Null:                       -472.51\n",
      "Covariance Type:            nonrobust   LLR p-value:                 3.332e-37\n",
      "==============================================================================\n",
      "                 coef    std err          z      P>|z|      [0.025      0.975]\n",
      "------------------------------------------------------------------------------\n",
      "x1             0.0094      0.009      1.013      0.311      -0.009       0.027\n",
      "x2             0.0001   4.08e-05      2.871      0.004    3.71e-05       0.000\n",
      "x3             0.0012      0.000      4.490      0.000       0.001       0.002\n",
      "x4            -0.8670      0.193     -4.502      0.000      -1.244      -0.490\n",
      "x5             0.0444      0.187      0.237      0.813      -0.323       0.411\n",
      "x6            -1.2485      0.120    -10.423      0.000      -1.483      -1.014\n",
      "x7            -0.0075      0.008     -0.959      0.338      -0.023       0.008\n",
      "==============================================================================\n"
     ]
    }
   ],
   "source": [
    "import statsmodels.api as sm\n",
    "logit_model=sm.Logit(y_train,x_train)\n",
    "result=logit_model.fit()\n",
    "print(result.summary())"
   ]
  },
  {
   "cell_type": "markdown",
   "metadata": {
    "id": "v0vt0P3J6aRV"
   },
   "source": [
    "**According to wald test, loan term, Year of application, Gender and age are not sufficient predictor of the default**\n",
    "\n"
   ]
  },
  {
   "cell_type": "markdown",
   "metadata": {
    "id": "UE7CXhvFNb1p"
   },
   "source": [
    "## 2.2 [DONE] DEV: [ALL VARIABLES] Qualitative Testing - Age as Factor Variable"
   ]
  },
  {
   "cell_type": "markdown",
   "metadata": {
    "id": "NbQJl2vVGu1j"
   },
   "source": [
    "- this section is dedicated to the logit model using Age as factor variable as defined in section 1.2a\n",
    "- from section 1.2b we expect this model to outperform a model using Age as quantitative variable"
   ]
  },
  {
   "cell_type": "code",
   "execution_count": 79,
   "metadata": {
    "colab": {
     "base_uri": "https://localhost:8080/"
    },
    "executionInfo": {
     "elapsed": 546,
     "status": "ok",
     "timestamp": 1649603342866,
     "user": {
      "displayName": "Daniel Malinovský",
      "userId": "02049496699663143405"
     },
     "user_tz": -120
    },
    "id": "bwayETRFNb1q",
    "outputId": "b9d3d9f5-df20-429c-bfdd-c78dccb881e3"
   },
   "outputs": [],
   "source": [
    "feature_vars = ['Loan term', 'Loan Amount', 'Year of application', 'City_Float', 'Gender_Float', 'Education_Float', 'Risk_Age_Float']\n",
    "\n",
    "y = data['DEFAULT']\n",
    "x = data[feature_vars]\n",
    "x = np.asmatrix(x)\n",
    "\n",
    "y_train,y_test,x_train,x_test = train_test_split(y,x,test_size=0.25, random_state=0)\n",
    "#x_train = x_train.values.reshape(-1,1)\n",
    "#x_test = x_test.values.reshape(-1, 1)\n",
    "logreg = LogisticRegression()\n",
    "logreg.fit(x_train,y_train)\n",
    "y_pred=logreg.predict(x_test)"
   ]
  },
  {
   "cell_type": "code",
   "execution_count": 80,
   "metadata": {
    "colab": {
     "base_uri": "https://localhost:8080/"
    },
    "executionInfo": {
     "elapsed": 446,
     "status": "ok",
     "timestamp": 1649603345082,
     "user": {
      "displayName": "Daniel Malinovský",
      "userId": "02049496699663143405"
     },
     "user_tz": -120
    },
    "id": "FrnzEVhWNb1q",
    "outputId": "e47a143e-f873-4c18-cd81-e36d2364e07a"
   },
   "outputs": [
    {
     "data": {
      "text/plain": [
       "array([[133,  26],\n",
       "       [ 30,  47]])"
      ]
     },
     "execution_count": 80,
     "metadata": {},
     "output_type": "execute_result"
    }
   ],
   "source": [
    "from sklearn import metrics\n",
    "cnf_matrix = metrics.confusion_matrix(y_test, y_pred)\n",
    "cnf_matrix"
   ]
  },
  {
   "cell_type": "code",
   "execution_count": 81,
   "metadata": {
    "colab": {
     "base_uri": "https://localhost:8080/"
    },
    "executionInfo": {
     "elapsed": 3,
     "status": "ok",
     "timestamp": 1649603358660,
     "user": {
      "displayName": "Daniel Malinovský",
      "userId": "02049496699663143405"
     },
     "user_tz": -120
    },
    "id": "Zh0iMpNFNb1q",
    "outputId": "44a77207-8e06-43ba-c77d-4fd282b5e851"
   },
   "outputs": [
    {
     "name": "stdout",
     "output_type": "stream",
     "text": [
      "Accuracy: 0.7627118644067796\n"
     ]
    }
   ],
   "source": [
    "print(\"Accuracy:\",metrics.accuracy_score(y_test, y_pred))"
   ]
  },
  {
   "cell_type": "code",
   "execution_count": 82,
   "metadata": {
    "colab": {
     "base_uri": "https://localhost:8080/",
     "height": 320
    },
    "executionInfo": {
     "elapsed": 325,
     "status": "ok",
     "timestamp": 1649603362127,
     "user": {
      "displayName": "Daniel Malinovský",
      "userId": "02049496699663143405"
     },
     "user_tz": -120
    },
    "id": "lmqSl5JsNb1q",
    "outputId": "7bfa1af6-146e-483c-f5e5-5f5e83c8b674"
   },
   "outputs": [
    {
     "data": {
      "image/png": "[encoded data removed]",
      "text/plain": [
       "<Figure size 432x288 with 1 Axes>"
      ]
     },
     "metadata": {
      "needs_background": "light"
     },
     "output_type": "display_data"
    }
   ],
   "source": [
    "y_pred_proba = logreg.predict_proba(x_test)[::,1]\n",
    "fpr, tpr, _ = metrics.roc_curve(y_test,  y_pred_proba)\n",
    "auc = metrics.roc_auc_score(y_test, y_pred_proba)\n",
    "plt.plot(fpr,tpr,label=\"data 1, auc=\"+str(auc))\n",
    "plt.legend(loc=4)\n",
    "plt.show()"
   ]
  },
  {
   "cell_type": "markdown",
   "metadata": {
    "id": "SKthbD8oHAhd"
   },
   "source": [
    "Area Under Curve (AUC) is at 82.78% while using Age as factor variable\n",
    " - AUC has increased noticeably compared to 'Age-only' model\n",
    " - using age as factor variable together with other variables significantly outperformes logit model using age as quantitative variable\n",
    " - this confirms our thesis that Age as factor variable carries more value to the model than Age as quantitative variable"
   ]
  },
  {
   "cell_type": "code",
   "execution_count": 83,
   "metadata": {
    "colab": {
     "base_uri": "https://localhost:8080/"
    },
    "executionInfo": {
     "elapsed": 243,
     "status": "ok",
     "timestamp": 1649603365646,
     "user": {
      "displayName": "Daniel Malinovský",
      "userId": "02049496699663143405"
     },
     "user_tz": -120
    },
    "id": "TaGolgJjNb1q",
    "outputId": "f0abe1a5-f743-4653-fe4c-8d86b898f6ff"
   },
   "outputs": [
    {
     "name": "stdout",
     "output_type": "stream",
     "text": [
      "Optimization terminated successfully.\n",
      "         Current function value: 0.524622\n",
      "         Iterations 6\n",
      "                           Logit Regression Results                           \n",
      "==============================================================================\n",
      "Dep. Variable:                DEFAULT   No. Observations:                  708\n",
      "Model:                          Logit   Df Residuals:                      701\n",
      "Method:                           MLE   Df Model:                            6\n",
      "Date:                Sun, 10 Apr 2022   Pseudo R-squ.:                  0.2139\n",
      "Time:                        18:44:10   Log-Likelihood:                -371.43\n",
      "converged:                       True   LL-Null:                       -472.51\n",
      "Covariance Type:            nonrobust   LLR p-value:                 6.583e-41\n",
      "==============================================================================\n",
      "                 coef    std err          z      P>|z|      [0.025      0.975]\n",
      "------------------------------------------------------------------------------\n",
      "x1             0.0104      0.009      1.115      0.265      -0.008       0.029\n",
      "x2             0.0001   4.19e-05      2.921      0.003    4.03e-05       0.000\n",
      "x3             0.0009      0.000      3.662      0.000       0.000       0.001\n",
      "x4            -0.9211      0.195     -4.727      0.000      -1.303      -0.539\n",
      "x5             0.1530      0.192      0.795      0.426      -0.224       0.530\n",
      "x6            -1.2630      0.121    -10.404      0.000      -1.501      -1.025\n",
      "x7             0.8085      0.191      4.241      0.000       0.435       1.182\n",
      "==============================================================================\n"
     ]
    }
   ],
   "source": [
    "import statsmodels.api as sm\n",
    "logit_model=sm.Logit(y_train,x_train)\n",
    "result=logit_model.fit()\n",
    "print(result.summary())"
   ]
  },
  {
   "cell_type": "markdown",
   "metadata": {
    "id": "cKBRK_w8Nb1r"
   },
   "source": [
    "**According to wald test, loan term, Year of application, Gender and age are not sufficient predictor of the default**\n",
    "\n"
   ]
  },
  {
   "cell_type": "markdown",
   "metadata": {
    "id": "FoWl8Q22MMhS"
   },
   "source": [
    "# 3.Composing model out of significant variables"
   ]
  },
  {
   "cell_type": "markdown",
   "metadata": {
    "id": "3uZ2lWPlHgKT"
   },
   "source": [
    "- in previous sections we tested which usage of Age is better for model performance (factor vs quantitative usage]\n",
    "- we also attempted to create model using all available variables\n",
    "- however information is expensive, which is why in this section we will attempt to create the equivalent model using as few variables as possible\n",
    "- models will be evaluated based on AUC metric compared to the benchmark result in section 2.2 generated by model using all variable available (82.78%)"
   ]
  },
  {
   "cell_type": "markdown",
   "metadata": {
    "id": "CaLIltteL7_M"
   },
   "source": [
    "## 3.1. Identifying Significant Variables"
   ]
  },
  {
   "cell_type": "markdown",
   "metadata": {
    "id": "iOQnFnNc5nzk"
   },
   "source": [
    "Testing all factor variables for significance\n",
    "- confirming that conclusions from previous section are accurate"
   ]
  },
  {
   "cell_type": "code",
   "execution_count": 84,
   "metadata": {
    "colab": {
     "base_uri": "https://localhost:8080/"
    },
    "executionInfo": {
     "elapsed": 3270,
     "status": "ok",
     "timestamp": 1649603374033,
     "user": {
      "displayName": "Daniel Malinovský",
      "userId": "02049496699663143405"
     },
     "user_tz": -120
    },
    "id": "F44mNUb5A3Mn",
    "outputId": "ffd5dc25-289f-4c16-edcc-7d55f56e3f24"
   },
   "outputs": [
    {
     "name": "stdout",
     "output_type": "stream",
     "text": [
      "Collecting researchpy\n",
      "  Downloading researchpy-0.3.2-py3-none-any.whl (15 kB)\n",
      "Requirement already satisfied: patsy in /Users/danielmalinovsky/opt/anaconda3/lib/python3.9/site-packages (from researchpy) (0.5.2)\n",
      "Requirement already satisfied: statsmodels in /Users/danielmalinovsky/opt/anaconda3/lib/python3.9/site-packages (from researchpy) (0.12.2)\n",
      "Requirement already satisfied: numpy in /Users/danielmalinovsky/opt/anaconda3/lib/python3.9/site-packages (from researchpy) (1.20.3)\n",
      "Requirement already satisfied: pandas in /Users/danielmalinovsky/opt/anaconda3/lib/python3.9/site-packages (from researchpy) (1.3.4)\n",
      "Requirement already satisfied: scipy in /Users/danielmalinovsky/opt/anaconda3/lib/python3.9/site-packages (from researchpy) (1.7.1)\n",
      "Requirement already satisfied: python-dateutil>=2.7.3 in /Users/danielmalinovsky/opt/anaconda3/lib/python3.9/site-packages (from pandas->researchpy) (2.8.2)\n",
      "Requirement already satisfied: pytz>=2017.3 in /Users/danielmalinovsky/opt/anaconda3/lib/python3.9/site-packages (from pandas->researchpy) (2021.3)\n",
      "Requirement already satisfied: six>=1.5 in /Users/danielmalinovsky/opt/anaconda3/lib/python3.9/site-packages (from python-dateutil>=2.7.3->pandas->researchpy) (1.16.0)\n",
      "Installing collected packages: researchpy\n",
      "Successfully installed researchpy-0.3.2\n",
      "Note: you may need to restart the kernel to use updated packages.\n"
     ]
    }
   ],
   "source": [
    "pip install researchpy"
   ]
  },
  {
   "cell_type": "code",
   "execution_count": 85,
   "metadata": {
    "id": "cwOZAR0jJHB4"
   },
   "outputs": [],
   "source": [
    "import researchpy as rp"
   ]
  },
  {
   "cell_type": "code",
   "execution_count": 86,
   "metadata": {
    "colab": {
     "base_uri": "https://localhost:8080/",
     "height": 143
    },
    "executionInfo": {
     "elapsed": 273,
     "status": "ok",
     "timestamp": 1649603378781,
     "user": {
      "displayName": "Daniel Malinovský",
      "userId": "02049496699663143405"
     },
     "user_tz": -120
    },
    "id": "HU7BaUvBBBFk",
    "outputId": "3723e5cf-c00a-4339-e60d-39d7f437ff61"
   },
   "outputs": [
    {
     "data": {
      "text/html": [
       "<div>\n",
       "<style scoped>\n",
       "    .dataframe tbody tr th:only-of-type {\n",
       "        vertical-align: middle;\n",
       "    }\n",
       "\n",
       "    .dataframe tbody tr th {\n",
       "        vertical-align: top;\n",
       "    }\n",
       "\n",
       "    .dataframe thead th {\n",
       "        text-align: right;\n",
       "    }\n",
       "</style>\n",
       "<table border=\"1\" class=\"dataframe\">\n",
       "  <thead>\n",
       "    <tr style=\"text-align: right;\">\n",
       "      <th></th>\n",
       "      <th>Chi-square test</th>\n",
       "      <th>results</th>\n",
       "    </tr>\n",
       "  </thead>\n",
       "  <tbody>\n",
       "    <tr>\n",
       "      <th>0</th>\n",
       "      <td>Pearson Chi-square ( 1.0) =</td>\n",
       "      <td>22.0192</td>\n",
       "    </tr>\n",
       "    <tr>\n",
       "      <th>1</th>\n",
       "      <td>p-value =</td>\n",
       "      <td>0.0000</td>\n",
       "    </tr>\n",
       "    <tr>\n",
       "      <th>2</th>\n",
       "      <td>Cramer's phi =</td>\n",
       "      <td>0.1527</td>\n",
       "    </tr>\n",
       "  </tbody>\n",
       "</table>\n",
       "</div>"
      ],
      "text/plain": [
       "                Chi-square test  results\n",
       "0  Pearson Chi-square ( 1.0) =   22.0192\n",
       "1                    p-value =    0.0000\n",
       "2               Cramer's phi =    0.1527"
      ]
     },
     "execution_count": 86,
     "metadata": {},
     "output_type": "execute_result"
    }
   ],
   "source": [
    "crosstab, test_results, expected = rp.crosstab(data['DEFAULT'], data['City'], test = \"chi-square\", expected_freqs = True, prop = \"cell\" )\n",
    "test_results"
   ]
  },
  {
   "cell_type": "markdown",
   "metadata": {
    "id": "xFHoxxLkDPQb"
   },
   "source": [
    "**City is significant factor**"
   ]
  },
  {
   "cell_type": "code",
   "execution_count": 87,
   "metadata": {
    "colab": {
     "base_uri": "https://localhost:8080/",
     "height": 143
    },
    "executionInfo": {
     "elapsed": 3,
     "status": "ok",
     "timestamp": 1649603381134,
     "user": {
      "displayName": "Daniel Malinovský",
      "userId": "02049496699663143405"
     },
     "user_tz": -120
    },
    "id": "L9SGLDgNC9Td",
    "outputId": "1ddc02bb-2cee-424b-95af-b77b51591626"
   },
   "outputs": [
    {
     "data": {
      "text/html": [
       "<div>\n",
       "<style scoped>\n",
       "    .dataframe tbody tr th:only-of-type {\n",
       "        vertical-align: middle;\n",
       "    }\n",
       "\n",
       "    .dataframe tbody tr th {\n",
       "        vertical-align: top;\n",
       "    }\n",
       "\n",
       "    .dataframe thead th {\n",
       "        text-align: right;\n",
       "    }\n",
       "</style>\n",
       "<table border=\"1\" class=\"dataframe\">\n",
       "  <thead>\n",
       "    <tr style=\"text-align: right;\">\n",
       "      <th></th>\n",
       "      <th>Chi-square test</th>\n",
       "      <th>results</th>\n",
       "    </tr>\n",
       "  </thead>\n",
       "  <tbody>\n",
       "    <tr>\n",
       "      <th>0</th>\n",
       "      <td>Pearson Chi-square ( 1.0) =</td>\n",
       "      <td>0.1687</td>\n",
       "    </tr>\n",
       "    <tr>\n",
       "      <th>1</th>\n",
       "      <td>p-value =</td>\n",
       "      <td>0.6812</td>\n",
       "    </tr>\n",
       "    <tr>\n",
       "      <th>2</th>\n",
       "      <td>Cramer's phi =</td>\n",
       "      <td>0.0134</td>\n",
       "    </tr>\n",
       "  </tbody>\n",
       "</table>\n",
       "</div>"
      ],
      "text/plain": [
       "                Chi-square test  results\n",
       "0  Pearson Chi-square ( 1.0) =    0.1687\n",
       "1                    p-value =    0.6812\n",
       "2               Cramer's phi =    0.0134"
      ]
     },
     "execution_count": 87,
     "metadata": {},
     "output_type": "execute_result"
    }
   ],
   "source": [
    "crosstab, test_results, expected = rp.crosstab(data['DEFAULT'], data['Gender'], test = \"chi-square\", expected_freqs = True, prop = \"cell\" )\n",
    "test_results"
   ]
  },
  {
   "cell_type": "markdown",
   "metadata": {
    "id": "cBvqr6kaDW3b"
   },
   "source": [
    "**Gender is insignificant factor**"
   ]
  },
  {
   "cell_type": "code",
   "execution_count": 88,
   "metadata": {
    "colab": {
     "base_uri": "https://localhost:8080/",
     "height": 143
    },
    "executionInfo": {
     "elapsed": 6,
     "status": "ok",
     "timestamp": 1649603384807,
     "user": {
      "displayName": "Daniel Malinovský",
      "userId": "02049496699663143405"
     },
     "user_tz": -120
    },
    "id": "9l0hkVD4DHi7",
    "outputId": "d53fa3c5-d81c-4e99-fc7d-afd1be3e6a22"
   },
   "outputs": [
    {
     "data": {
      "text/html": [
       "<div>\n",
       "<style scoped>\n",
       "    .dataframe tbody tr th:only-of-type {\n",
       "        vertical-align: middle;\n",
       "    }\n",
       "\n",
       "    .dataframe tbody tr th {\n",
       "        vertical-align: top;\n",
       "    }\n",
       "\n",
       "    .dataframe thead th {\n",
       "        text-align: right;\n",
       "    }\n",
       "</style>\n",
       "<table border=\"1\" class=\"dataframe\">\n",
       "  <thead>\n",
       "    <tr style=\"text-align: right;\">\n",
       "      <th></th>\n",
       "      <th>Chi-square test</th>\n",
       "      <th>results</th>\n",
       "    </tr>\n",
       "  </thead>\n",
       "  <tbody>\n",
       "    <tr>\n",
       "      <th>0</th>\n",
       "      <td>Pearson Chi-square ( 2.0) =</td>\n",
       "      <td>182.6513</td>\n",
       "    </tr>\n",
       "    <tr>\n",
       "      <th>1</th>\n",
       "      <td>p-value =</td>\n",
       "      <td>0.0000</td>\n",
       "    </tr>\n",
       "    <tr>\n",
       "      <th>2</th>\n",
       "      <td>Cramer's V =</td>\n",
       "      <td>0.4399</td>\n",
       "    </tr>\n",
       "  </tbody>\n",
       "</table>\n",
       "</div>"
      ],
      "text/plain": [
       "                Chi-square test   results\n",
       "0  Pearson Chi-square ( 2.0) =   182.6513\n",
       "1                    p-value =     0.0000\n",
       "2                 Cramer's V =     0.4399"
      ]
     },
     "execution_count": 88,
     "metadata": {},
     "output_type": "execute_result"
    }
   ],
   "source": [
    "crosstab, test_results, expected = rp.crosstab(data['DEFAULT'], data['Education'], test = \"chi-square\", expected_freqs = True, prop = \"cell\" )\n",
    "test_results"
   ]
  },
  {
   "cell_type": "markdown",
   "metadata": {
    "id": "uoX4Tq3hDZ2U"
   },
   "source": [
    "**Education is significant factor**"
   ]
  },
  {
   "cell_type": "code",
   "execution_count": 89,
   "metadata": {
    "colab": {
     "base_uri": "https://localhost:8080/",
     "height": 143
    },
    "executionInfo": {
     "elapsed": 254,
     "status": "ok",
     "timestamp": 1649603389009,
     "user": {
      "displayName": "Daniel Malinovský",
      "userId": "02049496699663143405"
     },
     "user_tz": -120
    },
    "id": "-jZY-HPILKap",
    "outputId": "130402e2-2d61-445c-db4e-7646cb771bd5"
   },
   "outputs": [
    {
     "data": {
      "text/html": [
       "<div>\n",
       "<style scoped>\n",
       "    .dataframe tbody tr th:only-of-type {\n",
       "        vertical-align: middle;\n",
       "    }\n",
       "\n",
       "    .dataframe tbody tr th {\n",
       "        vertical-align: top;\n",
       "    }\n",
       "\n",
       "    .dataframe thead th {\n",
       "        text-align: right;\n",
       "    }\n",
       "</style>\n",
       "<table border=\"1\" class=\"dataframe\">\n",
       "  <thead>\n",
       "    <tr style=\"text-align: right;\">\n",
       "      <th></th>\n",
       "      <th>Chi-square test</th>\n",
       "      <th>results</th>\n",
       "    </tr>\n",
       "  </thead>\n",
       "  <tbody>\n",
       "    <tr>\n",
       "      <th>0</th>\n",
       "      <td>Pearson Chi-square ( 1.0) =</td>\n",
       "      <td>29.560</td>\n",
       "    </tr>\n",
       "    <tr>\n",
       "      <th>1</th>\n",
       "      <td>p-value =</td>\n",
       "      <td>0.000</td>\n",
       "    </tr>\n",
       "    <tr>\n",
       "      <th>2</th>\n",
       "      <td>Cramer's phi =</td>\n",
       "      <td>0.177</td>\n",
       "    </tr>\n",
       "  </tbody>\n",
       "</table>\n",
       "</div>"
      ],
      "text/plain": [
       "                Chi-square test  results\n",
       "0  Pearson Chi-square ( 1.0) =    29.560\n",
       "1                    p-value =     0.000\n",
       "2               Cramer's phi =     0.177"
      ]
     },
     "execution_count": 89,
     "metadata": {},
     "output_type": "execute_result"
    }
   ],
   "source": [
    "crosstab, test_results, expected = rp.crosstab(data['DEFAULT'], data['Risk_Age_Float'], test = \"chi-square\", expected_freqs = True, prop = \"cell\" )\n",
    "test_results"
   ]
  },
  {
   "cell_type": "markdown",
   "metadata": {
    "id": "AK52zInfLc9D"
   },
   "source": [
    "Age as factor variable is significant factor"
   ]
  },
  {
   "cell_type": "markdown",
   "metadata": {
    "id": "cdOErMhf7eaD"
   },
   "source": [
    "## [SELECTED VARIABLES] Significant Variables Model"
   ]
  },
  {
   "cell_type": "code",
   "execution_count": 90,
   "metadata": {
    "colab": {
     "base_uri": "https://localhost:8080/"
    },
    "executionInfo": {
     "elapsed": 3,
     "status": "ok",
     "timestamp": 1649603394242,
     "user": {
      "displayName": "Daniel Malinovský",
      "userId": "02049496699663143405"
     },
     "user_tz": -120
    },
    "id": "gsDTDUzN7lzk",
    "outputId": "f738bf22-07b6-4715-a254-735ffa3d7840"
   },
   "outputs": [
    {
     "name": "stderr",
     "output_type": "stream",
     "text": [
      "/Users/danielmalinovsky/opt/anaconda3/lib/python3.9/site-packages/sklearn/linear_model/_logistic.py:763: ConvergenceWarning: lbfgs failed to converge (status=1):\n",
      "STOP: TOTAL NO. of ITERATIONS REACHED LIMIT.\n",
      "\n",
      "Increase the number of iterations (max_iter) or scale the data as shown in:\n",
      "    https://scikit-learn.org/stable/modules/preprocessing.html\n",
      "Please also refer to the documentation for alternative solver options:\n",
      "    https://scikit-learn.org/stable/modules/linear_model.html#logistic-regression\n",
      "  n_iter_i = _check_optimize_result(\n"
     ]
    }
   ],
   "source": [
    "feature_vars = ['Loan Amount', 'City_Float', 'Education_Float', 'Age']\n",
    "\n",
    "y = data['DEFAULT']\n",
    "x = data[feature_vars]\n",
    "x = np.asmatrix(x)\n",
    "\n",
    "y_train,y_test,x_train,x_test = train_test_split(y,x,test_size=0.25, random_state=0)\n",
    "#x_train = x_train.values.reshape(-1,1)\n",
    "#x_test = x_test.values.reshape(-1, 1)\n",
    "logreg = LogisticRegression()\n",
    "logreg.fit(x_train,y_train)\n",
    "y_pred=logreg.predict(x_test)"
   ]
  },
  {
   "cell_type": "code",
   "execution_count": 91,
   "metadata": {
    "colab": {
     "base_uri": "https://localhost:8080/"
    },
    "executionInfo": {
     "elapsed": 402,
     "status": "ok",
     "timestamp": 1649603398955,
     "user": {
      "displayName": "Daniel Malinovský",
      "userId": "02049496699663143405"
     },
     "user_tz": -120
    },
    "id": "edHNYEmk70MJ",
    "outputId": "9f5bf9f3-225e-4172-cae6-9a5428dd9843"
   },
   "outputs": [
    {
     "data": {
      "text/plain": [
       "array([[127,  32],\n",
       "       [ 27,  50]])"
      ]
     },
     "execution_count": 91,
     "metadata": {},
     "output_type": "execute_result"
    }
   ],
   "source": [
    "from sklearn import metrics\n",
    "cnf_matrix = metrics.confusion_matrix(y_test, y_pred)\n",
    "cnf_matrix"
   ]
  },
  {
   "cell_type": "code",
   "execution_count": 92,
   "metadata": {
    "colab": {
     "base_uri": "https://localhost:8080/"
    },
    "executionInfo": {
     "elapsed": 338,
     "status": "ok",
     "timestamp": 1649603404441,
     "user": {
      "displayName": "Daniel Malinovský",
      "userId": "02049496699663143405"
     },
     "user_tz": -120
    },
    "id": "dXdh119q73Ke",
    "outputId": "623dcbf1-23fa-4f36-a6a8-757d57a27597"
   },
   "outputs": [
    {
     "name": "stdout",
     "output_type": "stream",
     "text": [
      "Accuracy: 0.75\n"
     ]
    }
   ],
   "source": [
    "print(\"Accuracy:\",metrics.accuracy_score(y_test, y_pred))"
   ]
  },
  {
   "cell_type": "code",
   "execution_count": 93,
   "metadata": {
    "colab": {
     "base_uri": "https://localhost:8080/",
     "height": 320
    },
    "executionInfo": {
     "elapsed": 26,
     "status": "ok",
     "timestamp": 1649603409419,
     "user": {
      "displayName": "Daniel Malinovský",
      "userId": "02049496699663143405"
     },
     "user_tz": -120
    },
    "id": "Ac3K-Yr174E-",
    "outputId": "e10dcbea-b2dd-411a-d35b-0a4fb4dc16de"
   },
   "outputs": [
    {
     "data": {
      "image/png": "[encoded data removed]",
      "text/plain": [
       "<Figure size 432x288 with 1 Axes>"
      ]
     },
     "metadata": {
      "needs_background": "light"
     },
     "output_type": "display_data"
    }
   ],
   "source": [
    "y_pred_proba = logreg.predict_proba(x_test)[::,1]\n",
    "fpr, tpr, _ = metrics.roc_curve(y_test,  y_pred_proba)\n",
    "auc = metrics.roc_auc_score(y_test, y_pred_proba)\n",
    "plt.plot(fpr,tpr,label=\"data 1, auc=\"+str(auc))\n",
    "plt.legend(loc=4)\n",
    "plt.show()"
   ]
  },
  {
   "cell_type": "markdown",
   "metadata": {
    "id": "nn3n2dL_8ywJ"
   },
   "source": [
    "**Area Under Curve (AUC) is 0.8, which means given model is good. Presented Logistic Regression model is acceptable**\n",
    "- interestingly enough this model already perfomrs only 0.2% worse than model using all variables and Age as quantitative variable, while restraining to only 4 variables used for prediction"
   ]
  },
  {
   "cell_type": "code",
   "execution_count": 94,
   "metadata": {
    "colab": {
     "base_uri": "https://localhost:8080/"
    },
    "executionInfo": {
     "elapsed": 352,
     "status": "ok",
     "timestamp": 1649603416653,
     "user": {
      "displayName": "Daniel Malinovský",
      "userId": "02049496699663143405"
     },
     "user_tz": -120
    },
    "id": "ZMLoJZG_9Paw",
    "outputId": "eb7f8a88-1d77-44b5-affc-01de894710b5"
   },
   "outputs": [
    {
     "name": "stdout",
     "output_type": "stream",
     "text": [
      "0.5929102344196684\n"
     ]
    }
   ],
   "source": [
    "GINI = (2*auc)-1\n",
    "print(GINI)"
   ]
  },
  {
   "cell_type": "markdown",
   "metadata": {
    "id": "7WEmWKDB9W1n"
   },
   "source": [
    "**GINI coeficient is above 0.55 which means give model is acceptable. \n",
    "Presented LogisticRegression model is acceptable**"
   ]
  },
  {
   "cell_type": "code",
   "execution_count": 95,
   "metadata": {
    "colab": {
     "base_uri": "https://localhost:8080/"
    },
    "executionInfo": {
     "elapsed": 256,
     "status": "ok",
     "timestamp": 1649603420119,
     "user": {
      "displayName": "Daniel Malinovský",
      "userId": "02049496699663143405"
     },
     "user_tz": -120
    },
    "id": "DTOKKEid77o5",
    "outputId": "364a9b96-ca43-4ec7-e176-8338672deeae"
   },
   "outputs": [
    {
     "name": "stdout",
     "output_type": "stream",
     "text": [
      "Optimization terminated successfully.\n",
      "         Current function value: 0.565021\n",
      "         Iterations 6\n",
      "                           Logit Regression Results                           \n",
      "==============================================================================\n",
      "Dep. Variable:                DEFAULT   No. Observations:                  708\n",
      "Model:                          Logit   Df Residuals:                      704\n",
      "Method:                           MLE   Df Model:                            3\n",
      "Date:                Sun, 10 Apr 2022   Pseudo R-squ.:                  0.1534\n",
      "Time:                        18:44:13   Log-Likelihood:                -400.03\n",
      "converged:                       True   LL-Null:                       -472.51\n",
      "Covariance Type:            nonrobust   LLR p-value:                 3.229e-31\n",
      "==============================================================================\n",
      "                 coef    std err          z      P>|z|      [0.025      0.975]\n",
      "------------------------------------------------------------------------------\n",
      "x1             0.0002   3.18e-05      5.605      0.000       0.000       0.000\n",
      "x2            -0.2190      0.154     -1.425      0.154      -0.520       0.082\n",
      "x3            -0.9716      0.107     -9.088      0.000      -1.181      -0.762\n",
      "x4             0.0204      0.006      3.432      0.001       0.009       0.032\n",
      "==============================================================================\n"
     ]
    }
   ],
   "source": [
    "import statsmodels.api as sm\n",
    "logit_model=sm.Logit(y_train,x_train)\n",
    "result=logit_model.fit()\n",
    "print(result.summary())"
   ]
  },
  {
   "cell_type": "markdown",
   "metadata": {
    "id": "eSO6fHlAh-6k"
   },
   "source": [
    "**According to wald test, City is not sufficient predictor of the default**\n",
    "- interestingly enough, wald test is indicating that city is not relevant variable for given model, even though Chi-Squared test resulted in values supporting it's usage in logit model\n"
   ]
  },
  {
   "cell_type": "markdown",
   "metadata": {
    "id": "npSIe633hb-L"
   },
   "source": [
    "## [SELECTED VARIABLES] Model without City factor variable\n",
    "- due to result of the Wald test in previous section, we will attempt to construct a logit model without city as variable to see if models performance will increase\n",
    "- performance will bea measure by AUC similar to the previous sections"
   ]
  },
  {
   "cell_type": "code",
   "execution_count": 96,
   "metadata": {
    "colab": {
     "base_uri": "https://localhost:8080/"
    },
    "executionInfo": {
     "elapsed": 267,
     "status": "ok",
     "timestamp": 1649603442310,
     "user": {
      "displayName": "Daniel Malinovský",
      "userId": "02049496699663143405"
     },
     "user_tz": -120
    },
    "id": "Oal4ppIQhb-L",
    "outputId": "35e39442-848d-4348-a6bb-a74c272a8841"
   },
   "outputs": [],
   "source": [
    "feature_vars = ['Loan Amount', 'Education_Float', 'Risk_Age_Float']\n",
    "\n",
    "y = data['DEFAULT']\n",
    "x = data[feature_vars]\n",
    "x = np.asmatrix(x)\n",
    "\n",
    "y_train,y_test,x_train,x_test = train_test_split(y,x,test_size=0.25, random_state=0)\n",
    "#x_train = x_train.values.reshape(-1,1)\n",
    "#x_test = x_test.values.reshape(-1, 1)\n",
    "logreg = LogisticRegression()\n",
    "logreg.fit(x_train,y_train)\n",
    "y_pred=logreg.predict(x_test)"
   ]
  },
  {
   "cell_type": "code",
   "execution_count": 97,
   "metadata": {
    "colab": {
     "base_uri": "https://localhost:8080/"
    },
    "executionInfo": {
     "elapsed": 292,
     "status": "ok",
     "timestamp": 1649603446089,
     "user": {
      "displayName": "Daniel Malinovský",
      "userId": "02049496699663143405"
     },
     "user_tz": -120
    },
    "id": "D0zDDq8Mhb-L",
    "outputId": "62889192-ee5f-4d2a-bcdd-fa6e97fe31d0"
   },
   "outputs": [
    {
     "data": {
      "text/plain": [
       "array([[140,  19],\n",
       "       [ 40,  37]])"
      ]
     },
     "execution_count": 97,
     "metadata": {},
     "output_type": "execute_result"
    }
   ],
   "source": [
    "from sklearn import metrics\n",
    "cnf_matrix = metrics.confusion_matrix(y_test, y_pred)\n",
    "cnf_matrix"
   ]
  },
  {
   "cell_type": "code",
   "execution_count": 98,
   "metadata": {
    "colab": {
     "base_uri": "https://localhost:8080/"
    },
    "executionInfo": {
     "elapsed": 2269,
     "status": "ok",
     "timestamp": 1649603453662,
     "user": {
      "displayName": "Daniel Malinovský",
      "userId": "02049496699663143405"
     },
     "user_tz": -120
    },
    "id": "WCzUrtA4hb-L",
    "outputId": "7867229a-02ed-4bc3-fd7a-e67e182be1d5"
   },
   "outputs": [
    {
     "name": "stdout",
     "output_type": "stream",
     "text": [
      "Accuracy: 0.75\n"
     ]
    }
   ],
   "source": [
    "print(\"Accuracy:\",metrics.accuracy_score(y_test, y_pred))"
   ]
  },
  {
   "cell_type": "code",
   "execution_count": 99,
   "metadata": {
    "colab": {
     "base_uri": "https://localhost:8080/",
     "height": 320
    },
    "executionInfo": {
     "elapsed": 618,
     "status": "ok",
     "timestamp": 1649603456471,
     "user": {
      "displayName": "Daniel Malinovský",
      "userId": "02049496699663143405"
     },
     "user_tz": -120
    },
    "id": "KDEY2uhQhb-L",
    "outputId": "4062f4c0-0a11-43c5-e117-4ca2a16b8349"
   },
   "outputs": [
    {
     "data": {
      "image/png": "[encoded data removed]",
      "text/plain": [
       "<Figure size 432x288 with 1 Axes>"
      ]
     },
     "metadata": {
      "needs_background": "light"
     },
     "output_type": "display_data"
    }
   ],
   "source": [
    "y_pred_proba = logreg.predict_proba(x_test)[::,1]\n",
    "fpr, tpr, _ = metrics.roc_curve(y_test,  y_pred_proba)\n",
    "auc = metrics.roc_auc_score(y_test, y_pred_proba)\n",
    "plt.plot(fpr,tpr,label=\"data 1, auc=\"+str(auc))\n",
    "plt.legend(loc=4)\n",
    "plt.show()"
   ]
  },
  {
   "cell_type": "markdown",
   "metadata": {
    "id": "RzYp_7LVhb-M"
   },
   "source": [
    "**Area Under Curve (AUC) is 0.8, which means given model is good. Presented Logistic Regression model is acceptable**\n",
    "- AUC resulted in higher values than model with City as factor variable, which is supporting result of Wald test indicating that City should be removed from the logit model\n",
    "- furthermore this logit model is just 0.007 lower score than model using all of the variables and Age as factor variable\n",
    "- model composed of only 3 variables (Loan Amount, Highest Education Level and Risk Age as factor variable) is reaching roughly same accuracy as model with all of the variables"
   ]
  },
  {
   "cell_type": "code",
   "execution_count": 100,
   "metadata": {
    "colab": {
     "base_uri": "https://localhost:8080/"
    },
    "executionInfo": {
     "elapsed": 257,
     "status": "ok",
     "timestamp": 1649603461562,
     "user": {
      "displayName": "Daniel Malinovský",
      "userId": "02049496699663143405"
     },
     "user_tz": -120
    },
    "id": "TXuNOQKmhb-M",
    "outputId": "fa0097e8-72ef-4e5d-aed8-d2b976ce5cb2"
   },
   "outputs": [
    {
     "name": "stdout",
     "output_type": "stream",
     "text": [
      "0.6419995099240381\n"
     ]
    }
   ],
   "source": [
    "GINI = (2*auc)-1\n",
    "print(GINI)"
   ]
  },
  {
   "cell_type": "markdown",
   "metadata": {
    "id": "01WT39cNhb-M"
   },
   "source": [
    "**GINI coeficient is above 0.55 which means give model is acceptable. \n",
    "Presented LogisticRegression model is acceptable**"
   ]
  },
  {
   "cell_type": "code",
   "execution_count": 101,
   "metadata": {
    "colab": {
     "base_uri": "https://localhost:8080/"
    },
    "executionInfo": {
     "elapsed": 2,
     "status": "ok",
     "timestamp": 1649603463375,
     "user": {
      "displayName": "Daniel Malinovský",
      "userId": "02049496699663143405"
     },
     "user_tz": -120
    },
    "id": "bH4sDjKMhb-N",
    "outputId": "9bd8385b-6946-4350-a695-63f496c3ea04"
   },
   "outputs": [
    {
     "name": "stdout",
     "output_type": "stream",
     "text": [
      "Optimization terminated successfully.\n",
      "         Current function value: 0.552386\n",
      "         Iterations 6\n",
      "                           Logit Regression Results                           \n",
      "==============================================================================\n",
      "Dep. Variable:                DEFAULT   No. Observations:                  708\n",
      "Model:                          Logit   Df Residuals:                      705\n",
      "Method:                           MLE   Df Model:                            2\n",
      "Date:                Sun, 10 Apr 2022   Pseudo R-squ.:                  0.1723\n",
      "Time:                        18:44:13   Log-Likelihood:                -391.09\n",
      "converged:                       True   LL-Null:                       -472.51\n",
      "Covariance Type:            nonrobust   LLR p-value:                 4.351e-36\n",
      "==============================================================================\n",
      "                 coef    std err          z      P>|z|      [0.025      0.975]\n",
      "------------------------------------------------------------------------------\n",
      "x1             0.0002   3.02e-05      6.563      0.000       0.000       0.000\n",
      "x2            -0.9145      0.079    -11.614      0.000      -1.069      -0.760\n",
      "x3             0.9384      0.172      5.449      0.000       0.601       1.276\n",
      "==============================================================================\n"
     ]
    }
   ],
   "source": [
    "import statsmodels.api as sm\n",
    "logit_model=sm.Logit(y_train,x_train)\n",
    "result=logit_model.fit()\n",
    "print(result.summary())"
   ]
  },
  {
   "cell_type": "markdown",
   "metadata": {
    "id": "2EWgrlkuKH3z"
   },
   "source": [
    "- wald test is no longer indicating any redundand variable\n",
    "- thus we can conclude that ideal logit model will be using Age as factor variable, Loan Amount, Highest reached education"
   ]
  },
  {
   "cell_type": "markdown",
   "metadata": {
    "id": "fZltWDWBj_Np"
   },
   "source": [
    "# 4.DEV: Random Forrest Model"
   ]
  },
  {
   "cell_type": "markdown",
   "metadata": {
    "id": "zjxAFJ9OSJGh"
   },
   "source": [
    "## 4.1 Model with age as quantitative variable"
   ]
  },
  {
   "cell_type": "code",
   "execution_count": 102,
   "metadata": {
    "colab": {
     "base_uri": "https://localhost:8080/"
    },
    "executionInfo": {
     "elapsed": 4,
     "status": "ok",
     "timestamp": 1649603472062,
     "user": {
      "displayName": "Daniel Malinovský",
      "userId": "02049496699663143405"
     },
     "user_tz": -120
    },
    "id": "zjg3ST0L6H3q",
    "outputId": "031e266c-c5f3-4c98-c696-44fbd638ba25"
   },
   "outputs": [
    {
     "name": "stdout",
     "output_type": "stream",
     "text": [
      "   Loan term  Loan Amount  Year of application  Year of birth    City  Gender  \\\n",
      "0         36       2384.0                 2012           1979  Prague  Female   \n",
      "1         12       3499.0                 2015           1986    Brno  Female   \n",
      "2          9        918.0                 2014           1984  Prague  Female   \n",
      "3          9       1501.0                 2010           1976    Brno  Female   \n",
      "4         12       1555.0                 2017           1962    Brno  Female   \n",
      "\n",
      "   Education  DEFAULT  Age  Risk_Age_Float  City_Float  Gender_Float  \\\n",
      "0    Primary        1   41               0         1.0           2.0   \n",
      "1    Primary        0   34               0         2.0           2.0   \n",
      "2    Primary        1   36               0         1.0           2.0   \n",
      "3    Primary        0   44               0         2.0           2.0   \n",
      "4  Secondary        0   58               1         2.0           2.0   \n",
      "\n",
      "   Education_Float  \n",
      "0              1.0  \n",
      "1              1.0  \n",
      "2              1.0  \n",
      "3              1.0  \n",
      "4              2.0  \n",
      "(944, 13)\n",
      "['City', 'DEFAULT', 'Education', 'Gender', 'Loan Amount', 'Loan term', 'Year of application', 'Year of birth']\n"
     ]
    }
   ],
   "source": [
    "#feature_vars = ['Loan term', 'Loan Amount', 'Year of application', 'City_Float', 'Gender_Float', 'Education_Float', 'Age']\n",
    "print(data.head())\n",
    "print(data.shape)\n",
    "print(sorted(data_raw))"
   ]
  },
  {
   "cell_type": "markdown",
   "metadata": {
    "id": "AgNvOehKdq1I"
   },
   "source": [
    "Rf model with all features (age as quantitative variable)"
   ]
  },
  {
   "cell_type": "code",
   "execution_count": 103,
   "metadata": {
    "id": "c5KLZqbqpPnL"
   },
   "outputs": [],
   "source": [
    "feature_vars = ['Loan term', 'Loan Amount', 'Year of application', 'City_Float', 'Gender_Float', 'Education_Float', 'Age']\n",
    "X = data[feature_vars]\n",
    "y = data['DEFAULT']\n",
    "X_train, X_test, y_train, y_test = train_test_split(X, y, test_size=0.25, random_state=69)"
   ]
  },
  {
   "cell_type": "code",
   "execution_count": 104,
   "metadata": {
    "colab": {
     "base_uri": "https://localhost:8080/"
    },
    "executionInfo": {
     "elapsed": 372,
     "status": "ok",
     "timestamp": 1649603477642,
     "user": {
      "displayName": "Daniel Malinovský",
      "userId": "02049496699663143405"
     },
     "user_tz": -120
    },
    "id": "HaQt20a1pVSp",
    "outputId": "b9c8e39d-01f4-4f52-d896-b14a35a5ee07"
   },
   "outputs": [
    {
     "name": "stdout",
     "output_type": "stream",
     "text": [
      "Accuracy: 0.733\n"
     ]
    }
   ],
   "source": [
    "from sklearn.ensemble import RandomForestClassifier\n",
    "clf = RandomForestClassifier(n_estimators=100, random_state = 1)\n",
    "clf.fit(X_train,y_train)\n",
    "y_pred = clf.predict(X_test)\n",
    "print(\"Accuracy: \"+str(round(metrics.accuracy_score(y_test, y_pred),3)))"
   ]
  },
  {
   "cell_type": "code",
   "execution_count": 105,
   "metadata": {
    "colab": {
     "base_uri": "https://localhost:8080/"
    },
    "executionInfo": {
     "elapsed": 2,
     "status": "ok",
     "timestamp": 1649603480157,
     "user": {
      "displayName": "Daniel Malinovský",
      "userId": "02049496699663143405"
     },
     "user_tz": -120
    },
    "id": "GykiUnFYpYcm",
    "outputId": "df11bb9c-0538-4cc9-f3f2-9d02db16318a"
   },
   "outputs": [
    {
     "name": "stdout",
     "output_type": "stream",
     "text": [
      "['Age', 'City_Float', 'Education_Float', 'Gender_Float', 'Loan Amount', 'Loan term', 'Year of application']\n"
     ]
    },
    {
     "data": {
      "text/plain": [
       "City_Float             0.244301\n",
       "Year of application    0.233664\n",
       "Loan term              0.189250\n",
       "Age                    0.137226\n",
       "Education_Float        0.128232\n",
       "Gender_Float           0.038955\n",
       "Loan Amount            0.028372\n",
       "dtype: float64"
      ]
     },
     "execution_count": 105,
     "metadata": {},
     "output_type": "execute_result"
    }
   ],
   "source": [
    "print(sorted(X))\n",
    "feature_imp = pd.Series(clf.feature_importances_, index=sorted(X)).sort_values(ascending=False)\n",
    "feature_imp"
   ]
  },
  {
   "cell_type": "code",
   "execution_count": 106,
   "metadata": {
    "colab": {
     "base_uri": "https://localhost:8080/",
     "height": 295
    },
    "executionInfo": {
     "elapsed": 4,
     "status": "ok",
     "timestamp": 1649603482527,
     "user": {
      "displayName": "Daniel Malinovský",
      "userId": "02049496699663143405"
     },
     "user_tz": -120
    },
    "id": "ebwxg2P1pcJ7",
    "outputId": "f0d14054-e77b-4577-b6f5-acf762efcc47"
   },
   "outputs": [
    {
     "data": {
      "image/png": "[encoded data removed]",
      "text/plain": [
       "<Figure size 432x288 with 1 Axes>"
      ]
     },
     "metadata": {
      "needs_background": "light"
     },
     "output_type": "display_data"
    }
   ],
   "source": [
    "sns.barplot(y=feature_imp.index, x=feature_imp)\n",
    "plt.xlabel('Feature Importance Score')\n",
    "plt.ylabel('Features')\n",
    "plt.title('Visualizing Important Features')\n",
    "plt.show()"
   ]
  },
  {
   "cell_type": "code",
   "execution_count": 107,
   "metadata": {
    "colab": {
     "base_uri": "https://localhost:8080/"
    },
    "executionInfo": {
     "elapsed": 241,
     "status": "ok",
     "timestamp": 1649603485105,
     "user": {
      "displayName": "Daniel Malinovský",
      "userId": "02049496699663143405"
     },
     "user_tz": -120
    },
    "id": "yysLJvbWpfVy",
    "outputId": "af0e3284-9d39-4ce5-9f36-b22b12e50147"
   },
   "outputs": [
    {
     "name": "stdout",
     "output_type": "stream",
     "text": [
      "[[124  23]\n",
      " [ 40  49]]\n"
     ]
    }
   ],
   "source": [
    "cnf_matrix = metrics.confusion_matrix(y_test, y_pred)\n",
    "print(cnf_matrix)"
   ]
  },
  {
   "cell_type": "code",
   "execution_count": 108,
   "metadata": {
    "colab": {
     "base_uri": "https://localhost:8080/",
     "height": 265
    },
    "executionInfo": {
     "elapsed": 263,
     "status": "ok",
     "timestamp": 1649603487950,
     "user": {
      "displayName": "Daniel Malinovský",
      "userId": "02049496699663143405"
     },
     "user_tz": -120
    },
    "id": "JlLRuFTcpihv",
    "outputId": "60a4d172-d7a5-4e8b-cabf-7071c4c05a9b"
   },
   "outputs": [
    {
     "data": {
      "image/png": "[encoded data removed]",
      "text/plain": [
       "<Figure size 432x288 with 1 Axes>"
      ]
     },
     "metadata": {
      "needs_background": "light"
     },
     "output_type": "display_data"
    }
   ],
   "source": [
    "y_pred_proba = clf.predict_proba(X_test)[::,1]\n",
    "fpr, tpr, _ = metrics.roc_curve(y_test,  y_pred_proba)\n",
    "auc = metrics.roc_auc_score(y_test, y_pred_proba)\n",
    "plt.plot(fpr,tpr,label=\"auc=\"+str(round(auc,4)))\n",
    "plt.legend(loc=4)\n",
    "plt.show()"
   ]
  },
  {
   "cell_type": "markdown",
   "metadata": {
    "id": "7zdRRJofeKKH"
   },
   "source": [
    "Removing least important features"
   ]
  },
  {
   "cell_type": "code",
   "execution_count": 109,
   "metadata": {
    "id": "4dRO_9-QplcD"
   },
   "outputs": [],
   "source": [
    "X_train = X_train.drop(columns=['Gender_Float','Loan term'])\n",
    "X_test = X_test.drop(columns=['Gender_Float','Loan term'])"
   ]
  },
  {
   "cell_type": "code",
   "execution_count": 110,
   "metadata": {
    "colab": {
     "base_uri": "https://localhost:8080/"
    },
    "executionInfo": {
     "elapsed": 3164,
     "status": "ok",
     "timestamp": 1649603496267,
     "user": {
      "displayName": "Daniel Malinovský",
      "userId": "02049496699663143405"
     },
     "user_tz": -120
    },
    "id": "7I7r5hA5pof-",
    "outputId": "a58a3d08-725f-4f44-cb87-80e15a791702"
   },
   "outputs": [
    {
     "name": "stdout",
     "output_type": "stream",
     "text": [
      "Accuracy: 0.712\n",
      "[[120  27]\n",
      " [ 41  48]]\n",
      "['Age', 'City_Float', 'Education_Float', 'Loan Amount', 'Year of application']\n"
     ]
    },
    {
     "data": {
      "text/plain": [
       "Age                    0.336116\n",
       "Year of application    0.281267\n",
       "Loan Amount            0.198758\n",
       "City_Float             0.144096\n",
       "Education_Float        0.039764\n",
       "dtype: float64"
      ]
     },
     "execution_count": 110,
     "metadata": {},
     "output_type": "execute_result"
    }
   ],
   "source": [
    "clf = RandomForestClassifier(n_estimators=100, random_state = 1)\n",
    "clf.fit(X_train,y_train)\n",
    "y_pred = clf.predict(X_test)\n",
    "print(\"Accuracy: \"+str(round(metrics.accuracy_score(y_test, y_pred),3)))\n",
    "cnf_matrix = metrics.confusion_matrix(y_test, y_pred)\n",
    "print(cnf_matrix)\n",
    "print(sorted(X_train))\n",
    "feature_imp = pd.Series(clf.feature_importances_, index=sorted(X_train)).sort_values(ascending=False)\n",
    "feature_imp"
   ]
  },
  {
   "cell_type": "code",
   "execution_count": 111,
   "metadata": {
    "colab": {
     "base_uri": "https://localhost:8080/",
     "height": 265
    },
    "executionInfo": {
     "elapsed": 988,
     "status": "ok",
     "timestamp": 1649603498480,
     "user": {
      "displayName": "Daniel Malinovský",
      "userId": "02049496699663143405"
     },
     "user_tz": -120
    },
    "id": "ygtGTDJfprkx",
    "outputId": "738c7db1-8048-41d7-9f9b-53508c93738f"
   },
   "outputs": [
    {
     "data": {
      "image/png": "[encoded data removed]",
      "text/plain": [
       "<Figure size 432x288 with 1 Axes>"
      ]
     },
     "metadata": {
      "needs_background": "light"
     },
     "output_type": "display_data"
    }
   ],
   "source": [
    "y_pred_proba = clf.predict_proba(X_test)[::,1]\n",
    "fpr, tpr, _ = metrics.roc_curve(y_test,  y_pred_proba)\n",
    "auc = metrics.roc_auc_score(y_test, y_pred_proba)\n",
    "plt.plot(fpr,tpr,label=\"auc=\"+str(round(auc,4)))\n",
    "plt.legend(loc=4)\n",
    "plt.show()"
   ]
  },
  {
   "cell_type": "code",
   "execution_count": 112,
   "metadata": {
    "colab": {
     "base_uri": "https://localhost:8080/",
     "height": 295
    },
    "executionInfo": {
     "elapsed": 3,
     "status": "ok",
     "timestamp": 1649603506974,
     "user": {
      "displayName": "Daniel Malinovský",
      "userId": "02049496699663143405"
     },
     "user_tz": -120
    },
    "id": "G7hhr_uppupI",
    "outputId": "a1cbeedb-0e7c-44d9-ebf7-8923829cf3cc"
   },
   "outputs": [
    {
     "data": {
      "image/png": "[encoded data removed]",
      "text/plain": [
       "<Figure size 432x288 with 1 Axes>"
      ]
     },
     "metadata": {
      "needs_background": "light"
     },
     "output_type": "display_data"
    }
   ],
   "source": [
    "sns.barplot(y=feature_imp.index, x=feature_imp)\n",
    "plt.xlabel('Feature Importance Score')\n",
    "plt.ylabel('Features')\n",
    "plt.title('Visualizing Important Features')\n",
    "plt.show()"
   ]
  },
  {
   "cell_type": "markdown",
   "metadata": {
    "id": "2FfGmk5XeRdh"
   },
   "source": [
    "Removing another least significant feature"
   ]
  },
  {
   "cell_type": "code",
   "execution_count": 113,
   "metadata": {
    "id": "XsGRGcPhpzT-"
   },
   "outputs": [],
   "source": [
    "X_train = X_train.drop(columns=['Education_Float'])\n",
    "X_test = X_test.drop(columns=['Education_Float'])"
   ]
  },
  {
   "cell_type": "code",
   "execution_count": 114,
   "metadata": {
    "colab": {
     "base_uri": "https://localhost:8080/"
    },
    "executionInfo": {
     "elapsed": 512,
     "status": "ok",
     "timestamp": 1649603514680,
     "user": {
      "displayName": "Daniel Malinovský",
      "userId": "02049496699663143405"
     },
     "user_tz": -120
    },
    "id": "uq2aZbn6yQLT",
    "outputId": "d8e8247d-cd83-4016-fcd7-d5c9ee9fb6d0"
   },
   "outputs": [
    {
     "name": "stdout",
     "output_type": "stream",
     "text": [
      "Accuracy: 0.72\n",
      "[[128  19]\n",
      " [ 47  42]]\n",
      "['Age', 'City_Float', 'Loan Amount', 'Year of application']\n"
     ]
    },
    {
     "data": {
      "text/plain": [
       "Age                    0.460786\n",
       "Year of application    0.336408\n",
       "City_Float             0.163458\n",
       "Loan Amount            0.039349\n",
       "dtype: float64"
      ]
     },
     "execution_count": 114,
     "metadata": {},
     "output_type": "execute_result"
    }
   ],
   "source": [
    "clf = RandomForestClassifier(n_estimators=100, random_state = 1)\n",
    "clf.fit(X_train,y_train)\n",
    "y_pred = clf.predict(X_test)\n",
    "print(\"Accuracy: \"+str(round(metrics.accuracy_score(y_test, y_pred),3)))\n",
    "cnf_matrix = metrics.confusion_matrix(y_test, y_pred)\n",
    "print(cnf_matrix)\n",
    "print(sorted(X_train))\n",
    "feature_imp = pd.Series(clf.feature_importances_, index=sorted(X_train)).sort_values(ascending=False)\n",
    "feature_imp"
   ]
  },
  {
   "cell_type": "code",
   "execution_count": 115,
   "metadata": {
    "colab": {
     "base_uri": "https://localhost:8080/",
     "height": 265
    },
    "executionInfo": {
     "elapsed": 9,
     "status": "ok",
     "timestamp": 1649603518621,
     "user": {
      "displayName": "Daniel Malinovský",
      "userId": "02049496699663143405"
     },
     "user_tz": -120
    },
    "id": "EJb4ZZ_-ySus",
    "outputId": "0d6be8a1-a444-4c7f-edab-7e02b4f65e95"
   },
   "outputs": [
    {
     "data": {
      "image/png": "[encoded data removed]",
      "text/plain": [
       "<Figure size 432x288 with 1 Axes>"
      ]
     },
     "metadata": {
      "needs_background": "light"
     },
     "output_type": "display_data"
    }
   ],
   "source": [
    "y_pred_proba = clf.predict_proba(X_test)[::,1]\n",
    "fpr, tpr, _ = metrics.roc_curve(y_test,  y_pred_proba)\n",
    "auc = metrics.roc_auc_score(y_test, y_pred_proba)\n",
    "plt.plot(fpr,tpr,label=\"auc=\"+str(round(auc,4)))\n",
    "plt.legend(loc=4)\n",
    "plt.show()"
   ]
  },
  {
   "cell_type": "markdown",
   "metadata": {
    "id": "FsufssP2e4FF"
   },
   "source": [
    "We can see that removing the least important features decreases accuracy as well as auc, so in this case, \n",
    "keeping all features in the model appears as the best option. Since this model has been built using age as quantitative variable,\n",
    "now we will compare it to model which uses age as 0/1 (as in logreg case - risk age group yes/no) variable"
   ]
  },
  {
   "cell_type": "markdown",
   "metadata": {
    "id": "o3fAjq4TSQxa"
   },
   "source": [
    "## 4.2 Model with age as factor variable"
   ]
  },
  {
   "cell_type": "code",
   "execution_count": 116,
   "metadata": {
    "colab": {
     "base_uri": "https://localhost:8080/"
    },
    "executionInfo": {
     "elapsed": 2,
     "status": "ok",
     "timestamp": 1649603522274,
     "user": {
      "displayName": "Daniel Malinovský",
      "userId": "02049496699663143405"
     },
     "user_tz": -120
    },
    "id": "MZbJPl8YyZVd",
    "outputId": "55084872-bfdb-429c-e6cb-83781748ae3b"
   },
   "outputs": [
    {
     "name": "stdout",
     "output_type": "stream",
     "text": [
      "   Loan term  Loan Amount  Year of application  Year of birth    City  Gender  \\\n",
      "0         36       2384.0                 2012           1979  Prague  Female   \n",
      "1         12       3499.0                 2015           1986    Brno  Female   \n",
      "2          9        918.0                 2014           1984  Prague  Female   \n",
      "3          9       1501.0                 2010           1976    Brno  Female   \n",
      "4         12       1555.0                 2017           1962    Brno  Female   \n",
      "\n",
      "   Education  DEFAULT  Age  Risk_Age_Float  City_Float  Gender_Float  \\\n",
      "0    Primary        1   41               0         1.0           2.0   \n",
      "1    Primary        0   34               0         2.0           2.0   \n",
      "2    Primary        1   36               0         1.0           2.0   \n",
      "3    Primary        0   44               0         2.0           2.0   \n",
      "4  Secondary        0   58               1         2.0           2.0   \n",
      "\n",
      "   Education_Float  \n",
      "0              1.0  \n",
      "1              1.0  \n",
      "2              1.0  \n",
      "3              1.0  \n",
      "4              2.0  \n",
      "(944, 13)\n"
     ]
    }
   ],
   "source": [
    "print(data.head())\n",
    "print(data.shape)"
   ]
  },
  {
   "cell_type": "code",
   "execution_count": 117,
   "metadata": {
    "colab": {
     "base_uri": "https://localhost:8080/"
    },
    "executionInfo": {
     "elapsed": 3,
     "status": "ok",
     "timestamp": 1649603525762,
     "user": {
      "displayName": "Daniel Malinovský",
      "userId": "02049496699663143405"
     },
     "user_tz": -120
    },
    "id": "WQC8QyhPybLA",
    "outputId": "267a49c1-6c78-483c-87d9-ceee70cf190c"
   },
   "outputs": [
    {
     "name": "stdout",
     "output_type": "stream",
     "text": [
      "Accuracy: 0.758\n",
      "[[130  17]\n",
      " [ 40  49]]\n"
     ]
    }
   ],
   "source": [
    "feature_vars = ['Loan term', 'Loan Amount', 'Year of application', 'City_Float', 'Gender_Float', 'Education_Float', 'Risk_Age_Float']\n",
    "X = data[feature_vars]\n",
    "y = data['DEFAULT']\n",
    "X_train, X_test, y_train, y_test = train_test_split(X, y, test_size=0.25, random_state=69)\n",
    "clf = RandomForestClassifier(n_estimators=100, random_state = 1)\n",
    "clf.fit(X_train,y_train)\n",
    "y_pred = clf.predict(X_test)\n",
    "print(\"Accuracy: \"+str(round(metrics.accuracy_score(y_test, y_pred),3)))\n",
    "cnf_matrix = metrics.confusion_matrix(y_test, y_pred)\n",
    "print(cnf_matrix)"
   ]
  },
  {
   "cell_type": "code",
   "execution_count": 118,
   "metadata": {
    "colab": {
     "base_uri": "https://localhost:8080/",
     "height": 265
    },
    "executionInfo": {
     "elapsed": 289,
     "status": "ok",
     "timestamp": 1649603527312,
     "user": {
      "displayName": "Daniel Malinovský",
      "userId": "02049496699663143405"
     },
     "user_tz": -120
    },
    "id": "J0Jg1QZpyew7",
    "outputId": "a568c70e-ed9a-4269-9adb-52d8139eb22c"
   },
   "outputs": [
    {
     "data": {
      "image/png": "[encoded data removed]",
      "text/plain": [
       "<Figure size 432x288 with 1 Axes>"
      ]
     },
     "metadata": {
      "needs_background": "light"
     },
     "output_type": "display_data"
    }
   ],
   "source": [
    "y_pred_proba = clf.predict_proba(X_test)[::,1]\n",
    "fpr, tpr, _ = metrics.roc_curve(y_test,  y_pred_proba)\n",
    "auc = metrics.roc_auc_score(y_test, y_pred_proba)\n",
    "plt.plot(fpr,tpr,label=\"auc=\"+str(round(auc,4)))\n",
    "plt.legend(loc=4)\n",
    "plt.show()"
   ]
  },
  {
   "cell_type": "code",
   "execution_count": 119,
   "metadata": {
    "id": "NIZFpNBiylnS"
   },
   "outputs": [],
   "source": [
    "# by running following code, it is possible to plot part of one of the trees, but we dont find it necessary or interesting\n",
    "#plt.figure(figsize=[12,12])\n",
    "#from sklearn.tree import plot_tree\n",
    "#plot_tree(clf.estimators_[0], max_depth=2)"
   ]
  },
  {
   "cell_type": "markdown",
   "metadata": {
    "id": "MPulueTHfDcZ"
   },
   "source": [
    "Perhaps quite surprisingly, even here the results were slightly better when using age as 0/1 (risk group yes/no) variable than when using it as „continuous\" variable (accuracy around 2 percentage points and auc around 0,2 pct point higher), so next, we will try to get even better model by tuning its hyperparametrs."
   ]
  },
  {
   "cell_type": "markdown",
   "metadata": {
    "id": "l0SIVsaXSXhb"
   },
   "source": [
    "## 4.3 Hyperparameter boosting"
   ]
  },
  {
   "cell_type": "code",
   "execution_count": 120,
   "metadata": {
    "colab": {
     "base_uri": "https://localhost:8080/"
    },
    "executionInfo": {
     "elapsed": 387,
     "status": "ok",
     "timestamp": 1649603537206,
     "user": {
      "displayName": "Daniel Malinovský",
      "userId": "02049496699663143405"
     },
     "user_tz": -120
    },
    "id": "uUlVXz4HynmY",
    "outputId": "aa6dba64-6f91-42cd-9f1a-e716208e12f4"
   },
   "outputs": [
    {
     "name": "stdout",
     "output_type": "stream",
     "text": [
      "Parameters currently in use:\n",
      "\n",
      "{'bootstrap': True,\n",
      " 'ccp_alpha': 0.0,\n",
      " 'class_weight': None,\n",
      " 'criterion': 'gini',\n",
      " 'max_depth': None,\n",
      " 'max_features': 'auto',\n",
      " 'max_leaf_nodes': None,\n",
      " 'max_samples': None,\n",
      " 'min_impurity_decrease': 0.0,\n",
      " 'min_impurity_split': None,\n",
      " 'min_samples_leaf': 1,\n",
      " 'min_samples_split': 2,\n",
      " 'min_weight_fraction_leaf': 0.0,\n",
      " 'n_estimators': 100,\n",
      " 'n_jobs': None,\n",
      " 'oob_score': False,\n",
      " 'random_state': 1,\n",
      " 'verbose': 0,\n",
      " 'warm_start': False}\n"
     ]
    }
   ],
   "source": [
    "from pprint import pprint\n",
    "print('Parameters currently in use:\\n')\n",
    "pprint(clf.get_params())"
   ]
  },
  {
   "cell_type": "code",
   "execution_count": 121,
   "metadata": {
    "colab": {
     "base_uri": "https://localhost:8080/"
    },
    "executionInfo": {
     "elapsed": 6,
     "status": "ok",
     "timestamp": 1649603562419,
     "user": {
      "displayName": "Daniel Malinovský",
      "userId": "02049496699663143405"
     },
     "user_tz": -120
    },
    "id": "RLzLH1FPyqOV",
    "outputId": "39c13067-0159-439f-d747-6cde92973c7b"
   },
   "outputs": [
    {
     "name": "stdout",
     "output_type": "stream",
     "text": [
      "{'bootstrap': [True, False],\n",
      " 'max_depth': [20, 40, 60, 80, 100, None],\n",
      " 'max_features': ['auto', 'sqrt'],\n",
      " 'min_samples_leaf': [1, 2, 4],\n",
      " 'min_samples_split': [2, 5, 10],\n",
      " 'n_estimators': [50, 150, 250, 350]}\n"
     ]
    }
   ],
   "source": [
    "from sklearn.model_selection import RandomizedSearchCV\n",
    "# Number of trees in random forest\n",
    "n_estimators = [int(x) for x in np.linspace(start = 50, stop = 350, num = 4)]\n",
    "# Number of features to consider at every split\n",
    "max_features = ['auto', 'sqrt']\n",
    "# Maximum number of levels in tree\n",
    "max_depth = [int(x) for x in np.linspace(20, 100, num = 5)]\n",
    "max_depth.append(None)\n",
    "# Minimum number of samples required to split a node\n",
    "min_samples_split = [2, 5, 10]\n",
    "# Minimum number of samples required at each leaf node\n",
    "min_samples_leaf = [1, 2, 4]\n",
    "# Method of selecting samples for training each tree\n",
    "bootstrap = [True, False]\n",
    "# Create the random grid\n",
    "random_grid = {'n_estimators': n_estimators,\n",
    "               'max_features': max_features,\n",
    "               'max_depth': max_depth,\n",
    "               'min_samples_split': min_samples_split,\n",
    "               'min_samples_leaf': min_samples_leaf,\n",
    "               'bootstrap': bootstrap}\n",
    "pprint(random_grid)"
   ]
  },
  {
   "cell_type": "code",
   "execution_count": 122,
   "metadata": {
    "id": "cSnWmxkdyt5q"
   },
   "outputs": [],
   "source": [
    "feature_vars = ['Loan term', 'Loan Amount', 'Year of application', 'City_Float', 'Gender_Float', 'Education_Float', 'Risk_Age_Float']\n",
    "X = data[feature_vars]\n",
    "y = data['DEFAULT']\n",
    "X_train, X_test, y_train, y_test = train_test_split(X, y, test_size=0.25, random_state=69)"
   ]
  },
  {
   "cell_type": "markdown",
   "metadata": {
    "id": "kzZAJfqjh7bd"
   },
   "source": [
    "Based on our experience, running time of following code (hyppar. tuning) is expected to be 61s."
   ]
  },
  {
   "cell_type": "code",
   "execution_count": 123,
   "metadata": {
    "colab": {
     "base_uri": "https://localhost:8080/"
    },
    "executionInfo": {
     "elapsed": 94158,
     "status": "ok",
     "timestamp": 1649603661783,
     "user": {
      "displayName": "Daniel Malinovský",
      "userId": "02049496699663143405"
     },
     "user_tz": -120
    },
    "id": "-OHFYbjhyx0b",
    "outputId": "4eee6e1c-5040-4803-b52a-02e095298941"
   },
   "outputs": [
    {
     "name": "stdout",
     "output_type": "stream",
     "text": [
      "Fitting 3 folds for each of 100 candidates, totalling 300 fits\n"
     ]
    },
    {
     "data": {
      "text/plain": [
       "RandomizedSearchCV(cv=3, estimator=RandomForestClassifier(random_state=1),\n",
       "                   n_iter=100, n_jobs=-1,\n",
       "                   param_distributions={'bootstrap': [True, False],\n",
       "                                        'max_depth': [20, 40, 60, 80, 100,\n",
       "                                                      None],\n",
       "                                        'max_features': ['auto', 'sqrt'],\n",
       "                                        'min_samples_leaf': [1, 2, 4],\n",
       "                                        'min_samples_split': [2, 5, 10],\n",
       "                                        'n_estimators': [50, 150, 250, 350]},\n",
       "                   random_state=42, verbose=2)"
      ]
     },
     "execution_count": 123,
     "metadata": {},
     "output_type": "execute_result"
    }
   ],
   "source": [
    "clf = RandomForestClassifier(random_state = 1)\n",
    "clf_random = RandomizedSearchCV(estimator = clf, param_distributions = random_grid, n_iter = 100, cv = 3, verbose=2, random_state=42, n_jobs = -1)\n",
    "clf_random.fit(X_train,y_train)"
   ]
  },
  {
   "cell_type": "code",
   "execution_count": 124,
   "metadata": {
    "colab": {
     "base_uri": "https://localhost:8080/"
    },
    "executionInfo": {
     "elapsed": 1740,
     "status": "ok",
     "timestamp": 1649603663516,
     "user": {
      "displayName": "Daniel Malinovský",
      "userId": "02049496699663143405"
     },
     "user_tz": -120
    },
    "id": "W2hvFxhey0QX",
    "outputId": "b437aff7-e5f8-4562-8c02-de1b23d6bf9c"
   },
   "outputs": [
    {
     "data": {
      "text/plain": [
       "{'n_estimators': 50,\n",
       " 'min_samples_split': 2,\n",
       " 'min_samples_leaf': 4,\n",
       " 'max_features': 'auto',\n",
       " 'max_depth': 40,\n",
       " 'bootstrap': True}"
      ]
     },
     "execution_count": 124,
     "metadata": {},
     "output_type": "execute_result"
    }
   ],
   "source": [
    "clf_random.best_params_\n",
    "\n",
    "# result: {'n_estimators': 50,\n",
    "# 'min_samples_split': 2,\n",
    "# 'min_samples_leaf': 4,\n",
    "# 'max_features': 'auto',\n",
    "# 'max_depth': 40,\n",
    "# 'bootstrap': True}"
   ]
  },
  {
   "cell_type": "code",
   "execution_count": 125,
   "metadata": {
    "colab": {
     "base_uri": "https://localhost:8080/"
    },
    "executionInfo": {
     "elapsed": 4,
     "status": "ok",
     "timestamp": 1649603667314,
     "user": {
      "displayName": "Daniel Malinovský",
      "userId": "02049496699663143405"
     },
     "user_tz": -120
    },
    "id": "4BDmj52Ly3rQ",
    "outputId": "ff17679d-6cac-422f-a11c-cca4cd19a255"
   },
   "outputs": [
    {
     "name": "stdout",
     "output_type": "stream",
     "text": [
      "Accuracy: 0.7627\n",
      "[[130  17]\n",
      " [ 39  50]]\n"
     ]
    }
   ],
   "source": [
    "clf = RandomForestClassifier(n_estimators=50, min_samples_split=2, min_samples_leaf=4, max_features='auto', max_depth=40, bootstrap=True, random_state = 1)\n",
    "clf.fit(X_train,y_train)\n",
    "y_pred = clf.predict(X_test)\n",
    "print(\"Accuracy: \"+str(round(metrics.accuracy_score(y_test, y_pred),4)))\n",
    "cnf_matrix = metrics.confusion_matrix(y_test, y_pred)\n",
    "print(cnf_matrix)"
   ]
  },
  {
   "cell_type": "code",
   "execution_count": 126,
   "metadata": {
    "colab": {
     "base_uri": "https://localhost:8080/",
     "height": 265
    },
    "executionInfo": {
     "elapsed": 7,
     "status": "ok",
     "timestamp": 1649603670746,
     "user": {
      "displayName": "Daniel Malinovský",
      "userId": "02049496699663143405"
     },
     "user_tz": -120
    },
    "id": "R9tS9VV6y62s",
    "outputId": "29eda9ec-de43-408b-e2cc-590780178671"
   },
   "outputs": [
    {
     "data": {
      "image/png": "[encoded data removed]",
      "text/plain": [
       "<Figure size 432x288 with 1 Axes>"
      ]
     },
     "metadata": {
      "needs_background": "light"
     },
     "output_type": "display_data"
    },
    {
     "name": "stdout",
     "output_type": "stream",
     "text": [
      "[CV] END bootstrap=False, max_depth=60, max_features=sqrt, min_samples_leaf=2, min_samples_split=10, n_estimators=350; total time=   1.0s\n",
      "[CV] END bootstrap=True, max_depth=100, max_features=auto, min_samples_leaf=1, min_samples_split=10, n_estimators=350; total time=   1.1s\n",
      "[CV] END bootstrap=False, max_depth=60, max_features=sqrt, min_samples_leaf=2, min_samples_split=2, n_estimators=150; total time=   0.4s\n",
      "[CV] END bootstrap=False, max_depth=100, max_features=sqrt, min_samples_leaf=2, min_samples_split=10, n_estimators=250; total time=   0.6s\n",
      "[CV] END bootstrap=False, max_depth=100, max_features=auto, min_samples_leaf=4, min_samples_split=2, n_estimators=150; total time=   0.4s\n",
      "[CV] END bootstrap=False, max_depth=100, max_features=auto, min_samples_leaf=4, min_samples_split=2, n_estimators=150; total time=   0.4s\n",
      "[CV] END bootstrap=False, max_depth=80, max_features=sqrt, min_samples_leaf=4, min_samples_split=10, n_estimators=50; total time=   0.2s\n",
      "[CV] END bootstrap=False, max_depth=80, max_features=auto, min_samples_leaf=2, min_samples_split=5, n_estimators=50; total time=   0.2s\n",
      "[CV] END bootstrap=False, max_depth=80, max_features=auto, min_samples_leaf=1, min_samples_split=10, n_estimators=350; total time=   1.0s\n",
      "[CV] END bootstrap=True, max_depth=40, max_features=sqrt, min_samples_leaf=4, min_samples_split=5, n_estimators=150; total time=   0.5s\n",
      "[CV] END bootstrap=True, max_depth=80, max_features=auto, min_samples_leaf=4, min_samples_split=10, n_estimators=250; total time=   0.7s\n",
      "[CV] END bootstrap=True, max_depth=100, max_features=sqrt, min_samples_leaf=1, min_samples_split=2, n_estimators=250; total time=   1.0s\n",
      "[CV] END bootstrap=True, max_depth=None, max_features=auto, min_samples_leaf=1, min_samples_split=2, n_estimators=350; total time=   1.0s\n",
      "[CV] END bootstrap=True, max_depth=40, max_features=sqrt, min_samples_leaf=4, min_samples_split=5, n_estimators=350; total time=   1.0s\n",
      "[CV] END bootstrap=True, max_depth=60, max_features=sqrt, min_samples_leaf=4, min_samples_split=5, n_estimators=150; total time=   0.4s\n",
      "[CV] END bootstrap=True, max_depth=100, max_features=auto, min_samples_leaf=1, min_samples_split=2, n_estimators=350; total time=   1.1s\n",
      "[CV] END bootstrap=True, max_depth=None, max_features=auto, min_samples_leaf=2, min_samples_split=2, n_estimators=350; total time=   1.1s\n",
      "[CV] END bootstrap=True, max_depth=80, max_features=auto, min_samples_leaf=4, min_samples_split=5, n_estimators=50; total time=   0.1s\n",
      "[CV] END bootstrap=False, max_depth=80, max_features=sqrt, min_samples_leaf=4, min_samples_split=10, n_estimators=150; total time=   0.4s\n",
      "[CV] END bootstrap=False, max_depth=None, max_features=auto, min_samples_leaf=4, min_samples_split=5, n_estimators=250; total time=   0.6s\n",
      "[CV] END bootstrap=True, max_depth=None, max_features=sqrt, min_samples_leaf=2, min_samples_split=10, n_estimators=50; total time=   0.1s\n",
      "[CV] END bootstrap=False, max_depth=80, max_features=sqrt, min_samples_leaf=2, min_samples_split=10, n_estimators=50; total time=   0.1s\n",
      "[CV] END bootstrap=True, max_depth=100, max_features=sqrt, min_samples_leaf=1, min_samples_split=10, n_estimators=150; total time=   0.4s\n",
      "[CV] END bootstrap=False, max_depth=20, max_features=auto, min_samples_leaf=4, min_samples_split=10, n_estimators=350; total time=   0.9s\n",
      "[CV] END bootstrap=False, max_depth=None, max_features=sqrt, min_samples_leaf=4, min_samples_split=5, n_estimators=350; total time=   0.9s\n",
      "[CV] END bootstrap=False, max_depth=None, max_features=auto, min_samples_leaf=1, min_samples_split=5, n_estimators=50; total time=   0.1s\n",
      "[CV] END bootstrap=True, max_depth=80, max_features=sqrt, min_samples_leaf=1, min_samples_split=5, n_estimators=350; total time=   1.2s\n",
      "[CV] END bootstrap=False, max_depth=None, max_features=sqrt, min_samples_leaf=2, min_samples_split=2, n_estimators=250; total time=   0.7s\n",
      "[CV] END bootstrap=False, max_depth=80, max_features=auto, min_samples_leaf=4, min_samples_split=2, n_estimators=150; total time=   0.4s\n",
      "[CV] END bootstrap=True, max_depth=20, max_features=sqrt, min_samples_leaf=4, min_samples_split=2, n_estimators=350; total time=   1.2s\n",
      "[CV] END bootstrap=True, max_depth=20, max_features=sqrt, min_samples_leaf=4, min_samples_split=5, n_estimators=150; total time=   0.5s\n",
      "[CV] END bootstrap=True, max_depth=40, max_features=auto, min_samples_leaf=1, min_samples_split=5, n_estimators=250; total time=   0.8s\n",
      "[CV] END bootstrap=False, max_depth=80, max_features=sqrt, min_samples_leaf=4, min_samples_split=2, n_estimators=50; total time=   0.1s\n",
      "[CV] END bootstrap=True, max_depth=None, max_features=sqrt, min_samples_leaf=4, min_samples_split=5, n_estimators=250; total time=   0.8s\n",
      "[CV] END bootstrap=False, max_depth=40, max_features=auto, min_samples_leaf=2, min_samples_split=5, n_estimators=350; total time=   1.1s\n",
      "[CV] END bootstrap=True, max_depth=60, max_features=sqrt, min_samples_leaf=2, min_samples_split=5, n_estimators=250; total time=   0.8s\n",
      "[CV] END bootstrap=True, max_depth=100, max_features=auto, min_samples_leaf=1, min_samples_split=10, n_estimators=350; total time=   1.1s\n",
      "[CV] END bootstrap=False, max_depth=20, max_features=sqrt, min_samples_leaf=2, min_samples_split=5, n_estimators=150; total time=   0.4s\n",
      "[CV] END bootstrap=True, max_depth=None, max_features=auto, min_samples_leaf=4, min_samples_split=10, n_estimators=150; total time=   0.4s\n",
      "[CV] END bootstrap=False, max_depth=20, max_features=auto, min_samples_leaf=4, min_samples_split=10, n_estimators=50; total time=   0.1s\n",
      "[CV] END bootstrap=False, max_depth=20, max_features=auto, min_samples_leaf=4, min_samples_split=10, n_estimators=50; total time=   0.1s\n",
      "[CV] END bootstrap=False, max_depth=80, max_features=auto, min_samples_leaf=4, min_samples_split=10, n_estimators=250; total time=   0.7s\n",
      "[CV] END bootstrap=False, max_depth=None, max_features=sqrt, min_samples_leaf=2, min_samples_split=10, n_estimators=150; total time=   0.4s\n",
      "[CV] END bootstrap=True, max_depth=40, max_features=auto, min_samples_leaf=4, min_samples_split=2, n_estimators=50; total time=   0.1s\n",
      "[CV] END bootstrap=False, max_depth=80, max_features=auto, min_samples_leaf=1, min_samples_split=10, n_estimators=350; total time=   1.0s\n",
      "[CV] END bootstrap=True, max_depth=40, max_features=sqrt, min_samples_leaf=4, min_samples_split=5, n_estimators=150; total time=   0.5s\n",
      "[CV] END bootstrap=True, max_depth=80, max_features=auto, min_samples_leaf=4, min_samples_split=10, n_estimators=250; total time=   0.8s\n",
      "[CV] END bootstrap=True, max_depth=100, max_features=sqrt, min_samples_leaf=2, min_samples_split=10, n_estimators=250; total time=   0.9s\n",
      "[CV] END bootstrap=True, max_depth=None, max_features=auto, min_samples_leaf=1, min_samples_split=2, n_estimators=350; total time=   1.1s\n",
      "[CV] END bootstrap=True, max_depth=80, max_features=auto, min_samples_leaf=2, min_samples_split=10, n_estimators=350; total time=   1.0s\n",
      "[CV] END bootstrap=True, max_depth=60, max_features=sqrt, min_samples_leaf=4, min_samples_split=5, n_estimators=150; total time=   0.4s\n",
      "[CV] END bootstrap=True, max_depth=100, max_features=auto, min_samples_leaf=1, min_samples_split=2, n_estimators=350; total time=   1.1s\n",
      "[CV] END bootstrap=True, max_depth=None, max_features=auto, min_samples_leaf=2, min_samples_split=2, n_estimators=350; total time=   1.1s\n",
      "[CV] END bootstrap=True, max_depth=80, max_features=auto, min_samples_leaf=4, min_samples_split=5, n_estimators=50; total time=   0.1s\n",
      "[CV] END bootstrap=True, max_depth=80, max_features=auto, min_samples_leaf=4, min_samples_split=5, n_estimators=50; total time=   0.1s\n",
      "[CV] END bootstrap=False, max_depth=80, max_features=sqrt, min_samples_leaf=4, min_samples_split=10, n_estimators=150; total time=   0.3s\n",
      "[CV] END bootstrap=True, max_depth=60, max_features=sqrt, min_samples_leaf=4, min_samples_split=10, n_estimators=150; total time=   0.4s\n",
      "[CV] END bootstrap=True, max_depth=60, max_features=sqrt, min_samples_leaf=4, min_samples_split=10, n_estimators=150; total time=   0.4s\n",
      "[CV] END bootstrap=False, max_depth=60, max_features=auto, min_samples_leaf=4, min_samples_split=2, n_estimators=250; total time=   0.6s\n",
      "[CV] END bootstrap=True, max_depth=None, max_features=auto, min_samples_leaf=1, min_samples_split=10, n_estimators=50; total time=   0.2s\n",
      "[CV] END bootstrap=True, max_depth=None, max_features=auto, min_samples_leaf=1, min_samples_split=10, n_estimators=50; total time=   0.1s\n",
      "[CV] END bootstrap=True, max_depth=20, max_features=sqrt, min_samples_leaf=4, min_samples_split=5, n_estimators=250; total time=   0.7s\n",
      "[CV] END bootstrap=False, max_depth=60, max_features=auto, min_samples_leaf=2, min_samples_split=2, n_estimators=350; total time=   1.0s\n",
      "[CV] END bootstrap=False, max_depth=60, max_features=sqrt, min_samples_leaf=4, min_samples_split=2, n_estimators=50; total time=   0.1s\n",
      "[CV] END bootstrap=False, max_depth=60, max_features=sqrt, min_samples_leaf=4, min_samples_split=2, n_estimators=250; total time=   0.7s\n",
      "[CV] END bootstrap=False, max_depth=100, max_features=sqrt, min_samples_leaf=1, min_samples_split=5, n_estimators=50; total time=   0.1s\n",
      "[CV] END bootstrap=False, max_depth=100, max_features=sqrt, min_samples_leaf=1, min_samples_split=5, n_estimators=50; total time=   0.1s\n",
      "[CV] END bootstrap=False, max_depth=20, max_features=auto, min_samples_leaf=2, min_samples_split=2, n_estimators=350; total time=   1.0s\n",
      "[CV] END bootstrap=False, max_depth=100, max_features=sqrt, min_samples_leaf=4, min_samples_split=10, n_estimators=250; total time=   0.7s\n",
      "[CV] END bootstrap=True, max_depth=20, max_features=sqrt, min_samples_leaf=4, min_samples_split=5, n_estimators=150; total time=   0.5s\n",
      "[CV] END bootstrap=True, max_depth=40, max_features=sqrt, min_samples_leaf=2, min_samples_split=2, n_estimators=50; total time=   0.2s\n",
      "[CV] END bootstrap=False, max_depth=40, max_features=sqrt, min_samples_leaf=4, min_samples_split=5, n_estimators=150; total time=   0.4s\n",
      "[CV] END bootstrap=True, max_depth=80, max_features=sqrt, min_samples_leaf=2, min_samples_split=2, n_estimators=250; total time=   0.8s\n",
      "[CV] END bootstrap=False, max_depth=40, max_features=auto, min_samples_leaf=2, min_samples_split=5, n_estimators=350; total time=   1.1s\n",
      "[CV] END bootstrap=True, max_depth=20, max_features=sqrt, min_samples_leaf=2, min_samples_split=2, n_estimators=150; total time=   0.6s\n"
     ]
    },
    {
     "name": "stdout",
     "output_type": "stream",
     "text": [
      "[CV] END bootstrap=False, max_depth=100, max_features=auto, min_samples_leaf=1, min_samples_split=2, n_estimators=50; total time=   0.2s\n",
      "[CV] END bootstrap=True, max_depth=100, max_features=auto, min_samples_leaf=2, min_samples_split=10, n_estimators=150; total time=   0.5s\n",
      "[CV] END bootstrap=True, max_depth=20, max_features=auto, min_samples_leaf=2, min_samples_split=10, n_estimators=350; total time=   1.1s\n",
      "[CV] END bootstrap=True, max_depth=100, max_features=auto, min_samples_leaf=1, min_samples_split=10, n_estimators=250; total time=   0.8s\n",
      "[CV] END bootstrap=False, max_depth=100, max_features=sqrt, min_samples_leaf=2, min_samples_split=10, n_estimators=250; total time=   0.7s\n",
      "[CV] END bootstrap=False, max_depth=100, max_features=auto, min_samples_leaf=4, min_samples_split=2, n_estimators=150; total time=   0.4s\n",
      "[CV] END bootstrap=True, max_depth=20, max_features=sqrt, min_samples_leaf=4, min_samples_split=5, n_estimators=350; total time=   1.2s\n",
      "[CV] END bootstrap=True, max_depth=40, max_features=auto, min_samples_leaf=2, min_samples_split=2, n_estimators=250; total time=   0.9s\n",
      "[CV] END bootstrap=True, max_depth=None, max_features=sqrt, min_samples_leaf=2, min_samples_split=2, n_estimators=350; total time=   1.1s\n",
      "[CV] END bootstrap=True, max_depth=100, max_features=sqrt, min_samples_leaf=2, min_samples_split=10, n_estimators=250; total time=   0.9s\n",
      "[CV] END bootstrap=False, max_depth=40, max_features=auto, min_samples_leaf=2, min_samples_split=5, n_estimators=250; total time=   0.6s\n",
      "[CV] END bootstrap=True, max_depth=80, max_features=auto, min_samples_leaf=2, min_samples_split=10, n_estimators=350; total time=   1.0s\n",
      "[CV] END bootstrap=False, max_depth=100, max_features=auto, min_samples_leaf=4, min_samples_split=5, n_estimators=150; total time=   0.4s\n",
      "[CV] END bootstrap=True, max_depth=None, max_features=auto, min_samples_leaf=2, min_samples_split=5, n_estimators=150; total time=   0.4s\n",
      "[CV] END bootstrap=True, max_depth=60, max_features=sqrt, min_samples_leaf=4, min_samples_split=5, n_estimators=250; total time=   0.7s\n",
      "[CV] END bootstrap=True, max_depth=20, max_features=sqrt, min_samples_leaf=1, min_samples_split=2, n_estimators=350; total time=   1.1s\n",
      "[CV] END bootstrap=True, max_depth=100, max_features=sqrt, min_samples_leaf=2, min_samples_split=2, n_estimators=250; total time=   0.7s\n",
      "[CV] END bootstrap=False, max_depth=None, max_features=auto, min_samples_leaf=4, min_samples_split=10, n_estimators=350; total time=   0.8s\n",
      "[CV] END bootstrap=True, max_depth=100, max_features=sqrt, min_samples_leaf=4, min_samples_split=2, n_estimators=350; total time=   1.1s\n",
      "[CV] END bootstrap=True, max_depth=80, max_features=sqrt, min_samples_leaf=4, min_samples_split=5, n_estimators=150; total time=   0.5s\n",
      "[CV] END bootstrap=False, max_depth=None, max_features=sqrt, min_samples_leaf=4, min_samples_split=5, n_estimators=350; total time=   0.9s\n",
      "[CV] END bootstrap=False, max_depth=20, max_features=auto, min_samples_leaf=1, min_samples_split=10, n_estimators=250; total time=   0.7s\n",
      "[CV] END bootstrap=False, max_depth=80, max_features=auto, min_samples_leaf=1, min_samples_split=2, n_estimators=250; total time=   0.8s\n",
      "[CV] END bootstrap=False, max_depth=20, max_features=auto, min_samples_leaf=2, min_samples_split=2, n_estimators=350; total time=   1.0s\n",
      "[CV] END bootstrap=False, max_depth=100, max_features=sqrt, min_samples_leaf=4, min_samples_split=10, n_estimators=250; total time=   0.7s\n",
      "[CV] END bootstrap=True, max_depth=100, max_features=sqrt, min_samples_leaf=1, min_samples_split=5, n_estimators=350; total time=   1.1s\n",
      "[CV] END bootstrap=True, max_depth=80, max_features=sqrt, min_samples_leaf=2, min_samples_split=2, n_estimators=250; total time=   0.8s\n",
      "[CV] END bootstrap=False, max_depth=100, max_features=auto, min_samples_leaf=2, min_samples_split=10, n_estimators=250; total time=   0.8s\n",
      "[CV] END bootstrap=False, max_depth=60, max_features=sqrt, min_samples_leaf=2, min_samples_split=10, n_estimators=250; total time=   0.8s\n",
      "[CV] END bootstrap=False, max_depth=60, max_features=sqrt, min_samples_leaf=4, min_samples_split=5, n_estimators=50; total time=   0.2s\n",
      "[CV] END bootstrap=False, max_depth=100, max_features=auto, min_samples_leaf=1, min_samples_split=2, n_estimators=50; total time=   0.2s\n",
      "[CV] END bootstrap=False, max_depth=60, max_features=sqrt, min_samples_leaf=2, min_samples_split=10, n_estimators=350; total time=   0.9s\n",
      "[CV] END bootstrap=False, max_depth=60, max_features=auto, min_samples_leaf=2, min_samples_split=5, n_estimators=150; total time=   0.4s\n",
      "[CV] END bootstrap=False, max_depth=60, max_features=auto, min_samples_leaf=2, min_samples_split=5, n_estimators=150; total time=   0.4s\n",
      "[CV] END bootstrap=False, max_depth=20, max_features=sqrt, min_samples_leaf=2, min_samples_split=5, n_estimators=150; total time=   0.4s\n",
      "[CV] END bootstrap=True, max_depth=None, max_features=auto, min_samples_leaf=4, min_samples_split=10, n_estimators=150; total time=   0.5s\n",
      "[CV] END bootstrap=False, max_depth=20, max_features=auto, min_samples_leaf=4, min_samples_split=10, n_estimators=50; total time=   0.1s\n",
      "[CV] END bootstrap=False, max_depth=80, max_features=auto, min_samples_leaf=4, min_samples_split=10, n_estimators=250; total time=   0.6s\n",
      "[CV] END bootstrap=True, max_depth=20, max_features=sqrt, min_samples_leaf=4, min_samples_split=5, n_estimators=350; total time=   1.2s\n",
      "[CV] END bootstrap=False, max_depth=60, max_features=auto, min_samples_leaf=1, min_samples_split=5, n_estimators=150; total time=   0.4s\n",
      "[CV] END bootstrap=False, max_depth=20, max_features=auto, min_samples_leaf=4, min_samples_split=2, n_estimators=150; total time=   0.4s\n",
      "[CV] END bootstrap=True, max_depth=None, max_features=sqrt, min_samples_leaf=2, min_samples_split=2, n_estimators=350; total time=   1.1s\n",
      "[CV] END bootstrap=True, max_depth=100, max_features=sqrt, min_samples_leaf=2, min_samples_split=10, n_estimators=250; total time=   0.8s\n",
      "[CV] END bootstrap=False, max_depth=40, max_features=auto, min_samples_leaf=2, min_samples_split=5, n_estimators=250; total time=   0.6s\n",
      "[CV] END bootstrap=False, max_depth=None, max_features=auto, min_samples_leaf=2, min_samples_split=5, n_estimators=350; total time=   0.9s\n",
      "[CV] END bootstrap=False, max_depth=40, max_features=auto, min_samples_leaf=2, min_samples_split=10, n_estimators=150; total time=   0.4s\n",
      "[CV] END bootstrap=False, max_depth=100, max_features=auto, min_samples_leaf=4, min_samples_split=5, n_estimators=150; total time=   0.4s\n",
      "[CV] END bootstrap=True, max_depth=100, max_features=auto, min_samples_leaf=2, min_samples_split=2, n_estimators=250; total time=   0.7s\n",
      "[CV] END bootstrap=True, max_depth=60, max_features=sqrt, min_samples_leaf=4, min_samples_split=5, n_estimators=250; total time=   0.7s\n",
      "[CV] END bootstrap=False, max_depth=60, max_features=auto, min_samples_leaf=4, min_samples_split=2, n_estimators=150; total time=   0.4s\n",
      "[CV] END bootstrap=True, max_depth=100, max_features=sqrt, min_samples_leaf=1, min_samples_split=10, n_estimators=50; total time=   0.1s\n",
      "[CV] END bootstrap=True, max_depth=100, max_features=sqrt, min_samples_leaf=2, min_samples_split=2, n_estimators=250; total time=   0.7s\n",
      "[CV] END bootstrap=False, max_depth=80, max_features=sqrt, min_samples_leaf=4, min_samples_split=10, n_estimators=150; total time=   0.3s\n",
      "[CV] END bootstrap=True, max_depth=60, max_features=sqrt, min_samples_leaf=4, min_samples_split=10, n_estimators=150; total time=   0.4s\n",
      "[CV] END bootstrap=False, max_depth=80, max_features=sqrt, min_samples_leaf=2, min_samples_split=10, n_estimators=50; total time=   0.1s\n",
      "[CV] END bootstrap=True, max_depth=100, max_features=sqrt, min_samples_leaf=1, min_samples_split=10, n_estimators=150; total time=   0.4s\n",
      "[CV] END bootstrap=False, max_depth=60, max_features=auto, min_samples_leaf=4, min_samples_split=2, n_estimators=250; total time=   0.6s\n",
      "[CV] END bootstrap=True, max_depth=80, max_features=sqrt, min_samples_leaf=4, min_samples_split=5, n_estimators=150; total time=   0.5s\n",
      "[CV] END bootstrap=False, max_depth=60, max_features=auto, min_samples_leaf=2, min_samples_split=2, n_estimators=350; total time=   1.0s\n",
      "[CV] END bootstrap=False, max_depth=20, max_features=auto, min_samples_leaf=1, min_samples_split=10, n_estimators=250; total time=   0.7s\n",
      "[CV] END bootstrap=False, max_depth=80, max_features=auto, min_samples_leaf=1, min_samples_split=2, n_estimators=250; total time=   0.8s\n",
      "[CV] END bootstrap=False, max_depth=20, max_features=auto, min_samples_leaf=2, min_samples_split=2, n_estimators=350; total time=   1.1s\n",
      "[CV] END bootstrap=False, max_depth=40, max_features=auto, min_samples_leaf=4, min_samples_split=2, n_estimators=150; total time=   0.4s\n",
      "[CV] END bootstrap=True, max_depth=100, max_features=sqrt, min_samples_leaf=1, min_samples_split=5, n_estimators=350; total time=   1.2s\n",
      "[CV] END bootstrap=False, max_depth=40, max_features=sqrt, min_samples_leaf=4, min_samples_split=5, n_estimators=150; total time=   0.4s\n",
      "[CV] END bootstrap=False, max_depth=40, max_features=auto, min_samples_leaf=1, min_samples_split=10, n_estimators=150; total time=   0.4s\n",
      "[CV] END bootstrap=False, max_depth=100, max_features=auto, min_samples_leaf=2, min_samples_split=10, n_estimators=250; total time=   0.7s\n",
      "[CV] END bootstrap=True, max_depth=40, max_features=sqrt, min_samples_leaf=1, min_samples_split=2, n_estimators=250; total time=   0.9s\n",
      "[CV] END bootstrap=False, max_depth=60, max_features=sqrt, min_samples_leaf=4, min_samples_split=5, n_estimators=50; total time=   0.2s\n"
     ]
    },
    {
     "name": "stdout",
     "output_type": "stream",
     "text": [
      "[CV] END bootstrap=True, max_depth=60, max_features=sqrt, min_samples_leaf=2, min_samples_split=5, n_estimators=250; total time=   0.8s\n",
      "[CV] END bootstrap=True, max_depth=20, max_features=auto, min_samples_leaf=2, min_samples_split=10, n_estimators=350; total time=   1.1s\n",
      "[CV] END bootstrap=False, max_depth=20, max_features=sqrt, min_samples_leaf=2, min_samples_split=5, n_estimators=150; total time=   0.4s\n",
      "[CV] END bootstrap=True, max_depth=None, max_features=auto, min_samples_leaf=4, min_samples_split=10, n_estimators=150; total time=   0.4s\n",
      "[CV] END bootstrap=False, max_depth=60, max_features=sqrt, min_samples_leaf=2, min_samples_split=5, n_estimators=350; total time=   1.0s\n",
      "[CV] END bootstrap=False, max_depth=None, max_features=sqrt, min_samples_leaf=2, min_samples_split=10, n_estimators=150; total time=   0.5s\n",
      "[CV] END bootstrap=False, max_depth=80, max_features=auto, min_samples_leaf=2, min_samples_split=5, n_estimators=50; total time=   0.2s\n",
      "[CV] END bootstrap=False, max_depth=20, max_features=sqrt, min_samples_leaf=4, min_samples_split=10, n_estimators=50; total time=   0.2s\n",
      "[CV] END bootstrap=False, max_depth=20, max_features=sqrt, min_samples_leaf=4, min_samples_split=10, n_estimators=50; total time=   0.2s\n",
      "[CV] END bootstrap=False, max_depth=60, max_features=auto, min_samples_leaf=1, min_samples_split=5, n_estimators=150; total time=   0.4s\n",
      "[CV] END bootstrap=False, max_depth=20, max_features=auto, min_samples_leaf=4, min_samples_split=2, n_estimators=150; total time=   0.5s\n",
      "[CV] END bootstrap=True, max_depth=40, max_features=sqrt, min_samples_leaf=4, min_samples_split=5, n_estimators=150; total time=   0.4s\n",
      "[CV] END bootstrap=True, max_depth=None, max_features=auto, min_samples_leaf=1, min_samples_split=2, n_estimators=150; total time=   0.5s\n",
      "[CV] END bootstrap=True, max_depth=100, max_features=sqrt, min_samples_leaf=1, min_samples_split=2, n_estimators=250; total time=   0.9s\n",
      "[CV] END bootstrap=True, max_depth=None, max_features=auto, min_samples_leaf=1, min_samples_split=2, n_estimators=350; total time=   1.1s\n",
      "[CV] END bootstrap=True, max_depth=40, max_features=sqrt, min_samples_leaf=4, min_samples_split=5, n_estimators=350; total time=   1.0s\n",
      "[CV] END bootstrap=True, max_depth=60, max_features=sqrt, min_samples_leaf=4, min_samples_split=5, n_estimators=150; total time=   0.4s\n",
      "[CV] END bootstrap=True, max_depth=100, max_features=auto, min_samples_leaf=2, min_samples_split=2, n_estimators=250; total time=   0.7s\n",
      "[CV] END bootstrap=True, max_depth=20, max_features=sqrt, min_samples_leaf=1, min_samples_split=2, n_estimators=350; total time=   1.1s\n",
      "[CV] END bootstrap=True, max_depth=100, max_features=sqrt, min_samples_leaf=1, min_samples_split=10, n_estimators=50; total time=   0.1s\n",
      "[CV] END bootstrap=True, max_depth=20, max_features=auto, min_samples_leaf=4, min_samples_split=5, n_estimators=250; total time=   0.7s\n",
      "[CV] END bootstrap=False, max_depth=None, max_features=auto, min_samples_leaf=4, min_samples_split=10, n_estimators=350; total time=   0.8s\n",
      "[CV] END bootstrap=True, max_depth=100, max_features=sqrt, min_samples_leaf=4, min_samples_split=2, n_estimators=350; total time=   1.1s\n",
      "[CV] END bootstrap=True, max_depth=80, max_features=sqrt, min_samples_leaf=4, min_samples_split=5, n_estimators=150; total time=   0.5s\n",
      "[CV] END bootstrap=False, max_depth=None, max_features=sqrt, min_samples_leaf=4, min_samples_split=5, n_estimators=350; total time=   1.0s\n",
      "[CV] END bootstrap=False, max_depth=20, max_features=auto, min_samples_leaf=1, min_samples_split=10, n_estimators=250; total time=   0.7s\n",
      "[CV] END bootstrap=False, max_depth=60, max_features=sqrt, min_samples_leaf=4, min_samples_split=2, n_estimators=250; total time=   0.7s\n",
      "[CV] END bootstrap=False, max_depth=100, max_features=sqrt, min_samples_leaf=1, min_samples_split=5, n_estimators=50; total time=   0.2s\n",
      "[CV] END bootstrap=False, max_depth=80, max_features=auto, min_samples_leaf=4, min_samples_split=2, n_estimators=150; total time=   0.5s\n",
      "[CV] END bootstrap=False, max_depth=60, max_features=sqrt, min_samples_leaf=2, min_samples_split=10, n_estimators=150; total time=   0.4s\n",
      "[CV] END bootstrap=True, max_depth=20, max_features=sqrt, min_samples_leaf=4, min_samples_split=2, n_estimators=350; total time=   1.2s\n",
      "[CV] END bootstrap=False, max_depth=80, max_features=auto, min_samples_leaf=4, min_samples_split=2, n_estimators=50; total time=   0.2s\n",
      "[CV] END bootstrap=True, max_depth=40, max_features=sqrt, min_samples_leaf=2, min_samples_split=2, n_estimators=50; total time=   0.2s\n",
      "[CV] END bootstrap=False, max_depth=40, max_features=sqrt, min_samples_leaf=4, min_samples_split=5, n_estimators=150; total time=   0.4s\n",
      "[CV] END bootstrap=False, max_depth=40, max_features=auto, min_samples_leaf=1, min_samples_split=10, n_estimators=150; total time=   0.4s\n",
      "[CV] END bootstrap=False, max_depth=80, max_features=sqrt, min_samples_leaf=4, min_samples_split=2, n_estimators=50; total time=   0.1s\n",
      "[CV] END bootstrap=True, max_depth=None, max_features=sqrt, min_samples_leaf=4, min_samples_split=5, n_estimators=250; total time=   0.9s\n",
      "[CV] END bootstrap=True, max_depth=40, max_features=sqrt, min_samples_leaf=1, min_samples_split=2, n_estimators=250; total time=   1.0s\n",
      "[CV] END bootstrap=False, max_depth=60, max_features=sqrt, min_samples_leaf=4, min_samples_split=5, n_estimators=50; total time=   0.1s\n",
      "[CV] END bootstrap=False, max_depth=60, max_features=sqrt, min_samples_leaf=2, min_samples_split=10, n_estimators=350; total time=   1.0s\n",
      "[CV] END bootstrap=True, max_depth=100, max_features=auto, min_samples_leaf=1, min_samples_split=10, n_estimators=350; total time=   1.0s\n",
      "[CV] END bootstrap=False, max_depth=60, max_features=sqrt, min_samples_leaf=2, min_samples_split=2, n_estimators=150; total time=   0.4s\n",
      "[CV] END bootstrap=False, max_depth=100, max_features=sqrt, min_samples_leaf=2, min_samples_split=10, n_estimators=250; total time=   0.6s\n",
      "[CV] END bootstrap=False, max_depth=80, max_features=auto, min_samples_leaf=4, min_samples_split=10, n_estimators=250; total time=   0.7s\n",
      "[CV] END bootstrap=False, max_depth=80, max_features=sqrt, min_samples_leaf=4, min_samples_split=10, n_estimators=50; total time=   0.2s\n",
      "[CV] END bootstrap=False, max_depth=80, max_features=sqrt, min_samples_leaf=4, min_samples_split=10, n_estimators=50; total time=   0.1s\n",
      "[CV] END bootstrap=True, max_depth=40, max_features=auto, min_samples_leaf=4, min_samples_split=2, n_estimators=50; total time=   0.2s\n",
      "[CV] END bootstrap=False, max_depth=80, max_features=auto, min_samples_leaf=1, min_samples_split=10, n_estimators=350; total time=   1.0s\n",
      "[CV] END bootstrap=False, max_depth=20, max_features=auto, min_samples_leaf=4, min_samples_split=2, n_estimators=150; total time=   0.4s\n",
      "[CV] END bootstrap=True, max_depth=80, max_features=auto, min_samples_leaf=4, min_samples_split=10, n_estimators=250; total time=   0.8s\n",
      "[CV] END bootstrap=True, max_depth=100, max_features=sqrt, min_samples_leaf=1, min_samples_split=2, n_estimators=250; total time=   0.9s\n",
      "[CV] END bootstrap=False, max_depth=None, max_features=auto, min_samples_leaf=4, min_samples_split=2, n_estimators=250; total time=   0.6s\n",
      "[CV] END bootstrap=False, max_depth=None, max_features=auto, min_samples_leaf=2, min_samples_split=5, n_estimators=350; total time=   0.9s\n",
      "[CV] END bootstrap=True, max_depth=40, max_features=sqrt, min_samples_leaf=4, min_samples_split=5, n_estimators=350; total time=   1.0s\n",
      "[CV] END bootstrap=True, max_depth=100, max_features=auto, min_samples_leaf=2, min_samples_split=2, n_estimators=250; total time=   0.7s\n",
      "[CV] END bootstrap=True, max_depth=20, max_features=sqrt, min_samples_leaf=1, min_samples_split=2, n_estimators=350; total time=   1.1s\n",
      "[CV] END bootstrap=True, max_depth=100, max_features=sqrt, min_samples_leaf=1, min_samples_split=10, n_estimators=50; total time=   0.1s\n",
      "[CV] END bootstrap=True, max_depth=100, max_features=sqrt, min_samples_leaf=2, min_samples_split=2, n_estimators=250; total time=   0.7s\n",
      "[CV] END bootstrap=False, max_depth=None, max_features=auto, min_samples_leaf=4, min_samples_split=5, n_estimators=250; total time=   0.6s\n",
      "[CV] END bootstrap=True, max_depth=None, max_features=sqrt, min_samples_leaf=2, min_samples_split=10, n_estimators=50; total time=   0.1s\n",
      "[CV] END bootstrap=False, max_depth=80, max_features=sqrt, min_samples_leaf=2, min_samples_split=10, n_estimators=50; total time=   0.1s\n",
      "[CV] END bootstrap=True, max_depth=100, max_features=sqrt, min_samples_leaf=1, min_samples_split=10, n_estimators=150; total time=   0.4s\n",
      "[CV] END bootstrap=False, max_depth=20, max_features=auto, min_samples_leaf=4, min_samples_split=10, n_estimators=350; total time=   0.9s\n",
      "[CV] END bootstrap=True, max_depth=20, max_features=sqrt, min_samples_leaf=4, min_samples_split=5, n_estimators=250; total time=   0.8s\n",
      "[CV] END bootstrap=False, max_depth=60, max_features=sqrt, min_samples_leaf=4, min_samples_split=10, n_estimators=50; total time=   0.1s\n",
      "[CV] END bootstrap=False, max_depth=None, max_features=auto, min_samples_leaf=1, min_samples_split=5, n_estimators=50; total time=   0.2s\n",
      "[CV] END bootstrap=True, max_depth=80, max_features=sqrt, min_samples_leaf=1, min_samples_split=5, n_estimators=350; total time=   1.2s\n",
      "[CV] END bootstrap=False, max_depth=None, max_features=sqrt, min_samples_leaf=2, min_samples_split=2, n_estimators=250; total time=   0.8s\n",
      "[CV] END bootstrap=False, max_depth=40, max_features=sqrt, min_samples_leaf=1, min_samples_split=5, n_estimators=50; total time=   0.2s\n",
      "[CV] END bootstrap=False, max_depth=60, max_features=sqrt, min_samples_leaf=2, min_samples_split=10, n_estimators=150; total time=   0.4s\n",
      "[CV] END bootstrap=False, max_depth=100, max_features=sqrt, min_samples_leaf=4, min_samples_split=10, n_estimators=250; total time=   0.7s\n",
      "[CV] END bootstrap=True, max_depth=100, max_features=sqrt, min_samples_leaf=1, min_samples_split=5, n_estimators=350; total time=   1.2s\n",
      "[CV] END bootstrap=True, max_depth=80, max_features=sqrt, min_samples_leaf=2, min_samples_split=2, n_estimators=250; total time=   0.8s\n",
      "[CV] END bootstrap=False, max_depth=40, max_features=auto, min_samples_leaf=2, min_samples_split=5, n_estimators=350; total time=   1.1s\n",
      "[CV] END bootstrap=False, max_depth=60, max_features=sqrt, min_samples_leaf=2, min_samples_split=10, n_estimators=250; total time=   0.7s\n"
     ]
    },
    {
     "name": "stdout",
     "output_type": "stream",
     "text": [
      "[CV] END bootstrap=True, max_depth=60, max_features=sqrt, min_samples_leaf=2, min_samples_split=5, n_estimators=250; total time=   0.8s\n",
      "[CV] END bootstrap=True, max_depth=20, max_features=auto, min_samples_leaf=2, min_samples_split=10, n_estimators=350; total time=   1.1s\n",
      "[CV] END bootstrap=True, max_depth=100, max_features=auto, min_samples_leaf=1, min_samples_split=10, n_estimators=250; total time=   0.7s\n",
      "[CV] END bootstrap=False, max_depth=60, max_features=sqrt, min_samples_leaf=2, min_samples_split=5, n_estimators=350; total time=   1.0s\n",
      "[CV] END bootstrap=True, max_depth=20, max_features=sqrt, min_samples_leaf=4, min_samples_split=5, n_estimators=350; total time=   1.2s\n",
      "[CV] END bootstrap=True, max_depth=40, max_features=auto, min_samples_leaf=2, min_samples_split=2, n_estimators=250; total time=   0.8s\n",
      "[CV] END bootstrap=True, max_depth=None, max_features=sqrt, min_samples_leaf=2, min_samples_split=2, n_estimators=350; total time=   1.2s\n",
      "[CV] END bootstrap=False, max_depth=None, max_features=auto, min_samples_leaf=4, min_samples_split=2, n_estimators=250; total time=   0.7s\n",
      "[CV] END bootstrap=False, max_depth=40, max_features=auto, min_samples_leaf=2, min_samples_split=5, n_estimators=250; total time=   0.7s\n",
      "[CV] END bootstrap=True, max_depth=80, max_features=auto, min_samples_leaf=2, min_samples_split=10, n_estimators=350; total time=   1.0s\n",
      "[CV] END bootstrap=False, max_depth=40, max_features=auto, min_samples_leaf=2, min_samples_split=10, n_estimators=150; total time=   0.4s\n",
      "[CV] END bootstrap=True, max_depth=None, max_features=auto, min_samples_leaf=2, min_samples_split=5, n_estimators=150; total time=   0.4s\n",
      "[CV] END bootstrap=True, max_depth=100, max_features=auto, min_samples_leaf=1, min_samples_split=2, n_estimators=350; total time=   1.1s\n",
      "[CV] END bootstrap=False, max_depth=60, max_features=auto, min_samples_leaf=4, min_samples_split=2, n_estimators=150; total time=   0.4s\n",
      "[CV] END bootstrap=False, max_depth=60, max_features=auto, min_samples_leaf=4, min_samples_split=2, n_estimators=150; total time=   0.4s\n",
      "[CV] END bootstrap=True, max_depth=20, max_features=auto, min_samples_leaf=4, min_samples_split=5, n_estimators=250; total time=   0.7s\n",
      "[CV] END bootstrap=False, max_depth=None, max_features=auto, min_samples_leaf=4, min_samples_split=5, n_estimators=250; total time=   0.6s\n",
      "[CV] END bootstrap=True, max_depth=None, max_features=sqrt, min_samples_leaf=2, min_samples_split=10, n_estimators=50; total time=   0.1s\n",
      "[CV] END bootstrap=True, max_depth=100, max_features=sqrt, min_samples_leaf=4, min_samples_split=2, n_estimators=350; total time=   1.1s\n",
      "[CV] END bootstrap=True, max_depth=None, max_features=auto, min_samples_leaf=1, min_samples_split=10, n_estimators=50; total time=   0.2s\n",
      "[CV] END bootstrap=True, max_depth=20, max_features=sqrt, min_samples_leaf=4, min_samples_split=5, n_estimators=250; total time=   0.8s\n",
      "[CV] END bootstrap=False, max_depth=60, max_features=sqrt, min_samples_leaf=4, min_samples_split=10, n_estimators=50; total time=   0.2s\n",
      "[CV] END bootstrap=False, max_depth=60, max_features=sqrt, min_samples_leaf=4, min_samples_split=10, n_estimators=50; total time=   0.1s\n",
      "[CV] END bootstrap=False, max_depth=None, max_features=auto, min_samples_leaf=1, min_samples_split=5, n_estimators=50; total time=   0.2s\n",
      "[CV] END bootstrap=True, max_depth=80, max_features=sqrt, min_samples_leaf=1, min_samples_split=5, n_estimators=350; total time=   1.2s\n",
      "[CV] END bootstrap=False, max_depth=80, max_features=auto, min_samples_leaf=1, min_samples_split=2, n_estimators=250; total time=   0.8s\n",
      "[CV] END bootstrap=False, max_depth=80, max_features=auto, min_samples_leaf=4, min_samples_split=2, n_estimators=150; total time=   0.4s\n",
      "[CV] END bootstrap=True, max_depth=20, max_features=sqrt, min_samples_leaf=4, min_samples_split=2, n_estimators=350; total time=   1.1s\n",
      "[CV] END bootstrap=True, max_depth=20, max_features=sqrt, min_samples_leaf=4, min_samples_split=5, n_estimators=150; total time=   0.5s\n",
      "[CV] END bootstrap=True, max_depth=40, max_features=auto, min_samples_leaf=1, min_samples_split=5, n_estimators=250; total time=   0.8s\n",
      "[CV] END bootstrap=False, max_depth=40, max_features=auto, min_samples_leaf=1, min_samples_split=10, n_estimators=150; total time=   0.4s\n",
      "[CV] END bootstrap=False, max_depth=100, max_features=auto, min_samples_leaf=2, min_samples_split=10, n_estimators=250; total time=   0.8s\n",
      "[CV] END bootstrap=False, max_depth=60, max_features=sqrt, min_samples_leaf=2, min_samples_split=10, n_estimators=250; total time=   0.8s\n",
      "[CV] END bootstrap=True, max_depth=20, max_features=sqrt, min_samples_leaf=2, min_samples_split=2, n_estimators=150; total time=   0.5s\n",
      "[CV] END bootstrap=False, max_depth=100, max_features=auto, min_samples_leaf=1, min_samples_split=2, n_estimators=50; total time=   0.2s\n",
      "[CV] END bootstrap=True, max_depth=100, max_features=auto, min_samples_leaf=2, min_samples_split=10, n_estimators=150; total time=   0.5s\n",
      "[CV] END bootstrap=True, max_depth=100, max_features=auto, min_samples_leaf=2, min_samples_split=10, n_estimators=150; total time=   0.5s\n",
      "[CV] END bootstrap=False, max_depth=60, max_features=auto, min_samples_leaf=2, min_samples_split=5, n_estimators=150; total time=   0.4s\n",
      "[CV] END bootstrap=True, max_depth=100, max_features=auto, min_samples_leaf=1, min_samples_split=10, n_estimators=250; total time=   0.8s\n",
      "[CV] END bootstrap=False, max_depth=60, max_features=sqrt, min_samples_leaf=2, min_samples_split=2, n_estimators=150; total time=   0.4s\n",
      "[CV] END bootstrap=False, max_depth=60, max_features=sqrt, min_samples_leaf=2, min_samples_split=5, n_estimators=350; total time=   1.0s\n",
      "[CV] END bootstrap=False, max_depth=None, max_features=sqrt, min_samples_leaf=2, min_samples_split=10, n_estimators=150; total time=   0.4s\n",
      "[CV] END bootstrap=True, max_depth=40, max_features=auto, min_samples_leaf=4, min_samples_split=2, n_estimators=50; total time=   0.2s\n",
      "[CV] END bootstrap=False, max_depth=80, max_features=auto, min_samples_leaf=2, min_samples_split=5, n_estimators=50; total time=   0.2s\n",
      "[CV] END bootstrap=False, max_depth=20, max_features=sqrt, min_samples_leaf=4, min_samples_split=10, n_estimators=50; total time=   0.2s\n",
      "[CV] END bootstrap=False, max_depth=60, max_features=auto, min_samples_leaf=1, min_samples_split=5, n_estimators=150; total time=   0.4s\n",
      "[CV] END bootstrap=True, max_depth=40, max_features=auto, min_samples_leaf=2, min_samples_split=2, n_estimators=250; total time=   0.8s\n",
      "[CV] END bootstrap=True, max_depth=None, max_features=auto, min_samples_leaf=1, min_samples_split=2, n_estimators=150; total time=   0.5s\n",
      "[CV] END bootstrap=True, max_depth=None, max_features=auto, min_samples_leaf=1, min_samples_split=2, n_estimators=150; total time=   0.6s\n",
      "[CV] END bootstrap=False, max_depth=None, max_features=auto, min_samples_leaf=4, min_samples_split=2, n_estimators=250; total time=   0.7s\n",
      "[CV] END bootstrap=True, max_depth=40, max_features=sqrt, min_samples_leaf=4, min_samples_split=5, n_estimators=50; total time=   0.1s\n",
      "[CV] END bootstrap=True, max_depth=40, max_features=sqrt, min_samples_leaf=4, min_samples_split=5, n_estimators=50; total time=   0.1s\n",
      "[CV] END bootstrap=True, max_depth=40, max_features=sqrt, min_samples_leaf=4, min_samples_split=5, n_estimators=50; total time=   0.2s\n",
      "[CV] END bootstrap=False, max_depth=None, max_features=auto, min_samples_leaf=2, min_samples_split=5, n_estimators=350; total time=   0.9s\n",
      "[CV] END bootstrap=False, max_depth=40, max_features=auto, min_samples_leaf=2, min_samples_split=10, n_estimators=150; total time=   0.4s\n",
      "[CV] END bootstrap=False, max_depth=100, max_features=auto, min_samples_leaf=4, min_samples_split=5, n_estimators=150; total time=   0.4s\n",
      "[CV] END bootstrap=True, max_depth=None, max_features=auto, min_samples_leaf=2, min_samples_split=5, n_estimators=150; total time=   0.4s\n",
      "[CV] END bootstrap=True, max_depth=60, max_features=sqrt, min_samples_leaf=4, min_samples_split=5, n_estimators=250; total time=   0.7s\n",
      "[CV] END bootstrap=True, max_depth=None, max_features=auto, min_samples_leaf=2, min_samples_split=2, n_estimators=350; total time=   1.1s\n",
      "[CV] END bootstrap=True, max_depth=20, max_features=auto, min_samples_leaf=4, min_samples_split=5, n_estimators=250; total time=   0.7s\n",
      "[CV] END bootstrap=False, max_depth=None, max_features=auto, min_samples_leaf=4, min_samples_split=10, n_estimators=350; total time=   0.8s\n",
      "[CV] END bootstrap=False, max_depth=60, max_features=auto, min_samples_leaf=4, min_samples_split=2, n_estimators=250; total time=   0.6s\n",
      "[CV] END bootstrap=False, max_depth=20, max_features=auto, min_samples_leaf=4, min_samples_split=10, n_estimators=350; total time=   0.9s\n",
      "[CV] END bootstrap=False, max_depth=60, max_features=auto, min_samples_leaf=2, min_samples_split=2, n_estimators=350; total time=   1.0s\n",
      "[CV] END bootstrap=False, max_depth=60, max_features=sqrt, min_samples_leaf=4, min_samples_split=2, n_estimators=50; total time=   0.2s\n",
      "[CV] END bootstrap=False, max_depth=60, max_features=sqrt, min_samples_leaf=4, min_samples_split=2, n_estimators=50; total time=   0.1s\n",
      "[CV] END bootstrap=False, max_depth=60, max_features=sqrt, min_samples_leaf=4, min_samples_split=2, n_estimators=250; total time=   0.7s\n",
      "[CV] END bootstrap=False, max_depth=None, max_features=sqrt, min_samples_leaf=2, min_samples_split=2, n_estimators=250; total time=   0.7s\n",
      "[CV] END bootstrap=False, max_depth=40, max_features=sqrt, min_samples_leaf=1, min_samples_split=5, n_estimators=50; total time=   0.1s\n",
      "[CV] END bootstrap=False, max_depth=40, max_features=sqrt, min_samples_leaf=1, min_samples_split=5, n_estimators=50; total time=   0.2s\n",
      "[CV] END bootstrap=False, max_depth=60, max_features=sqrt, min_samples_leaf=2, min_samples_split=10, n_estimators=150; total time=   0.4s\n",
      "[CV] END bootstrap=False, max_depth=40, max_features=auto, min_samples_leaf=4, min_samples_split=2, n_estimators=150; total time=   0.4s\n",
      "[CV] END bootstrap=False, max_depth=40, max_features=auto, min_samples_leaf=4, min_samples_split=2, n_estimators=150; total time=   0.4s\n",
      "[CV] END bootstrap=False, max_depth=80, max_features=auto, min_samples_leaf=4, min_samples_split=2, n_estimators=50; total time=   0.1s\n",
      "[CV] END bootstrap=False, max_depth=80, max_features=auto, min_samples_leaf=4, min_samples_split=2, n_estimators=50; total time=   0.1s\n",
      "[CV] END bootstrap=True, max_depth=40, max_features=sqrt, min_samples_leaf=2, min_samples_split=2, n_estimators=50; total time=   0.2s\n",
      "[CV] END bootstrap=True, max_depth=40, max_features=auto, min_samples_leaf=1, min_samples_split=5, n_estimators=250; total time=   0.8s\n",
      "[CV] END bootstrap=False, max_depth=80, max_features=sqrt, min_samples_leaf=4, min_samples_split=2, n_estimators=50; total time=   0.1s\n",
      "[CV] END bootstrap=True, max_depth=None, max_features=sqrt, min_samples_leaf=4, min_samples_split=5, n_estimators=250; total time=   0.8s\n",
      "[CV] END bootstrap=True, max_depth=40, max_features=sqrt, min_samples_leaf=1, min_samples_split=2, n_estimators=250; total time=   0.9s\n",
      "[CV] END bootstrap=True, max_depth=20, max_features=sqrt, min_samples_leaf=2, min_samples_split=2, n_estimators=150; total time=   0.4s\n"
     ]
    }
   ],
   "source": [
    "y_pred_proba = clf.predict_proba(X_test)[::,1]\n",
    "fpr, tpr, _ = metrics.roc_curve(y_test,  y_pred_proba)\n",
    "auc = metrics.roc_auc_score(y_test, y_pred_proba)\n",
    "plt.plot(fpr,tpr,label=\"auc=\"+str(round(auc,4)))\n",
    "plt.legend(loc=4)\n",
    "plt.show()"
   ]
  },
  {
   "cell_type": "markdown",
   "metadata": {
    "id": "kGAPyRpQkEA-"
   },
   "source": [
    "By tuning hyperparameters, we improved previous best models accuracy about 1 pct point to 0,76 and auc about 2 pct points to 0,8, so the results are now very similar to logistic regression model."
   ]
  }
 ],
 "metadata": {
  "colab": {
   "collapsed_sections": [],
   "name": "FINAL Default Prediction - Malinovsky & Hybl.ipynb",
   "provenance": [],
   "toc_visible": true
  },
  "kernelspec": {
   "display_name": "Python 3 (ipykernel)",
   "language": "python",
   "name": "python3"
  },
  "language_info": {
   "codemirror_mode": {
    "name": "ipython",
    "version": 3
   },
   "file_extension": ".py",
   "mimetype": "text/x-python",
   "name": "python",
   "nbconvert_exporter": "python",
   "pygments_lexer": "ipython3",
   "version": "3.9.7"
  }
 },
 "nbformat": 4,
 "nbformat_minor": 1
}
